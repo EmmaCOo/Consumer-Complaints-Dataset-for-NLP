{
  "cells": [
    {
      "cell_type": "markdown",
      "metadata": {
        "id": "view-in-github",
        "colab_type": "text"
      },
      "source": [
        "<a href=\"https://colab.research.google.com/github/EmmaCOo/Consumer-Complaints-Dataset-for-NLP/blob/main/Final_Project.ipynb\" target=\"_parent\"><img src=\"https://colab.research.google.com/assets/colab-badge.svg\" alt=\"Open In Colab\"/></a>"
      ]
    },
    {
      "cell_type": "markdown",
      "metadata": {
        "id": "AdBbt6F3V2ba"
      },
      "source": [
        "#**Classification of Consumer Complaints Using Natural Language Processing (NLP)**\n",
        "\n",
        "##**Ivan Chavez, Emma Oo, and Andrew Kim**\n",
        "\n",
        "###**ADS-504 Summer 2022**\n",
        "\n",
        "###**August 14, 2022**\n",
        "\n"
      ]
    },
    {
      "cell_type": "code",
      "execution_count": 1,
      "metadata": {
        "colab": {
          "base_uri": "https://localhost:8080/"
        },
        "id": "EWyWNAT9wmZv",
        "outputId": "cf37bede-5a83-4c2d-bf77-dc6b7c7a09c7"
      },
      "outputs": [
        {
          "output_type": "stream",
          "name": "stdout",
          "text": [
            "Mounted at /content/drive\n"
          ]
        }
      ],
      "source": [
        "# Mount to shared drive\n",
        "from google.colab import drive\n",
        "drive.mount('/content/drive')"
      ]
    },
    {
      "cell_type": "code",
      "execution_count": 2,
      "metadata": {
        "colab": {
          "base_uri": "https://localhost:8080/"
        },
        "id": "dUrPqnEUhJvG",
        "outputId": "50692d3f-a7f4-4f6f-bafc-92995113f82c"
      },
      "outputs": [
        {
          "output_type": "stream",
          "name": "stderr",
          "text": [
            "[nltk_data] Downloading package punkt to /root/nltk_data...\n",
            "[nltk_data]   Unzipping tokenizers/punkt.zip.\n",
            "[nltk_data] Downloading package stopwords to /root/nltk_data...\n",
            "[nltk_data]   Unzipping corpora/stopwords.zip.\n",
            "[nltk_data] Downloading package wordnet to /root/nltk_data...\n",
            "[nltk_data] Downloading package omw-1.4 to /root/nltk_data...\n"
          ]
        }
      ],
      "source": [
        "# import libraries\n",
        "\n",
        "import pandas as pd\n",
        "import numpy as np\n",
        "import json\n",
        "import os\n",
        "import matplotlib.pyplot as plt\n",
        "import seaborn as sns\n",
        "from sklearn.preprocessing import OneHotEncoder, OrdinalEncoder, LabelEncoder, StandardScaler, Normalizer\n",
        "from sklearn.metrics import confusion_matrix, accuracy_score, plot_confusion_matrix, classification_report\n",
        "from sklearn.model_selection import train_test_split, cross_val_score\n",
        "from sklearn.pipeline import make_pipeline, Pipeline\n",
        "from sklearn.feature_extraction.text import TfidfVectorizer\n",
        "from sklearn.ensemble import RandomForestClassifier\n",
        "from collections import Counter\n",
        "import nltk\n",
        "nltk.download('punkt')\n",
        "nltk.download('stopwords')\n",
        "nltk.download('wordnet')\n",
        "nltk.download('omw-1.4')\n",
        "import string\n",
        "from nltk.tokenize import word_tokenize\n",
        "import re\n",
        "import warnings\n",
        "warnings.filterwarnings('ignore')\n",
        "warnings.simplefilter(action='ignore', category=FutureWarning)\n"
      ]
    },
    {
      "cell_type": "markdown",
      "metadata": {
        "id": "fmpqtfmjjRwa"
      },
      "source": [
        "### Load data set"
      ]
    },
    {
      "cell_type": "code",
      "execution_count": 3,
      "metadata": {
        "colab": {
          "base_uri": "https://localhost:8080/",
          "height": 206
        },
        "id": "pSEQMa18jVuc",
        "outputId": "9a89f64a-f2f5-4553-ace4-6b70c363da95"
      },
      "outputs": [
        {
          "output_type": "execute_result",
          "data": {
            "text/plain": [
              "   Unnamed: 0           product  \\\n",
              "0           0       credit_card   \n",
              "1           1       credit_card   \n",
              "2           2    retail_banking   \n",
              "3           3  credit_reporting   \n",
              "4           4  credit_reporting   \n",
              "\n",
              "                                           narrative  \n",
              "0  purchase order day shipping amount receive pro...  \n",
              "1  forwarded message date tue subject please inve...  \n",
              "2  forwarded message cc sent friday pdt subject f...  \n",
              "3  payment history missing credit report speciali...  \n",
              "4  payment history missing credit report made mis...  "
            ],
            "text/html": [
              "\n",
              "  <div id=\"df-bc207392-9751-43dd-b9c6-2ccb188db17e\">\n",
              "    <div class=\"colab-df-container\">\n",
              "      <div>\n",
              "<style scoped>\n",
              "    .dataframe tbody tr th:only-of-type {\n",
              "        vertical-align: middle;\n",
              "    }\n",
              "\n",
              "    .dataframe tbody tr th {\n",
              "        vertical-align: top;\n",
              "    }\n",
              "\n",
              "    .dataframe thead th {\n",
              "        text-align: right;\n",
              "    }\n",
              "</style>\n",
              "<table border=\"1\" class=\"dataframe\">\n",
              "  <thead>\n",
              "    <tr style=\"text-align: right;\">\n",
              "      <th></th>\n",
              "      <th>Unnamed: 0</th>\n",
              "      <th>product</th>\n",
              "      <th>narrative</th>\n",
              "    </tr>\n",
              "  </thead>\n",
              "  <tbody>\n",
              "    <tr>\n",
              "      <th>0</th>\n",
              "      <td>0</td>\n",
              "      <td>credit_card</td>\n",
              "      <td>purchase order day shipping amount receive pro...</td>\n",
              "    </tr>\n",
              "    <tr>\n",
              "      <th>1</th>\n",
              "      <td>1</td>\n",
              "      <td>credit_card</td>\n",
              "      <td>forwarded message date tue subject please inve...</td>\n",
              "    </tr>\n",
              "    <tr>\n",
              "      <th>2</th>\n",
              "      <td>2</td>\n",
              "      <td>retail_banking</td>\n",
              "      <td>forwarded message cc sent friday pdt subject f...</td>\n",
              "    </tr>\n",
              "    <tr>\n",
              "      <th>3</th>\n",
              "      <td>3</td>\n",
              "      <td>credit_reporting</td>\n",
              "      <td>payment history missing credit report speciali...</td>\n",
              "    </tr>\n",
              "    <tr>\n",
              "      <th>4</th>\n",
              "      <td>4</td>\n",
              "      <td>credit_reporting</td>\n",
              "      <td>payment history missing credit report made mis...</td>\n",
              "    </tr>\n",
              "  </tbody>\n",
              "</table>\n",
              "</div>\n",
              "      <button class=\"colab-df-convert\" onclick=\"convertToInteractive('df-bc207392-9751-43dd-b9c6-2ccb188db17e')\"\n",
              "              title=\"Convert this dataframe to an interactive table.\"\n",
              "              style=\"display:none;\">\n",
              "        \n",
              "  <svg xmlns=\"http://www.w3.org/2000/svg\" height=\"24px\"viewBox=\"0 0 24 24\"\n",
              "       width=\"24px\">\n",
              "    <path d=\"M0 0h24v24H0V0z\" fill=\"none\"/>\n",
              "    <path d=\"M18.56 5.44l.94 2.06.94-2.06 2.06-.94-2.06-.94-.94-2.06-.94 2.06-2.06.94zm-11 1L8.5 8.5l.94-2.06 2.06-.94-2.06-.94L8.5 2.5l-.94 2.06-2.06.94zm10 10l.94 2.06.94-2.06 2.06-.94-2.06-.94-.94-2.06-.94 2.06-2.06.94z\"/><path d=\"M17.41 7.96l-1.37-1.37c-.4-.4-.92-.59-1.43-.59-.52 0-1.04.2-1.43.59L10.3 9.45l-7.72 7.72c-.78.78-.78 2.05 0 2.83L4 21.41c.39.39.9.59 1.41.59.51 0 1.02-.2 1.41-.59l7.78-7.78 2.81-2.81c.8-.78.8-2.07 0-2.86zM5.41 20L4 18.59l7.72-7.72 1.47 1.35L5.41 20z\"/>\n",
              "  </svg>\n",
              "      </button>\n",
              "      \n",
              "  <style>\n",
              "    .colab-df-container {\n",
              "      display:flex;\n",
              "      flex-wrap:wrap;\n",
              "      gap: 12px;\n",
              "    }\n",
              "\n",
              "    .colab-df-convert {\n",
              "      background-color: #E8F0FE;\n",
              "      border: none;\n",
              "      border-radius: 50%;\n",
              "      cursor: pointer;\n",
              "      display: none;\n",
              "      fill: #1967D2;\n",
              "      height: 32px;\n",
              "      padding: 0 0 0 0;\n",
              "      width: 32px;\n",
              "    }\n",
              "\n",
              "    .colab-df-convert:hover {\n",
              "      background-color: #E2EBFA;\n",
              "      box-shadow: 0px 1px 2px rgba(60, 64, 67, 0.3), 0px 1px 3px 1px rgba(60, 64, 67, 0.15);\n",
              "      fill: #174EA6;\n",
              "    }\n",
              "\n",
              "    [theme=dark] .colab-df-convert {\n",
              "      background-color: #3B4455;\n",
              "      fill: #D2E3FC;\n",
              "    }\n",
              "\n",
              "    [theme=dark] .colab-df-convert:hover {\n",
              "      background-color: #434B5C;\n",
              "      box-shadow: 0px 1px 3px 1px rgba(0, 0, 0, 0.15);\n",
              "      filter: drop-shadow(0px 1px 2px rgba(0, 0, 0, 0.3));\n",
              "      fill: #FFFFFF;\n",
              "    }\n",
              "  </style>\n",
              "\n",
              "      <script>\n",
              "        const buttonEl =\n",
              "          document.querySelector('#df-bc207392-9751-43dd-b9c6-2ccb188db17e button.colab-df-convert');\n",
              "        buttonEl.style.display =\n",
              "          google.colab.kernel.accessAllowed ? 'block' : 'none';\n",
              "\n",
              "        async function convertToInteractive(key) {\n",
              "          const element = document.querySelector('#df-bc207392-9751-43dd-b9c6-2ccb188db17e');\n",
              "          const dataTable =\n",
              "            await google.colab.kernel.invokeFunction('convertToInteractive',\n",
              "                                                     [key], {});\n",
              "          if (!dataTable) return;\n",
              "\n",
              "          const docLinkHtml = 'Like what you see? Visit the ' +\n",
              "            '<a target=\"_blank\" href=https://colab.research.google.com/notebooks/data_table.ipynb>data table notebook</a>'\n",
              "            + ' to learn more about interactive tables.';\n",
              "          element.innerHTML = '';\n",
              "          dataTable['output_type'] = 'display_data';\n",
              "          await google.colab.output.renderOutput(dataTable, element);\n",
              "          const docLink = document.createElement('div');\n",
              "          docLink.innerHTML = docLinkHtml;\n",
              "          element.appendChild(docLink);\n",
              "        }\n",
              "      </script>\n",
              "    </div>\n",
              "  </div>\n",
              "  "
            ]
          },
          "metadata": {},
          "execution_count": 3
        }
      ],
      "source": [
        "df = pd.read_csv('/content/drive/MyDrive/ADS504_MachineLearning_GroupProject/Colab Notebooks/Data/complaints_processed.csv')\n",
        "df.head()"
      ]
    },
    {
      "cell_type": "markdown",
      "metadata": {
        "id": "mTROvR2gZSIG"
      },
      "source": [
        "###**DATA PREPROCESSING**"
      ]
    },
    {
      "cell_type": "markdown",
      "metadata": {
        "id": "1rB8XygbkFxO"
      },
      "source": [
        "### The 'product' will be the the target label and 'narrative' will be the features."
      ]
    },
    {
      "cell_type": "code",
      "execution_count": 4,
      "metadata": {
        "colab": {
          "base_uri": "https://localhost:8080/",
          "height": 300
        },
        "id": "hEp4OV5wjvc_",
        "outputId": "d92e4b21-9c24-41ff-f77d-ea5171fa05ad"
      },
      "outputs": [
        {
          "output_type": "execute_result",
          "data": {
            "text/plain": [
              "                    product                                          narrative\n",
              "162413  mortgages_and_loans  zillow home loan nmls nmls actual quote provid...\n",
              "162414      debt_collection  zuntafi sent notice willing settle defaulted s...\n",
              "162415      debt_collection                                               name\n",
              "162416      debt_collection                                               name\n",
              "162417          credit_card                                               name\n",
              "162418      debt_collection                                               name\n",
              "162419          credit_card                                               name\n",
              "162420     credit_reporting                                               name"
            ],
            "text/html": [
              "\n",
              "  <div id=\"df-8c4ba556-ef7b-422c-9c4f-05524d2084fb\">\n",
              "    <div class=\"colab-df-container\">\n",
              "      <div>\n",
              "<style scoped>\n",
              "    .dataframe tbody tr th:only-of-type {\n",
              "        vertical-align: middle;\n",
              "    }\n",
              "\n",
              "    .dataframe tbody tr th {\n",
              "        vertical-align: top;\n",
              "    }\n",
              "\n",
              "    .dataframe thead th {\n",
              "        text-align: right;\n",
              "    }\n",
              "</style>\n",
              "<table border=\"1\" class=\"dataframe\">\n",
              "  <thead>\n",
              "    <tr style=\"text-align: right;\">\n",
              "      <th></th>\n",
              "      <th>product</th>\n",
              "      <th>narrative</th>\n",
              "    </tr>\n",
              "  </thead>\n",
              "  <tbody>\n",
              "    <tr>\n",
              "      <th>162413</th>\n",
              "      <td>mortgages_and_loans</td>\n",
              "      <td>zillow home loan nmls nmls actual quote provid...</td>\n",
              "    </tr>\n",
              "    <tr>\n",
              "      <th>162414</th>\n",
              "      <td>debt_collection</td>\n",
              "      <td>zuntafi sent notice willing settle defaulted s...</td>\n",
              "    </tr>\n",
              "    <tr>\n",
              "      <th>162415</th>\n",
              "      <td>debt_collection</td>\n",
              "      <td>name</td>\n",
              "    </tr>\n",
              "    <tr>\n",
              "      <th>162416</th>\n",
              "      <td>debt_collection</td>\n",
              "      <td>name</td>\n",
              "    </tr>\n",
              "    <tr>\n",
              "      <th>162417</th>\n",
              "      <td>credit_card</td>\n",
              "      <td>name</td>\n",
              "    </tr>\n",
              "    <tr>\n",
              "      <th>162418</th>\n",
              "      <td>debt_collection</td>\n",
              "      <td>name</td>\n",
              "    </tr>\n",
              "    <tr>\n",
              "      <th>162419</th>\n",
              "      <td>credit_card</td>\n",
              "      <td>name</td>\n",
              "    </tr>\n",
              "    <tr>\n",
              "      <th>162420</th>\n",
              "      <td>credit_reporting</td>\n",
              "      <td>name</td>\n",
              "    </tr>\n",
              "  </tbody>\n",
              "</table>\n",
              "</div>\n",
              "      <button class=\"colab-df-convert\" onclick=\"convertToInteractive('df-8c4ba556-ef7b-422c-9c4f-05524d2084fb')\"\n",
              "              title=\"Convert this dataframe to an interactive table.\"\n",
              "              style=\"display:none;\">\n",
              "        \n",
              "  <svg xmlns=\"http://www.w3.org/2000/svg\" height=\"24px\"viewBox=\"0 0 24 24\"\n",
              "       width=\"24px\">\n",
              "    <path d=\"M0 0h24v24H0V0z\" fill=\"none\"/>\n",
              "    <path d=\"M18.56 5.44l.94 2.06.94-2.06 2.06-.94-2.06-.94-.94-2.06-.94 2.06-2.06.94zm-11 1L8.5 8.5l.94-2.06 2.06-.94-2.06-.94L8.5 2.5l-.94 2.06-2.06.94zm10 10l.94 2.06.94-2.06 2.06-.94-2.06-.94-.94-2.06-.94 2.06-2.06.94z\"/><path d=\"M17.41 7.96l-1.37-1.37c-.4-.4-.92-.59-1.43-.59-.52 0-1.04.2-1.43.59L10.3 9.45l-7.72 7.72c-.78.78-.78 2.05 0 2.83L4 21.41c.39.39.9.59 1.41.59.51 0 1.02-.2 1.41-.59l7.78-7.78 2.81-2.81c.8-.78.8-2.07 0-2.86zM5.41 20L4 18.59l7.72-7.72 1.47 1.35L5.41 20z\"/>\n",
              "  </svg>\n",
              "      </button>\n",
              "      \n",
              "  <style>\n",
              "    .colab-df-container {\n",
              "      display:flex;\n",
              "      flex-wrap:wrap;\n",
              "      gap: 12px;\n",
              "    }\n",
              "\n",
              "    .colab-df-convert {\n",
              "      background-color: #E8F0FE;\n",
              "      border: none;\n",
              "      border-radius: 50%;\n",
              "      cursor: pointer;\n",
              "      display: none;\n",
              "      fill: #1967D2;\n",
              "      height: 32px;\n",
              "      padding: 0 0 0 0;\n",
              "      width: 32px;\n",
              "    }\n",
              "\n",
              "    .colab-df-convert:hover {\n",
              "      background-color: #E2EBFA;\n",
              "      box-shadow: 0px 1px 2px rgba(60, 64, 67, 0.3), 0px 1px 3px 1px rgba(60, 64, 67, 0.15);\n",
              "      fill: #174EA6;\n",
              "    }\n",
              "\n",
              "    [theme=dark] .colab-df-convert {\n",
              "      background-color: #3B4455;\n",
              "      fill: #D2E3FC;\n",
              "    }\n",
              "\n",
              "    [theme=dark] .colab-df-convert:hover {\n",
              "      background-color: #434B5C;\n",
              "      box-shadow: 0px 1px 3px 1px rgba(0, 0, 0, 0.15);\n",
              "      filter: drop-shadow(0px 1px 2px rgba(0, 0, 0, 0.3));\n",
              "      fill: #FFFFFF;\n",
              "    }\n",
              "  </style>\n",
              "\n",
              "      <script>\n",
              "        const buttonEl =\n",
              "          document.querySelector('#df-8c4ba556-ef7b-422c-9c4f-05524d2084fb button.colab-df-convert');\n",
              "        buttonEl.style.display =\n",
              "          google.colab.kernel.accessAllowed ? 'block' : 'none';\n",
              "\n",
              "        async function convertToInteractive(key) {\n",
              "          const element = document.querySelector('#df-8c4ba556-ef7b-422c-9c4f-05524d2084fb');\n",
              "          const dataTable =\n",
              "            await google.colab.kernel.invokeFunction('convertToInteractive',\n",
              "                                                     [key], {});\n",
              "          if (!dataTable) return;\n",
              "\n",
              "          const docLinkHtml = 'Like what you see? Visit the ' +\n",
              "            '<a target=\"_blank\" href=https://colab.research.google.com/notebooks/data_table.ipynb>data table notebook</a>'\n",
              "            + ' to learn more about interactive tables.';\n",
              "          element.innerHTML = '';\n",
              "          dataTable['output_type'] = 'display_data';\n",
              "          await google.colab.output.renderOutput(dataTable, element);\n",
              "          const docLink = document.createElement('div');\n",
              "          docLink.innerHTML = docLinkHtml;\n",
              "          element.appendChild(docLink);\n",
              "        }\n",
              "      </script>\n",
              "    </div>\n",
              "  </div>\n",
              "  "
            ]
          },
          "metadata": {},
          "execution_count": 4
        }
      ],
      "source": [
        "# Drop insignificant column 'Unnamed: 0'\n",
        "df = df.drop(columns=['Unnamed: 0'], axis = 1)\n",
        "df.tail(8)"
      ]
    },
    {
      "cell_type": "markdown",
      "metadata": {
        "id": "YnMArdJRYu78"
      },
      "source": [
        "**Not significant text 'name' are observed in the narrative feature. We will drop those records since they don't contribute any meaning.**"
      ]
    },
    {
      "cell_type": "code",
      "execution_count": 5,
      "metadata": {
        "colab": {
          "base_uri": "https://localhost:8080/",
          "height": 206
        },
        "id": "97mqcX2GUl7y",
        "outputId": "216d2f69-ad10-424f-b0cc-609abedd05c9"
      },
      "outputs": [
        {
          "output_type": "execute_result",
          "data": {
            "text/plain": [
              "                    product                                          narrative\n",
              "162408          credit_card  set received item listed refunding account tha...\n",
              "162409       retail_banking  yr thru expecting monies account deposit dolla...\n",
              "162412      debt_collection  zero contact made debt supposedly resolved fou...\n",
              "162413  mortgages_and_loans  zillow home loan nmls nmls actual quote provid...\n",
              "162414      debt_collection  zuntafi sent notice willing settle defaulted s..."
            ],
            "text/html": [
              "\n",
              "  <div id=\"df-d0af8e41-6bfd-4ff4-85cc-e3591ceb0fb7\">\n",
              "    <div class=\"colab-df-container\">\n",
              "      <div>\n",
              "<style scoped>\n",
              "    .dataframe tbody tr th:only-of-type {\n",
              "        vertical-align: middle;\n",
              "    }\n",
              "\n",
              "    .dataframe tbody tr th {\n",
              "        vertical-align: top;\n",
              "    }\n",
              "\n",
              "    .dataframe thead th {\n",
              "        text-align: right;\n",
              "    }\n",
              "</style>\n",
              "<table border=\"1\" class=\"dataframe\">\n",
              "  <thead>\n",
              "    <tr style=\"text-align: right;\">\n",
              "      <th></th>\n",
              "      <th>product</th>\n",
              "      <th>narrative</th>\n",
              "    </tr>\n",
              "  </thead>\n",
              "  <tbody>\n",
              "    <tr>\n",
              "      <th>162408</th>\n",
              "      <td>credit_card</td>\n",
              "      <td>set received item listed refunding account tha...</td>\n",
              "    </tr>\n",
              "    <tr>\n",
              "      <th>162409</th>\n",
              "      <td>retail_banking</td>\n",
              "      <td>yr thru expecting monies account deposit dolla...</td>\n",
              "    </tr>\n",
              "    <tr>\n",
              "      <th>162412</th>\n",
              "      <td>debt_collection</td>\n",
              "      <td>zero contact made debt supposedly resolved fou...</td>\n",
              "    </tr>\n",
              "    <tr>\n",
              "      <th>162413</th>\n",
              "      <td>mortgages_and_loans</td>\n",
              "      <td>zillow home loan nmls nmls actual quote provid...</td>\n",
              "    </tr>\n",
              "    <tr>\n",
              "      <th>162414</th>\n",
              "      <td>debt_collection</td>\n",
              "      <td>zuntafi sent notice willing settle defaulted s...</td>\n",
              "    </tr>\n",
              "  </tbody>\n",
              "</table>\n",
              "</div>\n",
              "      <button class=\"colab-df-convert\" onclick=\"convertToInteractive('df-d0af8e41-6bfd-4ff4-85cc-e3591ceb0fb7')\"\n",
              "              title=\"Convert this dataframe to an interactive table.\"\n",
              "              style=\"display:none;\">\n",
              "        \n",
              "  <svg xmlns=\"http://www.w3.org/2000/svg\" height=\"24px\"viewBox=\"0 0 24 24\"\n",
              "       width=\"24px\">\n",
              "    <path d=\"M0 0h24v24H0V0z\" fill=\"none\"/>\n",
              "    <path d=\"M18.56 5.44l.94 2.06.94-2.06 2.06-.94-2.06-.94-.94-2.06-.94 2.06-2.06.94zm-11 1L8.5 8.5l.94-2.06 2.06-.94-2.06-.94L8.5 2.5l-.94 2.06-2.06.94zm10 10l.94 2.06.94-2.06 2.06-.94-2.06-.94-.94-2.06-.94 2.06-2.06.94z\"/><path d=\"M17.41 7.96l-1.37-1.37c-.4-.4-.92-.59-1.43-.59-.52 0-1.04.2-1.43.59L10.3 9.45l-7.72 7.72c-.78.78-.78 2.05 0 2.83L4 21.41c.39.39.9.59 1.41.59.51 0 1.02-.2 1.41-.59l7.78-7.78 2.81-2.81c.8-.78.8-2.07 0-2.86zM5.41 20L4 18.59l7.72-7.72 1.47 1.35L5.41 20z\"/>\n",
              "  </svg>\n",
              "      </button>\n",
              "      \n",
              "  <style>\n",
              "    .colab-df-container {\n",
              "      display:flex;\n",
              "      flex-wrap:wrap;\n",
              "      gap: 12px;\n",
              "    }\n",
              "\n",
              "    .colab-df-convert {\n",
              "      background-color: #E8F0FE;\n",
              "      border: none;\n",
              "      border-radius: 50%;\n",
              "      cursor: pointer;\n",
              "      display: none;\n",
              "      fill: #1967D2;\n",
              "      height: 32px;\n",
              "      padding: 0 0 0 0;\n",
              "      width: 32px;\n",
              "    }\n",
              "\n",
              "    .colab-df-convert:hover {\n",
              "      background-color: #E2EBFA;\n",
              "      box-shadow: 0px 1px 2px rgba(60, 64, 67, 0.3), 0px 1px 3px 1px rgba(60, 64, 67, 0.15);\n",
              "      fill: #174EA6;\n",
              "    }\n",
              "\n",
              "    [theme=dark] .colab-df-convert {\n",
              "      background-color: #3B4455;\n",
              "      fill: #D2E3FC;\n",
              "    }\n",
              "\n",
              "    [theme=dark] .colab-df-convert:hover {\n",
              "      background-color: #434B5C;\n",
              "      box-shadow: 0px 1px 3px 1px rgba(0, 0, 0, 0.15);\n",
              "      filter: drop-shadow(0px 1px 2px rgba(0, 0, 0, 0.3));\n",
              "      fill: #FFFFFF;\n",
              "    }\n",
              "  </style>\n",
              "\n",
              "      <script>\n",
              "        const buttonEl =\n",
              "          document.querySelector('#df-d0af8e41-6bfd-4ff4-85cc-e3591ceb0fb7 button.colab-df-convert');\n",
              "        buttonEl.style.display =\n",
              "          google.colab.kernel.accessAllowed ? 'block' : 'none';\n",
              "\n",
              "        async function convertToInteractive(key) {\n",
              "          const element = document.querySelector('#df-d0af8e41-6bfd-4ff4-85cc-e3591ceb0fb7');\n",
              "          const dataTable =\n",
              "            await google.colab.kernel.invokeFunction('convertToInteractive',\n",
              "                                                     [key], {});\n",
              "          if (!dataTable) return;\n",
              "\n",
              "          const docLinkHtml = 'Like what you see? Visit the ' +\n",
              "            '<a target=\"_blank\" href=https://colab.research.google.com/notebooks/data_table.ipynb>data table notebook</a>'\n",
              "            + ' to learn more about interactive tables.';\n",
              "          element.innerHTML = '';\n",
              "          dataTable['output_type'] = 'display_data';\n",
              "          await google.colab.output.renderOutput(dataTable, element);\n",
              "          const docLink = document.createElement('div');\n",
              "          docLink.innerHTML = docLinkHtml;\n",
              "          element.appendChild(docLink);\n",
              "        }\n",
              "      </script>\n",
              "    </div>\n",
              "  </div>\n",
              "  "
            ]
          },
          "metadata": {},
          "execution_count": 5
        }
      ],
      "source": [
        "# drop the rows that contain 'name' \n",
        "df = df[df[\"narrative\"].str.contains(\"name\") == False] \n",
        "df.tail()"
      ]
    },
    {
      "cell_type": "markdown",
      "metadata": {
        "id": "S9mMrtB18JDv"
      },
      "source": [
        "MISSING VALUES AND DUPLICATES"
      ]
    },
    {
      "cell_type": "code",
      "execution_count": 6,
      "metadata": {
        "colab": {
          "base_uri": "https://localhost:8080/"
        },
        "id": "XZ7CZfXgsMPT",
        "outputId": "481cfd38-d477-421b-c360-48e255cc42ab"
      },
      "outputs": [
        {
          "output_type": "stream",
          "name": "stdout",
          "text": [
            "105377\n"
          ]
        }
      ],
      "source": [
        "# check missing values\n",
        "print((~df.duplicated()).sum())"
      ]
    },
    {
      "cell_type": "code",
      "execution_count": 7,
      "metadata": {
        "colab": {
          "base_uri": "https://localhost:8080/"
        },
        "id": "Rip0Apz7D14O",
        "outputId": "6293942c-f2a2-463d-f4c6-649f6355f5a3"
      },
      "outputs": [
        {
          "output_type": "stream",
          "name": "stdout",
          "text": [
            "Lenght of Data Frame Before\n"
          ]
        },
        {
          "output_type": "execute_result",
          "data": {
            "text/plain": [
              "137583"
            ]
          },
          "metadata": {},
          "execution_count": 7
        }
      ],
      "source": [
        "print('Lenght of Data Frame Before')\n",
        "len(df)"
      ]
    },
    {
      "cell_type": "code",
      "execution_count": 8,
      "metadata": {
        "id": "x11dBS848NTZ"
      },
      "outputs": [],
      "source": [
        "# drop the duplicated records\n",
        "df.drop_duplicates(keep=False,inplace=True)"
      ]
    },
    {
      "cell_type": "code",
      "execution_count": 9,
      "metadata": {
        "colab": {
          "base_uri": "https://localhost:8080/"
        },
        "id": "1wpuHnh1ClTn",
        "outputId": "6a3ffd43-fb31-47d0-c0bc-9a4691a91d09"
      },
      "outputs": [
        {
          "output_type": "stream",
          "name": "stdout",
          "text": [
            "Lenght of Data Frame After Dropping Duplicates:\n"
          ]
        },
        {
          "output_type": "execute_result",
          "data": {
            "text/plain": [
              "94999"
            ]
          },
          "metadata": {},
          "execution_count": 9
        }
      ],
      "source": [
        "print('Lenght of Data Frame After Dropping Duplicates:')\n",
        "len(df)"
      ]
    },
    {
      "cell_type": "code",
      "execution_count": 10,
      "metadata": {
        "colab": {
          "base_uri": "https://localhost:8080/"
        },
        "id": "JSE4iRgPsUgP",
        "outputId": "db03f354-4c1c-401b-b83f-03fc5f000dca"
      },
      "outputs": [
        {
          "output_type": "stream",
          "name": "stdout",
          "text": [
            "product      object\n",
            "narrative    object\n",
            "dtype: object\n",
            "(94999, 2)\n"
          ]
        }
      ],
      "source": [
        "# data types and shape of the data\n",
        "print(df.dtypes)\n",
        "print(df.shape)"
      ]
    },
    {
      "cell_type": "markdown",
      "metadata": {
        "id": "VveQLb7JspK8"
      },
      "source": [
        "### **TARGET CLASSES**"
      ]
    },
    {
      "cell_type": "markdown",
      "metadata": {
        "id": "y00UNkRwkUkt"
      },
      "source": [
        "### **DISTRIBUTION OF TARGET CLASSES**"
      ]
    },
    {
      "cell_type": "code",
      "execution_count": 11,
      "metadata": {
        "colab": {
          "base_uri": "https://localhost:8080/"
        },
        "id": "Dnjr7tpwkCNH",
        "outputId": "8c7f489c-6734-4b45-99bd-73b72c746b4e"
      },
      "outputs": [
        {
          "output_type": "execute_result",
          "data": {
            "text/plain": [
              "credit_reporting       39.225676\n",
              "debt_collection        17.580185\n",
              "mortgages_and_loans    17.532816\n",
              "credit_card            13.710671\n",
              "retail_banking         11.950652\n",
              "Name: product, dtype: float64"
            ]
          },
          "metadata": {},
          "execution_count": 11
        }
      ],
      "source": [
        "# target classes' distribution\n",
        "df['product'].value_counts(normalize=True)*100"
      ]
    },
    {
      "cell_type": "markdown",
      "metadata": {
        "id": "M0QwVSBTkjVU"
      },
      "source": [
        "### **VISUAL DISTRIBUTION OF TARGET CLASSES**"
      ]
    },
    {
      "cell_type": "code",
      "execution_count": 12,
      "metadata": {
        "colab": {
          "base_uri": "https://localhost:8080/",
          "height": 480
        },
        "id": "xxYoQdJVkiNF",
        "outputId": "6be76305-1282-4210-91e0-5848a488ac50"
      },
      "outputs": [
        {
          "output_type": "execute_result",
          "data": {
            "text/plain": [
              "Text(0.5, 1.0, 'Distribution of Target Classes')"
            ]
          },
          "metadata": {},
          "execution_count": 12
        },
        {
          "output_type": "display_data",
          "data": {
            "text/plain": [
              "<Figure size 648x504 with 1 Axes>"
            ],
            "image/png": "[encoded data removed]"
          },
          "metadata": {
            "needs_background": "light"
          }
        }
      ],
      "source": [
        "# Figure size\n",
        "plt.figure(figsize=(9,7))\n",
        "\n",
        "# Count plot\n",
        "ax = sns.countplot(x = 'product', data = df, palette=\"coolwarm\", order = df['product'].value_counts().index)\n",
        "\n",
        "# Add title\n",
        "plt.title('Distribution of Target Classes', fontsize=18)"
      ]
    },
    {
      "cell_type": "markdown",
      "metadata": {
        "id": "7MmH_rt1lQxZ"
      },
      "source": [
        "**From the value_counts and countplot graph, the distribution of credit_reporting is highest with 56.2%, debt_collection (14.3%), mortgage_and_loans (11.7%), credit_card (9.6%),and retail_banking (8.3%).**\n",
        "\n",
        "**Overall a slight class imbalance was observed between the target classes.**"
      ]
    },
    {
      "cell_type": "markdown",
      "metadata": {
        "id": "eTDKB_0WBwbi"
      },
      "source": [
        "### **LABEL ENCDOING OF TARGET CLASSES**"
      ]
    },
    {
      "cell_type": "code",
      "execution_count": 13,
      "metadata": {
        "colab": {
          "base_uri": "https://localhost:8080/",
          "height": 206
        },
        "id": "595-Z_4SBz6E",
        "outputId": "67054f11-20fb-47d0-d44f-06fddf97b4e2"
      },
      "outputs": [
        {
          "output_type": "execute_result",
          "data": {
            "text/plain": [
              "   product                                          narrative\n",
              "0        0  purchase order day shipping amount receive pro...\n",
              "2        4  forwarded message cc sent friday pdt subject f...\n",
              "3        1  payment history missing credit report speciali...\n",
              "4        1  payment history missing credit report made mis...\n",
              "5        1  payment history missing credit report made mis..."
            ],
            "text/html": [
              "\n",
              "  <div id=\"df-d426b6fc-c56e-48ab-98f8-ad9827c6ed93\">\n",
              "    <div class=\"colab-df-container\">\n",
              "      <div>\n",
              "<style scoped>\n",
              "    .dataframe tbody tr th:only-of-type {\n",
              "        vertical-align: middle;\n",
              "    }\n",
              "\n",
              "    .dataframe tbody tr th {\n",
              "        vertical-align: top;\n",
              "    }\n",
              "\n",
              "    .dataframe thead th {\n",
              "        text-align: right;\n",
              "    }\n",
              "</style>\n",
              "<table border=\"1\" class=\"dataframe\">\n",
              "  <thead>\n",
              "    <tr style=\"text-align: right;\">\n",
              "      <th></th>\n",
              "      <th>product</th>\n",
              "      <th>narrative</th>\n",
              "    </tr>\n",
              "  </thead>\n",
              "  <tbody>\n",
              "    <tr>\n",
              "      <th>0</th>\n",
              "      <td>0</td>\n",
              "      <td>purchase order day shipping amount receive pro...</td>\n",
              "    </tr>\n",
              "    <tr>\n",
              "      <th>2</th>\n",
              "      <td>4</td>\n",
              "      <td>forwarded message cc sent friday pdt subject f...</td>\n",
              "    </tr>\n",
              "    <tr>\n",
              "      <th>3</th>\n",
              "      <td>1</td>\n",
              "      <td>payment history missing credit report speciali...</td>\n",
              "    </tr>\n",
              "    <tr>\n",
              "      <th>4</th>\n",
              "      <td>1</td>\n",
              "      <td>payment history missing credit report made mis...</td>\n",
              "    </tr>\n",
              "    <tr>\n",
              "      <th>5</th>\n",
              "      <td>1</td>\n",
              "      <td>payment history missing credit report made mis...</td>\n",
              "    </tr>\n",
              "  </tbody>\n",
              "</table>\n",
              "</div>\n",
              "      <button class=\"colab-df-convert\" onclick=\"convertToInteractive('df-d426b6fc-c56e-48ab-98f8-ad9827c6ed93')\"\n",
              "              title=\"Convert this dataframe to an interactive table.\"\n",
              "              style=\"display:none;\">\n",
              "        \n",
              "  <svg xmlns=\"http://www.w3.org/2000/svg\" height=\"24px\"viewBox=\"0 0 24 24\"\n",
              "       width=\"24px\">\n",
              "    <path d=\"M0 0h24v24H0V0z\" fill=\"none\"/>\n",
              "    <path d=\"M18.56 5.44l.94 2.06.94-2.06 2.06-.94-2.06-.94-.94-2.06-.94 2.06-2.06.94zm-11 1L8.5 8.5l.94-2.06 2.06-.94-2.06-.94L8.5 2.5l-.94 2.06-2.06.94zm10 10l.94 2.06.94-2.06 2.06-.94-2.06-.94-.94-2.06-.94 2.06-2.06.94z\"/><path d=\"M17.41 7.96l-1.37-1.37c-.4-.4-.92-.59-1.43-.59-.52 0-1.04.2-1.43.59L10.3 9.45l-7.72 7.72c-.78.78-.78 2.05 0 2.83L4 21.41c.39.39.9.59 1.41.59.51 0 1.02-.2 1.41-.59l7.78-7.78 2.81-2.81c.8-.78.8-2.07 0-2.86zM5.41 20L4 18.59l7.72-7.72 1.47 1.35L5.41 20z\"/>\n",
              "  </svg>\n",
              "      </button>\n",
              "      \n",
              "  <style>\n",
              "    .colab-df-container {\n",
              "      display:flex;\n",
              "      flex-wrap:wrap;\n",
              "      gap: 12px;\n",
              "    }\n",
              "\n",
              "    .colab-df-convert {\n",
              "      background-color: #E8F0FE;\n",
              "      border: none;\n",
              "      border-radius: 50%;\n",
              "      cursor: pointer;\n",
              "      display: none;\n",
              "      fill: #1967D2;\n",
              "      height: 32px;\n",
              "      padding: 0 0 0 0;\n",
              "      width: 32px;\n",
              "    }\n",
              "\n",
              "    .colab-df-convert:hover {\n",
              "      background-color: #E2EBFA;\n",
              "      box-shadow: 0px 1px 2px rgba(60, 64, 67, 0.3), 0px 1px 3px 1px rgba(60, 64, 67, 0.15);\n",
              "      fill: #174EA6;\n",
              "    }\n",
              "\n",
              "    [theme=dark] .colab-df-convert {\n",
              "      background-color: #3B4455;\n",
              "      fill: #D2E3FC;\n",
              "    }\n",
              "\n",
              "    [theme=dark] .colab-df-convert:hover {\n",
              "      background-color: #434B5C;\n",
              "      box-shadow: 0px 1px 3px 1px rgba(0, 0, 0, 0.15);\n",
              "      filter: drop-shadow(0px 1px 2px rgba(0, 0, 0, 0.3));\n",
              "      fill: #FFFFFF;\n",
              "    }\n",
              "  </style>\n",
              "\n",
              "      <script>\n",
              "        const buttonEl =\n",
              "          document.querySelector('#df-d426b6fc-c56e-48ab-98f8-ad9827c6ed93 button.colab-df-convert');\n",
              "        buttonEl.style.display =\n",
              "          google.colab.kernel.accessAllowed ? 'block' : 'none';\n",
              "\n",
              "        async function convertToInteractive(key) {\n",
              "          const element = document.querySelector('#df-d426b6fc-c56e-48ab-98f8-ad9827c6ed93');\n",
              "          const dataTable =\n",
              "            await google.colab.kernel.invokeFunction('convertToInteractive',\n",
              "                                                     [key], {});\n",
              "          if (!dataTable) return;\n",
              "\n",
              "          const docLinkHtml = 'Like what you see? Visit the ' +\n",
              "            '<a target=\"_blank\" href=https://colab.research.google.com/notebooks/data_table.ipynb>data table notebook</a>'\n",
              "            + ' to learn more about interactive tables.';\n",
              "          element.innerHTML = '';\n",
              "          dataTable['output_type'] = 'display_data';\n",
              "          await google.colab.output.renderOutput(dataTable, element);\n",
              "          const docLink = document.createElement('div');\n",
              "          docLink.innerHTML = docLinkHtml;\n",
              "          element.appendChild(docLink);\n",
              "        }\n",
              "      </script>\n",
              "    </div>\n",
              "  </div>\n",
              "  "
            ]
          },
          "metadata": {},
          "execution_count": 13
        }
      ],
      "source": [
        "le = LabelEncoder()\n",
        "df['product'] = le.fit_transform(df['product'])\n",
        "df.head()"
      ]
    },
    {
      "cell_type": "code",
      "execution_count": 14,
      "metadata": {
        "colab": {
          "base_uri": "https://localhost:8080/"
        },
        "id": "7DDuIbGnBz1B",
        "outputId": "bd987feb-0e73-4f2f-aedd-7fd1b34bf0d2"
      },
      "outputs": [
        {
          "output_type": "execute_result",
          "data": {
            "text/plain": [
              "1    39.225676\n",
              "2    17.580185\n",
              "3    17.532816\n",
              "0    13.710671\n",
              "4    11.950652\n",
              "Name: product, dtype: float64"
            ]
          },
          "metadata": {},
          "execution_count": 14
        }
      ],
      "source": [
        "df['product'].value_counts(normalize=True)*100"
      ]
    },
    {
      "cell_type": "markdown",
      "metadata": {
        "id": "U4gMmGkRZ2O-"
      },
      "source": [
        "After comparing the target contribution percentages before and after encoding, it's noted that \n",
        "\n",
        "\n",
        "*   Target Classes = Encoded Number\n",
        "*   credit_card = 0\n",
        "*   credit_reporting     = 1\n",
        "*   debt_collection      = 2\n",
        "*   mortgages_and_loans  = 3\n",
        "*   retail_banking       = 4"
      ]
    },
    {
      "cell_type": "markdown",
      "metadata": {
        "id": "BWL05OzZsiJv"
      },
      "source": [
        "### **PREPROCESSING FOR FEATURE COLUMN 'NARRATIVE'**"
      ]
    },
    {
      "cell_type": "markdown",
      "metadata": {
        "id": "E_4jACQBxHh0"
      },
      "source": [
        "### REMOVE PUNCTUATION"
      ]
    },
    {
      "cell_type": "code",
      "execution_count": 15,
      "metadata": {
        "colab": {
          "base_uri": "https://localhost:8080/",
          "height": 35
        },
        "id": "R56VuTnLxKZ4",
        "outputId": "19371a6d-c422-4975-8372-e3f282704e0e"
      },
      "outputs": [
        {
          "output_type": "execute_result",
          "data": {
            "text/plain": [
              "'!\"#$%&\\'()*+,-./:;<=>?@[\\\\]^_`{|}~'"
            ],
            "application/vnd.google.colaboratory.intrinsic+json": {
              "type": "string"
            }
          },
          "metadata": {},
          "execution_count": 15
        }
      ],
      "source": [
        "import string\n",
        "string.punctuation   # print lists of punctuation"
      ]
    },
    {
      "cell_type": "code",
      "execution_count": 16,
      "metadata": {
        "colab": {
          "base_uri": "https://localhost:8080/",
          "height": 206
        },
        "id": "kzmi6dTsxTcw",
        "outputId": "a05dacfb-460e-4449-f257-91c2fbe1979e"
      },
      "outputs": [
        {
          "output_type": "execute_result",
          "data": {
            "text/plain": [
              "   product                                          narrative  \\\n",
              "0        0  purchase order day shipping amount receive pro...   \n",
              "2        4  forwarded message cc sent friday pdt subject f...   \n",
              "3        1  payment history missing credit report speciali...   \n",
              "4        1  payment history missing credit report made mis...   \n",
              "5        1  payment history missing credit report made mis...   \n",
              "\n",
              "                                      no_punctuation  \n",
              "0  purchase order day shipping amount receive pro...  \n",
              "2  forwarded message cc sent friday pdt subject f...  \n",
              "3  payment history missing credit report speciali...  \n",
              "4  payment history missing credit report made mis...  \n",
              "5  payment history missing credit report made mis...  "
            ],
            "text/html": [
              "\n",
              "  <div id=\"df-6aaa0576-e6fb-4f7d-b4c3-72555fe70b17\">\n",
              "    <div class=\"colab-df-container\">\n",
              "      <div>\n",
              "<style scoped>\n",
              "    .dataframe tbody tr th:only-of-type {\n",
              "        vertical-align: middle;\n",
              "    }\n",
              "\n",
              "    .dataframe tbody tr th {\n",
              "        vertical-align: top;\n",
              "    }\n",
              "\n",
              "    .dataframe thead th {\n",
              "        text-align: right;\n",
              "    }\n",
              "</style>\n",
              "<table border=\"1\" class=\"dataframe\">\n",
              "  <thead>\n",
              "    <tr style=\"text-align: right;\">\n",
              "      <th></th>\n",
              "      <th>product</th>\n",
              "      <th>narrative</th>\n",
              "      <th>no_punctuation</th>\n",
              "    </tr>\n",
              "  </thead>\n",
              "  <tbody>\n",
              "    <tr>\n",
              "      <th>0</th>\n",
              "      <td>0</td>\n",
              "      <td>purchase order day shipping amount receive pro...</td>\n",
              "      <td>purchase order day shipping amount receive pro...</td>\n",
              "    </tr>\n",
              "    <tr>\n",
              "      <th>2</th>\n",
              "      <td>4</td>\n",
              "      <td>forwarded message cc sent friday pdt subject f...</td>\n",
              "      <td>forwarded message cc sent friday pdt subject f...</td>\n",
              "    </tr>\n",
              "    <tr>\n",
              "      <th>3</th>\n",
              "      <td>1</td>\n",
              "      <td>payment history missing credit report speciali...</td>\n",
              "      <td>payment history missing credit report speciali...</td>\n",
              "    </tr>\n",
              "    <tr>\n",
              "      <th>4</th>\n",
              "      <td>1</td>\n",
              "      <td>payment history missing credit report made mis...</td>\n",
              "      <td>payment history missing credit report made mis...</td>\n",
              "    </tr>\n",
              "    <tr>\n",
              "      <th>5</th>\n",
              "      <td>1</td>\n",
              "      <td>payment history missing credit report made mis...</td>\n",
              "      <td>payment history missing credit report made mis...</td>\n",
              "    </tr>\n",
              "  </tbody>\n",
              "</table>\n",
              "</div>\n",
              "      <button class=\"colab-df-convert\" onclick=\"convertToInteractive('df-6aaa0576-e6fb-4f7d-b4c3-72555fe70b17')\"\n",
              "              title=\"Convert this dataframe to an interactive table.\"\n",
              "              style=\"display:none;\">\n",
              "        \n",
              "  <svg xmlns=\"http://www.w3.org/2000/svg\" height=\"24px\"viewBox=\"0 0 24 24\"\n",
              "       width=\"24px\">\n",
              "    <path d=\"M0 0h24v24H0V0z\" fill=\"none\"/>\n",
              "    <path d=\"M18.56 5.44l.94 2.06.94-2.06 2.06-.94-2.06-.94-.94-2.06-.94 2.06-2.06.94zm-11 1L8.5 8.5l.94-2.06 2.06-.94-2.06-.94L8.5 2.5l-.94 2.06-2.06.94zm10 10l.94 2.06.94-2.06 2.06-.94-2.06-.94-.94-2.06-.94 2.06-2.06.94z\"/><path d=\"M17.41 7.96l-1.37-1.37c-.4-.4-.92-.59-1.43-.59-.52 0-1.04.2-1.43.59L10.3 9.45l-7.72 7.72c-.78.78-.78 2.05 0 2.83L4 21.41c.39.39.9.59 1.41.59.51 0 1.02-.2 1.41-.59l7.78-7.78 2.81-2.81c.8-.78.8-2.07 0-2.86zM5.41 20L4 18.59l7.72-7.72 1.47 1.35L5.41 20z\"/>\n",
              "  </svg>\n",
              "      </button>\n",
              "      \n",
              "  <style>\n",
              "    .colab-df-container {\n",
              "      display:flex;\n",
              "      flex-wrap:wrap;\n",
              "      gap: 12px;\n",
              "    }\n",
              "\n",
              "    .colab-df-convert {\n",
              "      background-color: #E8F0FE;\n",
              "      border: none;\n",
              "      border-radius: 50%;\n",
              "      cursor: pointer;\n",
              "      display: none;\n",
              "      fill: #1967D2;\n",
              "      height: 32px;\n",
              "      padding: 0 0 0 0;\n",
              "      width: 32px;\n",
              "    }\n",
              "\n",
              "    .colab-df-convert:hover {\n",
              "      background-color: #E2EBFA;\n",
              "      box-shadow: 0px 1px 2px rgba(60, 64, 67, 0.3), 0px 1px 3px 1px rgba(60, 64, 67, 0.15);\n",
              "      fill: #174EA6;\n",
              "    }\n",
              "\n",
              "    [theme=dark] .colab-df-convert {\n",
              "      background-color: #3B4455;\n",
              "      fill: #D2E3FC;\n",
              "    }\n",
              "\n",
              "    [theme=dark] .colab-df-convert:hover {\n",
              "      background-color: #434B5C;\n",
              "      box-shadow: 0px 1px 3px 1px rgba(0, 0, 0, 0.15);\n",
              "      filter: drop-shadow(0px 1px 2px rgba(0, 0, 0, 0.3));\n",
              "      fill: #FFFFFF;\n",
              "    }\n",
              "  </style>\n",
              "\n",
              "      <script>\n",
              "        const buttonEl =\n",
              "          document.querySelector('#df-6aaa0576-e6fb-4f7d-b4c3-72555fe70b17 button.colab-df-convert');\n",
              "        buttonEl.style.display =\n",
              "          google.colab.kernel.accessAllowed ? 'block' : 'none';\n",
              "\n",
              "        async function convertToInteractive(key) {\n",
              "          const element = document.querySelector('#df-6aaa0576-e6fb-4f7d-b4c3-72555fe70b17');\n",
              "          const dataTable =\n",
              "            await google.colab.kernel.invokeFunction('convertToInteractive',\n",
              "                                                     [key], {});\n",
              "          if (!dataTable) return;\n",
              "\n",
              "          const docLinkHtml = 'Like what you see? Visit the ' +\n",
              "            '<a target=\"_blank\" href=https://colab.research.google.com/notebooks/data_table.ipynb>data table notebook</a>'\n",
              "            + ' to learn more about interactive tables.';\n",
              "          element.innerHTML = '';\n",
              "          dataTable['output_type'] = 'display_data';\n",
              "          await google.colab.output.renderOutput(dataTable, element);\n",
              "          const docLink = document.createElement('div');\n",
              "          docLink.innerHTML = docLinkHtml;\n",
              "          element.appendChild(docLink);\n",
              "        }\n",
              "      </script>\n",
              "    </div>\n",
              "  </div>\n",
              "  "
            ]
          },
          "metadata": {},
          "execution_count": 16
        }
      ],
      "source": [
        "# Function to remove punctuation\n",
        "def remove_punc(text):\n",
        "  text_nonpunc =\"\".join([char for char in str(text) if char not in string.punctuation])\n",
        "  return text_nonpunc\n",
        "\n",
        "# applyiing remove_punc function into 'narrative' and saving as a 'no_punctuation' column\n",
        "df['no_punctuation'] = df['narrative'].apply(lambda x: remove_punc(x))\n",
        "\n",
        "df.head()"
      ]
    },
    {
      "cell_type": "markdown",
      "metadata": {
        "id": "nJqnTmKxtwvZ"
      },
      "source": [
        "### TOKENIZATION \n",
        "\n",
        "Tokenization is a process of parsing the text string into different sections (tokens). "
      ]
    },
    {
      "cell_type": "code",
      "execution_count": 17,
      "metadata": {
        "colab": {
          "base_uri": "https://localhost:8080/",
          "height": 206
        },
        "id": "o7p-fjXLt27o",
        "outputId": "11d16526-c41a-48b8-be59-9de31068736b"
      },
      "outputs": [
        {
          "output_type": "execute_result",
          "data": {
            "text/plain": [
              "   product                                          narrative  \\\n",
              "0        0  purchase order day shipping amount receive pro...   \n",
              "2        4  forwarded message cc sent friday pdt subject f...   \n",
              "3        1  payment history missing credit report speciali...   \n",
              "4        1  payment history missing credit report made mis...   \n",
              "5        1  payment history missing credit report made mis...   \n",
              "\n",
              "                                      no_punctuation  \\\n",
              "0  purchase order day shipping amount receive pro...   \n",
              "2  forwarded message cc sent friday pdt subject f...   \n",
              "3  payment history missing credit report speciali...   \n",
              "4  payment history missing credit report made mis...   \n",
              "5  payment history missing credit report made mis...   \n",
              "\n",
              "                                           tokenized  \n",
              "0  [purchase, order, day, shipping, amount, recei...  \n",
              "2  [forwarded, message, cc, sent, friday, pdt, su...  \n",
              "3  [payment, history, missing, credit, report, sp...  \n",
              "4  [payment, history, missing, credit, report, ma...  \n",
              "5  [payment, history, missing, credit, report, ma...  "
            ],
            "text/html": [
              "\n",
              "  <div id=\"df-6d06e61c-ccdb-4ea6-81d0-bc604beb071e\">\n",
              "    <div class=\"colab-df-container\">\n",
              "      <div>\n",
              "<style scoped>\n",
              "    .dataframe tbody tr th:only-of-type {\n",
              "        vertical-align: middle;\n",
              "    }\n",
              "\n",
              "    .dataframe tbody tr th {\n",
              "        vertical-align: top;\n",
              "    }\n",
              "\n",
              "    .dataframe thead th {\n",
              "        text-align: right;\n",
              "    }\n",
              "</style>\n",
              "<table border=\"1\" class=\"dataframe\">\n",
              "  <thead>\n",
              "    <tr style=\"text-align: right;\">\n",
              "      <th></th>\n",
              "      <th>product</th>\n",
              "      <th>narrative</th>\n",
              "      <th>no_punctuation</th>\n",
              "      <th>tokenized</th>\n",
              "    </tr>\n",
              "  </thead>\n",
              "  <tbody>\n",
              "    <tr>\n",
              "      <th>0</th>\n",
              "      <td>0</td>\n",
              "      <td>purchase order day shipping amount receive pro...</td>\n",
              "      <td>purchase order day shipping amount receive pro...</td>\n",
              "      <td>[purchase, order, day, shipping, amount, recei...</td>\n",
              "    </tr>\n",
              "    <tr>\n",
              "      <th>2</th>\n",
              "      <td>4</td>\n",
              "      <td>forwarded message cc sent friday pdt subject f...</td>\n",
              "      <td>forwarded message cc sent friday pdt subject f...</td>\n",
              "      <td>[forwarded, message, cc, sent, friday, pdt, su...</td>\n",
              "    </tr>\n",
              "    <tr>\n",
              "      <th>3</th>\n",
              "      <td>1</td>\n",
              "      <td>payment history missing credit report speciali...</td>\n",
              "      <td>payment history missing credit report speciali...</td>\n",
              "      <td>[payment, history, missing, credit, report, sp...</td>\n",
              "    </tr>\n",
              "    <tr>\n",
              "      <th>4</th>\n",
              "      <td>1</td>\n",
              "      <td>payment history missing credit report made mis...</td>\n",
              "      <td>payment history missing credit report made mis...</td>\n",
              "      <td>[payment, history, missing, credit, report, ma...</td>\n",
              "    </tr>\n",
              "    <tr>\n",
              "      <th>5</th>\n",
              "      <td>1</td>\n",
              "      <td>payment history missing credit report made mis...</td>\n",
              "      <td>payment history missing credit report made mis...</td>\n",
              "      <td>[payment, history, missing, credit, report, ma...</td>\n",
              "    </tr>\n",
              "  </tbody>\n",
              "</table>\n",
              "</div>\n",
              "      <button class=\"colab-df-convert\" onclick=\"convertToInteractive('df-6d06e61c-ccdb-4ea6-81d0-bc604beb071e')\"\n",
              "              title=\"Convert this dataframe to an interactive table.\"\n",
              "              style=\"display:none;\">\n",
              "        \n",
              "  <svg xmlns=\"http://www.w3.org/2000/svg\" height=\"24px\"viewBox=\"0 0 24 24\"\n",
              "       width=\"24px\">\n",
              "    <path d=\"M0 0h24v24H0V0z\" fill=\"none\"/>\n",
              "    <path d=\"M18.56 5.44l.94 2.06.94-2.06 2.06-.94-2.06-.94-.94-2.06-.94 2.06-2.06.94zm-11 1L8.5 8.5l.94-2.06 2.06-.94-2.06-.94L8.5 2.5l-.94 2.06-2.06.94zm10 10l.94 2.06.94-2.06 2.06-.94-2.06-.94-.94-2.06-.94 2.06-2.06.94z\"/><path d=\"M17.41 7.96l-1.37-1.37c-.4-.4-.92-.59-1.43-.59-.52 0-1.04.2-1.43.59L10.3 9.45l-7.72 7.72c-.78.78-.78 2.05 0 2.83L4 21.41c.39.39.9.59 1.41.59.51 0 1.02-.2 1.41-.59l7.78-7.78 2.81-2.81c.8-.78.8-2.07 0-2.86zM5.41 20L4 18.59l7.72-7.72 1.47 1.35L5.41 20z\"/>\n",
              "  </svg>\n",
              "      </button>\n",
              "      \n",
              "  <style>\n",
              "    .colab-df-container {\n",
              "      display:flex;\n",
              "      flex-wrap:wrap;\n",
              "      gap: 12px;\n",
              "    }\n",
              "\n",
              "    .colab-df-convert {\n",
              "      background-color: #E8F0FE;\n",
              "      border: none;\n",
              "      border-radius: 50%;\n",
              "      cursor: pointer;\n",
              "      display: none;\n",
              "      fill: #1967D2;\n",
              "      height: 32px;\n",
              "      padding: 0 0 0 0;\n",
              "      width: 32px;\n",
              "    }\n",
              "\n",
              "    .colab-df-convert:hover {\n",
              "      background-color: #E2EBFA;\n",
              "      box-shadow: 0px 1px 2px rgba(60, 64, 67, 0.3), 0px 1px 3px 1px rgba(60, 64, 67, 0.15);\n",
              "      fill: #174EA6;\n",
              "    }\n",
              "\n",
              "    [theme=dark] .colab-df-convert {\n",
              "      background-color: #3B4455;\n",
              "      fill: #D2E3FC;\n",
              "    }\n",
              "\n",
              "    [theme=dark] .colab-df-convert:hover {\n",
              "      background-color: #434B5C;\n",
              "      box-shadow: 0px 1px 3px 1px rgba(0, 0, 0, 0.15);\n",
              "      filter: drop-shadow(0px 1px 2px rgba(0, 0, 0, 0.3));\n",
              "      fill: #FFFFFF;\n",
              "    }\n",
              "  </style>\n",
              "\n",
              "      <script>\n",
              "        const buttonEl =\n",
              "          document.querySelector('#df-6d06e61c-ccdb-4ea6-81d0-bc604beb071e button.colab-df-convert');\n",
              "        buttonEl.style.display =\n",
              "          google.colab.kernel.accessAllowed ? 'block' : 'none';\n",
              "\n",
              "        async function convertToInteractive(key) {\n",
              "          const element = document.querySelector('#df-6d06e61c-ccdb-4ea6-81d0-bc604beb071e');\n",
              "          const dataTable =\n",
              "            await google.colab.kernel.invokeFunction('convertToInteractive',\n",
              "                                                     [key], {});\n",
              "          if (!dataTable) return;\n",
              "\n",
              "          const docLinkHtml = 'Like what you see? Visit the ' +\n",
              "            '<a target=\"_blank\" href=https://colab.research.google.com/notebooks/data_table.ipynb>data table notebook</a>'\n",
              "            + ' to learn more about interactive tables.';\n",
              "          element.innerHTML = '';\n",
              "          dataTable['output_type'] = 'display_data';\n",
              "          await google.colab.output.renderOutput(dataTable, element);\n",
              "          const docLink = document.createElement('div');\n",
              "          docLink.innerHTML = docLinkHtml;\n",
              "          element.appendChild(docLink);\n",
              "        }\n",
              "      </script>\n",
              "    </div>\n",
              "  </div>\n",
              "  "
            ]
          },
          "metadata": {},
          "execution_count": 17
        }
      ],
      "source": [
        "#function to tokenize the text\n",
        "def tokenize(text):\n",
        "  tokens = re.split('\\W+', text)\n",
        "  return tokens\n",
        "\n",
        "# add new column 'tokenized' to df\n",
        "df['tokenized'] = df['no_punctuation'].apply(lambda x: tokenize(x)) # convert lower case to all words\n",
        "\n",
        "df.head()"
      ]
    },
    {
      "cell_type": "markdown",
      "metadata": {
        "id": "-HjA_E435ucp"
      },
      "source": [
        "### REMOVING STOP WORDS\n",
        "\n",
        "Stop words such as 'is', 'and', 'the' etc will be removed since they don't contritube much information for the NLP.  \n",
        "\n",
        "For this project, spaCy library will be used. "
      ]
    },
    {
      "cell_type": "code",
      "execution_count": 18,
      "metadata": {
        "colab": {
          "base_uri": "https://localhost:8080/"
        },
        "id": "l0do7qEQZLcT",
        "outputId": "2acc69af-e6d0-4299-934b-2559f06a8b9f"
      },
      "outputs": [
        {
          "output_type": "stream",
          "name": "stdout",
          "text": [
            "{'whoever', 'often', 'across', 'throughout', 'elsewhere', 'mostly', 'serious', 'much', 'call', 'have', 'while', 'up', 'by', 'we', 'again', 'for', 'because', 'two', 'which', 'otherwise', 'does', 'front', 'together', 'whom', 'nowhere', 'somehow', 'no', 'are', 'beforehand', \"'m\", 'due', \"'re\", 'almost', 'via', 'mine', '’ll', 'must', 'him', 'ten', 'quite', 'everything', 'then', 'therefore', 'be', 'against', 'since', 'side', 'six', 'there', 'is', 'my', 'none', 'on', 'whence', 'also', 'empty', 'me', 'he', 'above', 'upon', 'everyone', 'yours', 'more', '‘s', 'keep', 'own', 'ca', 'whereby', 'many', 'done', 'once', 'myself', 'part', 'twelve', 'what', 'they', 'always', 're', 'back', 'you', 'therein', 'had', 'yourselves', 'somewhere', 'hence', 'one', 'every', 'would', 'give', 'namely', 'further', 'seems', 'our', 'may', 'last', 'being', 'bottom', 'her', 'without', 'really', 'too', 'yet', 'hers', 'thus', 'toward', 'however', 'noone', 'could', 'both', 'except', 'with', 'before', \"'ll\", '’re', 'a', 'ourselves', 'fifteen', 'any', 'meanwhile', 'thereafter', 'how', 'alone', 'that', 'such', 'has', 'here', 'besides', 'becoming', 'it', 'five', 'something', 'please', 'this', 'onto', 'regarding', 'take', 'else', 'becomes', 'either', 'whose', 'over', 'around', 'did', 'anyone', 'yourself', 'when', 'after', 'show', 'from', 'say', 'even', 'rather', 'through', 'though', 'might', 'wherein', '’m', 'within', 'will', 'still', 'amount', 'do', 'seem', 'whereafter', 'became', 'although', 'least', 'put', 'first', 'whereupon', 'n’t', 'am', 'and', 'those', 'been', 'indeed', 'anyway', 'towards', 'made', 'very', 'latterly', 'anywhere', 'until', 'during', 'formerly', 'well', 'top', 'these', 'three', 'whatever', 'beside', 'nevertheless', 'whereas', 'below', 'neither', 'each', 'hundred', 'along', \"n't\", 'twenty', 'few', '‘m', 'go', 'thence', 'cannot', 'next', 'why', 'herein', 'just', 'sixty', '‘ve', 'see', '’ve', '‘d', '’s', \"'ve\", 'full', 'nobody', 'thru', 'various', 'into', 'beyond', 'another', 'nor', 'per', 'former', 'them', 'same', 'of', 'down', 'doing', 'only', 'hereby', 'behind', 'whenever', 'third', 'move', 'others', 'eleven', 'eight', '’d', 'anything', 'as', 'four', 'whither', 'his', 'n‘t', 'about', 'moreover', 'used', 'at', 'unless', 'someone', 'whether', 'their', \"'d\", 'anyhow', 'now', 'name', 'can', 'i', 'so', 'perhaps', 'where', 'whole', 'enough', 'nine', 'but', 'less', 'out', 'in', 'between', 'become', 'off', 'should', 'not', 'fifty', 'she', 'never', 'an', 'already', 'to', 'us', 'who', 'nothing', 'ever', 'himself', 'hereafter', 'your', 'some', 'were', 'or', 'afterwards', 'among', 'make', 'than', 'itself', 'get', \"'s\", 'seemed', 'if', 'most', 'seeming', 'everywhere', 'amongst', 'using', 'the', 'several', 'forty', 'hereupon', 'themselves', 'under', 'sometimes', 'herself', 'was', 'latter', 'other', 'ours', 'thereby', 'all', 'its', 'wherever', 'sometime', '‘ll', 'thereupon', '‘re'}\n"
          ]
        }
      ],
      "source": [
        "import spacy\n",
        "#loading the english language small model of spacy\n",
        "en = spacy.load('en_core_web_sm')\n",
        "sw_spacy = en.Defaults.stop_words\n",
        "print(sw_spacy)"
      ]
    },
    {
      "cell_type": "code",
      "execution_count": 19,
      "metadata": {
        "colab": {
          "base_uri": "https://localhost:8080/",
          "height": 337
        },
        "id": "6198nli48k1L",
        "outputId": "a7e07e86-5940-40fd-a1f5-b70712a73728"
      },
      "outputs": [
        {
          "output_type": "execute_result",
          "data": {
            "text/plain": [
              "   product                                          narrative  \\\n",
              "0        0  purchase order day shipping amount receive pro...   \n",
              "2        4  forwarded message cc sent friday pdt subject f...   \n",
              "3        1  payment history missing credit report speciali...   \n",
              "4        1  payment history missing credit report made mis...   \n",
              "5        1  payment history missing credit report made mis...   \n",
              "\n",
              "                                      no_punctuation  \\\n",
              "0  purchase order day shipping amount receive pro...   \n",
              "2  forwarded message cc sent friday pdt subject f...   \n",
              "3  payment history missing credit report speciali...   \n",
              "4  payment history missing credit report made mis...   \n",
              "5  payment history missing credit report made mis...   \n",
              "\n",
              "                                           tokenized  \\\n",
              "0  [purchase, order, day, shipping, amount, recei...   \n",
              "2  [forwarded, message, cc, sent, friday, pdt, su...   \n",
              "3  [payment, history, missing, credit, report, sp...   \n",
              "4  [payment, history, missing, credit, report, ma...   \n",
              "5  [payment, history, missing, credit, report, ma...   \n",
              "\n",
              "                                         no_stopword  \n",
              "0  [purchase, order, day, shipping, receive, prod...  \n",
              "2  [forwarded, message, cc, sent, friday, pdt, su...  \n",
              "3  [payment, history, missing, credit, report, sp...  \n",
              "4  [payment, history, missing, credit, report, mi...  \n",
              "5  [payment, history, missing, credit, report, mi...  "
            ],
            "text/html": [
              "\n",
              "  <div id=\"df-5592f38d-20c5-40b2-bd70-a670b5cc479b\">\n",
              "    <div class=\"colab-df-container\">\n",
              "      <div>\n",
              "<style scoped>\n",
              "    .dataframe tbody tr th:only-of-type {\n",
              "        vertical-align: middle;\n",
              "    }\n",
              "\n",
              "    .dataframe tbody tr th {\n",
              "        vertical-align: top;\n",
              "    }\n",
              "\n",
              "    .dataframe thead th {\n",
              "        text-align: right;\n",
              "    }\n",
              "</style>\n",
              "<table border=\"1\" class=\"dataframe\">\n",
              "  <thead>\n",
              "    <tr style=\"text-align: right;\">\n",
              "      <th></th>\n",
              "      <th>product</th>\n",
              "      <th>narrative</th>\n",
              "      <th>no_punctuation</th>\n",
              "      <th>tokenized</th>\n",
              "      <th>no_stopword</th>\n",
              "    </tr>\n",
              "  </thead>\n",
              "  <tbody>\n",
              "    <tr>\n",
              "      <th>0</th>\n",
              "      <td>0</td>\n",
              "      <td>purchase order day shipping amount receive pro...</td>\n",
              "      <td>purchase order day shipping amount receive pro...</td>\n",
              "      <td>[purchase, order, day, shipping, amount, recei...</td>\n",
              "      <td>[purchase, order, day, shipping, receive, prod...</td>\n",
              "    </tr>\n",
              "    <tr>\n",
              "      <th>2</th>\n",
              "      <td>4</td>\n",
              "      <td>forwarded message cc sent friday pdt subject f...</td>\n",
              "      <td>forwarded message cc sent friday pdt subject f...</td>\n",
              "      <td>[forwarded, message, cc, sent, friday, pdt, su...</td>\n",
              "      <td>[forwarded, message, cc, sent, friday, pdt, su...</td>\n",
              "    </tr>\n",
              "    <tr>\n",
              "      <th>3</th>\n",
              "      <td>1</td>\n",
              "      <td>payment history missing credit report speciali...</td>\n",
              "      <td>payment history missing credit report speciali...</td>\n",
              "      <td>[payment, history, missing, credit, report, sp...</td>\n",
              "      <td>[payment, history, missing, credit, report, sp...</td>\n",
              "    </tr>\n",
              "    <tr>\n",
              "      <th>4</th>\n",
              "      <td>1</td>\n",
              "      <td>payment history missing credit report made mis...</td>\n",
              "      <td>payment history missing credit report made mis...</td>\n",
              "      <td>[payment, history, missing, credit, report, ma...</td>\n",
              "      <td>[payment, history, missing, credit, report, mi...</td>\n",
              "    </tr>\n",
              "    <tr>\n",
              "      <th>5</th>\n",
              "      <td>1</td>\n",
              "      <td>payment history missing credit report made mis...</td>\n",
              "      <td>payment history missing credit report made mis...</td>\n",
              "      <td>[payment, history, missing, credit, report, ma...</td>\n",
              "      <td>[payment, history, missing, credit, report, mi...</td>\n",
              "    </tr>\n",
              "  </tbody>\n",
              "</table>\n",
              "</div>\n",
              "      <button class=\"colab-df-convert\" onclick=\"convertToInteractive('df-5592f38d-20c5-40b2-bd70-a670b5cc479b')\"\n",
              "              title=\"Convert this dataframe to an interactive table.\"\n",
              "              style=\"display:none;\">\n",
              "        \n",
              "  <svg xmlns=\"http://www.w3.org/2000/svg\" height=\"24px\"viewBox=\"0 0 24 24\"\n",
              "       width=\"24px\">\n",
              "    <path d=\"M0 0h24v24H0V0z\" fill=\"none\"/>\n",
              "    <path d=\"M18.56 5.44l.94 2.06.94-2.06 2.06-.94-2.06-.94-.94-2.06-.94 2.06-2.06.94zm-11 1L8.5 8.5l.94-2.06 2.06-.94-2.06-.94L8.5 2.5l-.94 2.06-2.06.94zm10 10l.94 2.06.94-2.06 2.06-.94-2.06-.94-.94-2.06-.94 2.06-2.06.94z\"/><path d=\"M17.41 7.96l-1.37-1.37c-.4-.4-.92-.59-1.43-.59-.52 0-1.04.2-1.43.59L10.3 9.45l-7.72 7.72c-.78.78-.78 2.05 0 2.83L4 21.41c.39.39.9.59 1.41.59.51 0 1.02-.2 1.41-.59l7.78-7.78 2.81-2.81c.8-.78.8-2.07 0-2.86zM5.41 20L4 18.59l7.72-7.72 1.47 1.35L5.41 20z\"/>\n",
              "  </svg>\n",
              "      </button>\n",
              "      \n",
              "  <style>\n",
              "    .colab-df-container {\n",
              "      display:flex;\n",
              "      flex-wrap:wrap;\n",
              "      gap: 12px;\n",
              "    }\n",
              "\n",
              "    .colab-df-convert {\n",
              "      background-color: #E8F0FE;\n",
              "      border: none;\n",
              "      border-radius: 50%;\n",
              "      cursor: pointer;\n",
              "      display: none;\n",
              "      fill: #1967D2;\n",
              "      height: 32px;\n",
              "      padding: 0 0 0 0;\n",
              "      width: 32px;\n",
              "    }\n",
              "\n",
              "    .colab-df-convert:hover {\n",
              "      background-color: #E2EBFA;\n",
              "      box-shadow: 0px 1px 2px rgba(60, 64, 67, 0.3), 0px 1px 3px 1px rgba(60, 64, 67, 0.15);\n",
              "      fill: #174EA6;\n",
              "    }\n",
              "\n",
              "    [theme=dark] .colab-df-convert {\n",
              "      background-color: #3B4455;\n",
              "      fill: #D2E3FC;\n",
              "    }\n",
              "\n",
              "    [theme=dark] .colab-df-convert:hover {\n",
              "      background-color: #434B5C;\n",
              "      box-shadow: 0px 1px 3px 1px rgba(0, 0, 0, 0.15);\n",
              "      filter: drop-shadow(0px 1px 2px rgba(0, 0, 0, 0.3));\n",
              "      fill: #FFFFFF;\n",
              "    }\n",
              "  </style>\n",
              "\n",
              "      <script>\n",
              "        const buttonEl =\n",
              "          document.querySelector('#df-5592f38d-20c5-40b2-bd70-a670b5cc479b button.colab-df-convert');\n",
              "        buttonEl.style.display =\n",
              "          google.colab.kernel.accessAllowed ? 'block' : 'none';\n",
              "\n",
              "        async function convertToInteractive(key) {\n",
              "          const element = document.querySelector('#df-5592f38d-20c5-40b2-bd70-a670b5cc479b');\n",
              "          const dataTable =\n",
              "            await google.colab.kernel.invokeFunction('convertToInteractive',\n",
              "                                                     [key], {});\n",
              "          if (!dataTable) return;\n",
              "\n",
              "          const docLinkHtml = 'Like what you see? Visit the ' +\n",
              "            '<a target=\"_blank\" href=https://colab.research.google.com/notebooks/data_table.ipynb>data table notebook</a>'\n",
              "            + ' to learn more about interactive tables.';\n",
              "          element.innerHTML = '';\n",
              "          dataTable['output_type'] = 'display_data';\n",
              "          await google.colab.output.renderOutput(dataTable, element);\n",
              "          const docLink = document.createElement('div');\n",
              "          docLink.innerHTML = docLinkHtml;\n",
              "          element.appendChild(docLink);\n",
              "        }\n",
              "      </script>\n",
              "    </div>\n",
              "  </div>\n",
              "  "
            ]
          },
          "metadata": {},
          "execution_count": 19
        }
      ],
      "source": [
        "# function to remove stopwords\n",
        "def remove_sw(tokenized_list):\n",
        "  func_sw = [word for word in tokenized_list if word not in sw_spacy]\n",
        "  return func_sw\n",
        "\n",
        "# add new column 'no_stopword' to df\n",
        "df['no_stopword'] = df['tokenized'].apply(lambda x: remove_sw(x))\n",
        "\n",
        "df.head()"
      ]
    },
    {
      "cell_type": "markdown",
      "metadata": {
        "id": "WgqCiKovCDlX"
      },
      "source": [
        "## **LEMMATIZATION**\n",
        "\n",
        "Lemmatization is performed to remove the extra words such as \"easily\" to \"easy\" while keeping the context of the words.  "
      ]
    },
    {
      "cell_type": "code",
      "execution_count": 20,
      "metadata": {
        "colab": {
          "base_uri": "https://localhost:8080/",
          "height": 337
        },
        "id": "50QM_OGBBRxc",
        "outputId": "4a8e4302-0ca4-4d29-9f02-a452cd634c45"
      },
      "outputs": [
        {
          "output_type": "execute_result",
          "data": {
            "text/plain": [
              "   product                                          narrative  \\\n",
              "0        0  purchase order day shipping amount receive pro...   \n",
              "2        4  forwarded message cc sent friday pdt subject f...   \n",
              "3        1  payment history missing credit report speciali...   \n",
              "4        1  payment history missing credit report made mis...   \n",
              "5        1  payment history missing credit report made mis...   \n",
              "\n",
              "                                      no_punctuation  \\\n",
              "0  purchase order day shipping amount receive pro...   \n",
              "2  forwarded message cc sent friday pdt subject f...   \n",
              "3  payment history missing credit report speciali...   \n",
              "4  payment history missing credit report made mis...   \n",
              "5  payment history missing credit report made mis...   \n",
              "\n",
              "                                           tokenized  \\\n",
              "0  [purchase, order, day, shipping, amount, recei...   \n",
              "2  [forwarded, message, cc, sent, friday, pdt, su...   \n",
              "3  [payment, history, missing, credit, report, sp...   \n",
              "4  [payment, history, missing, credit, report, ma...   \n",
              "5  [payment, history, missing, credit, report, ma...   \n",
              "\n",
              "                                         no_stopword  \\\n",
              "0  [purchase, order, day, shipping, receive, prod...   \n",
              "2  [forwarded, message, cc, sent, friday, pdt, su...   \n",
              "3  [payment, history, missing, credit, report, sp...   \n",
              "4  [payment, history, missing, credit, report, mi...   \n",
              "5  [payment, history, missing, credit, report, mi...   \n",
              "\n",
              "                                          lemmatized  \n",
              "0  [purchase, order, day, shipping, receive, prod...  \n",
              "2  [forwarded, message, cc, sent, friday, pdt, su...  \n",
              "3  [payment, history, missing, credit, report, sp...  \n",
              "4  [payment, history, missing, credit, report, mi...  \n",
              "5  [payment, history, missing, credit, report, mi...  "
            ],
            "text/html": [
              "\n",
              "  <div id=\"df-13e7d9a7-cf6e-4220-8562-99f025f8e8d4\">\n",
              "    <div class=\"colab-df-container\">\n",
              "      <div>\n",
              "<style scoped>\n",
              "    .dataframe tbody tr th:only-of-type {\n",
              "        vertical-align: middle;\n",
              "    }\n",
              "\n",
              "    .dataframe tbody tr th {\n",
              "        vertical-align: top;\n",
              "    }\n",
              "\n",
              "    .dataframe thead th {\n",
              "        text-align: right;\n",
              "    }\n",
              "</style>\n",
              "<table border=\"1\" class=\"dataframe\">\n",
              "  <thead>\n",
              "    <tr style=\"text-align: right;\">\n",
              "      <th></th>\n",
              "      <th>product</th>\n",
              "      <th>narrative</th>\n",
              "      <th>no_punctuation</th>\n",
              "      <th>tokenized</th>\n",
              "      <th>no_stopword</th>\n",
              "      <th>lemmatized</th>\n",
              "    </tr>\n",
              "  </thead>\n",
              "  <tbody>\n",
              "    <tr>\n",
              "      <th>0</th>\n",
              "      <td>0</td>\n",
              "      <td>purchase order day shipping amount receive pro...</td>\n",
              "      <td>purchase order day shipping amount receive pro...</td>\n",
              "      <td>[purchase, order, day, shipping, amount, recei...</td>\n",
              "      <td>[purchase, order, day, shipping, receive, prod...</td>\n",
              "      <td>[purchase, order, day, shipping, receive, prod...</td>\n",
              "    </tr>\n",
              "    <tr>\n",
              "      <th>2</th>\n",
              "      <td>4</td>\n",
              "      <td>forwarded message cc sent friday pdt subject f...</td>\n",
              "      <td>forwarded message cc sent friday pdt subject f...</td>\n",
              "      <td>[forwarded, message, cc, sent, friday, pdt, su...</td>\n",
              "      <td>[forwarded, message, cc, sent, friday, pdt, su...</td>\n",
              "      <td>[forwarded, message, cc, sent, friday, pdt, su...</td>\n",
              "    </tr>\n",
              "    <tr>\n",
              "      <th>3</th>\n",
              "      <td>1</td>\n",
              "      <td>payment history missing credit report speciali...</td>\n",
              "      <td>payment history missing credit report speciali...</td>\n",
              "      <td>[payment, history, missing, credit, report, sp...</td>\n",
              "      <td>[payment, history, missing, credit, report, sp...</td>\n",
              "      <td>[payment, history, missing, credit, report, sp...</td>\n",
              "    </tr>\n",
              "    <tr>\n",
              "      <th>4</th>\n",
              "      <td>1</td>\n",
              "      <td>payment history missing credit report made mis...</td>\n",
              "      <td>payment history missing credit report made mis...</td>\n",
              "      <td>[payment, history, missing, credit, report, ma...</td>\n",
              "      <td>[payment, history, missing, credit, report, mi...</td>\n",
              "      <td>[payment, history, missing, credit, report, mi...</td>\n",
              "    </tr>\n",
              "    <tr>\n",
              "      <th>5</th>\n",
              "      <td>1</td>\n",
              "      <td>payment history missing credit report made mis...</td>\n",
              "      <td>payment history missing credit report made mis...</td>\n",
              "      <td>[payment, history, missing, credit, report, ma...</td>\n",
              "      <td>[payment, history, missing, credit, report, mi...</td>\n",
              "      <td>[payment, history, missing, credit, report, mi...</td>\n",
              "    </tr>\n",
              "  </tbody>\n",
              "</table>\n",
              "</div>\n",
              "      <button class=\"colab-df-convert\" onclick=\"convertToInteractive('df-13e7d9a7-cf6e-4220-8562-99f025f8e8d4')\"\n",
              "              title=\"Convert this dataframe to an interactive table.\"\n",
              "              style=\"display:none;\">\n",
              "        \n",
              "  <svg xmlns=\"http://www.w3.org/2000/svg\" height=\"24px\"viewBox=\"0 0 24 24\"\n",
              "       width=\"24px\">\n",
              "    <path d=\"M0 0h24v24H0V0z\" fill=\"none\"/>\n",
              "    <path d=\"M18.56 5.44l.94 2.06.94-2.06 2.06-.94-2.06-.94-.94-2.06-.94 2.06-2.06.94zm-11 1L8.5 8.5l.94-2.06 2.06-.94-2.06-.94L8.5 2.5l-.94 2.06-2.06.94zm10 10l.94 2.06.94-2.06 2.06-.94-2.06-.94-.94-2.06-.94 2.06-2.06.94z\"/><path d=\"M17.41 7.96l-1.37-1.37c-.4-.4-.92-.59-1.43-.59-.52 0-1.04.2-1.43.59L10.3 9.45l-7.72 7.72c-.78.78-.78 2.05 0 2.83L4 21.41c.39.39.9.59 1.41.59.51 0 1.02-.2 1.41-.59l7.78-7.78 2.81-2.81c.8-.78.8-2.07 0-2.86zM5.41 20L4 18.59l7.72-7.72 1.47 1.35L5.41 20z\"/>\n",
              "  </svg>\n",
              "      </button>\n",
              "      \n",
              "  <style>\n",
              "    .colab-df-container {\n",
              "      display:flex;\n",
              "      flex-wrap:wrap;\n",
              "      gap: 12px;\n",
              "    }\n",
              "\n",
              "    .colab-df-convert {\n",
              "      background-color: #E8F0FE;\n",
              "      border: none;\n",
              "      border-radius: 50%;\n",
              "      cursor: pointer;\n",
              "      display: none;\n",
              "      fill: #1967D2;\n",
              "      height: 32px;\n",
              "      padding: 0 0 0 0;\n",
              "      width: 32px;\n",
              "    }\n",
              "\n",
              "    .colab-df-convert:hover {\n",
              "      background-color: #E2EBFA;\n",
              "      box-shadow: 0px 1px 2px rgba(60, 64, 67, 0.3), 0px 1px 3px 1px rgba(60, 64, 67, 0.15);\n",
              "      fill: #174EA6;\n",
              "    }\n",
              "\n",
              "    [theme=dark] .colab-df-convert {\n",
              "      background-color: #3B4455;\n",
              "      fill: #D2E3FC;\n",
              "    }\n",
              "\n",
              "    [theme=dark] .colab-df-convert:hover {\n",
              "      background-color: #434B5C;\n",
              "      box-shadow: 0px 1px 3px 1px rgba(0, 0, 0, 0.15);\n",
              "      filter: drop-shadow(0px 1px 2px rgba(0, 0, 0, 0.3));\n",
              "      fill: #FFFFFF;\n",
              "    }\n",
              "  </style>\n",
              "\n",
              "      <script>\n",
              "        const buttonEl =\n",
              "          document.querySelector('#df-13e7d9a7-cf6e-4220-8562-99f025f8e8d4 button.colab-df-convert');\n",
              "        buttonEl.style.display =\n",
              "          google.colab.kernel.accessAllowed ? 'block' : 'none';\n",
              "\n",
              "        async function convertToInteractive(key) {\n",
              "          const element = document.querySelector('#df-13e7d9a7-cf6e-4220-8562-99f025f8e8d4');\n",
              "          const dataTable =\n",
              "            await google.colab.kernel.invokeFunction('convertToInteractive',\n",
              "                                                     [key], {});\n",
              "          if (!dataTable) return;\n",
              "\n",
              "          const docLinkHtml = 'Like what you see? Visit the ' +\n",
              "            '<a target=\"_blank\" href=https://colab.research.google.com/notebooks/data_table.ipynb>data table notebook</a>'\n",
              "            + ' to learn more about interactive tables.';\n",
              "          element.innerHTML = '';\n",
              "          dataTable['output_type'] = 'display_data';\n",
              "          await google.colab.output.renderOutput(dataTable, element);\n",
              "          const docLink = document.createElement('div');\n",
              "          docLink.innerHTML = docLinkHtml;\n",
              "          element.appendChild(docLink);\n",
              "        }\n",
              "      </script>\n",
              "    </div>\n",
              "  </div>\n",
              "  "
            ]
          },
          "metadata": {},
          "execution_count": 20
        }
      ],
      "source": [
        "lm = nltk.WordNetLemmatizer()\n",
        "\n",
        "def lemmat(tokenized_text):\n",
        "  text = [lm.lemmatize(word) for word in tokenized_text]\n",
        "  return text\n",
        "\n",
        "# add new column 'lemmatized' to df\n",
        "df['lemmatized'] = df['no_stopword'].apply(lambda x: lemmat(x))\n",
        "\n",
        "df.head()"
      ]
    },
    {
      "cell_type": "markdown",
      "metadata": {
        "id": "-rkYBTq09F8-"
      },
      "source": [
        "### LENGTH OF SAMPLE BEFORE AND AFTER PREPROCESSING "
      ]
    },
    {
      "cell_type": "code",
      "execution_count": 21,
      "metadata": {
        "colab": {
          "base_uri": "https://localhost:8080/",
          "height": 424
        },
        "id": "0h-PCoeh9E6a",
        "outputId": "8745cbee-2411-4eba-9c7c-fcc456dca9f8"
      },
      "outputs": [
        {
          "output_type": "execute_result",
          "data": {
            "text/plain": [
              "   product                                          narrative  \\\n",
              "0        0  purchase order day shipping amount receive pro...   \n",
              "2        4  forwarded message cc sent friday pdt subject f...   \n",
              "3        1  payment history missing credit report speciali...   \n",
              "4        1  payment history missing credit report made mis...   \n",
              "5        1  payment history missing credit report made mis...   \n",
              "\n",
              "                                      no_punctuation  \\\n",
              "0  purchase order day shipping amount receive pro...   \n",
              "2  forwarded message cc sent friday pdt subject f...   \n",
              "3  payment history missing credit report speciali...   \n",
              "4  payment history missing credit report made mis...   \n",
              "5  payment history missing credit report made mis...   \n",
              "\n",
              "                                           tokenized  \\\n",
              "0  [purchase, order, day, shipping, amount, recei...   \n",
              "2  [forwarded, message, cc, sent, friday, pdt, su...   \n",
              "3  [payment, history, missing, credit, report, sp...   \n",
              "4  [payment, history, missing, credit, report, ma...   \n",
              "5  [payment, history, missing, credit, report, ma...   \n",
              "\n",
              "                                         no_stopword  \\\n",
              "0  [purchase, order, day, shipping, receive, prod...   \n",
              "2  [forwarded, message, cc, sent, friday, pdt, su...   \n",
              "3  [payment, history, missing, credit, report, sp...   \n",
              "4  [payment, history, missing, credit, report, mi...   \n",
              "5  [payment, history, missing, credit, report, mi...   \n",
              "\n",
              "                                          lemmatized  length_before_cleaning  \\\n",
              "0  [purchase, order, day, shipping, receive, prod...                    1705   \n",
              "2  [forwarded, message, cc, sent, friday, pdt, su...                    1230   \n",
              "3  [payment, history, missing, credit, report, sp...                     903   \n",
              "4  [payment, history, missing, credit, report, mi...                     851   \n",
              "5  [payment, history, missing, credit, report, mi...                     849   \n",
              "\n",
              "   length_after_cleaning  \n",
              "0                    203  \n",
              "2                    147  \n",
              "3                    110  \n",
              "4                    102  \n",
              "5                    102  "
            ],
            "text/html": [
              "\n",
              "  <div id=\"df-bf1dedb5-2b36-4ffe-b599-5e031cf7ca1f\">\n",
              "    <div class=\"colab-df-container\">\n",
              "      <div>\n",
              "<style scoped>\n",
              "    .dataframe tbody tr th:only-of-type {\n",
              "        vertical-align: middle;\n",
              "    }\n",
              "\n",
              "    .dataframe tbody tr th {\n",
              "        vertical-align: top;\n",
              "    }\n",
              "\n",
              "    .dataframe thead th {\n",
              "        text-align: right;\n",
              "    }\n",
              "</style>\n",
              "<table border=\"1\" class=\"dataframe\">\n",
              "  <thead>\n",
              "    <tr style=\"text-align: right;\">\n",
              "      <th></th>\n",
              "      <th>product</th>\n",
              "      <th>narrative</th>\n",
              "      <th>no_punctuation</th>\n",
              "      <th>tokenized</th>\n",
              "      <th>no_stopword</th>\n",
              "      <th>lemmatized</th>\n",
              "      <th>length_before_cleaning</th>\n",
              "      <th>length_after_cleaning</th>\n",
              "    </tr>\n",
              "  </thead>\n",
              "  <tbody>\n",
              "    <tr>\n",
              "      <th>0</th>\n",
              "      <td>0</td>\n",
              "      <td>purchase order day shipping amount receive pro...</td>\n",
              "      <td>purchase order day shipping amount receive pro...</td>\n",
              "      <td>[purchase, order, day, shipping, amount, recei...</td>\n",
              "      <td>[purchase, order, day, shipping, receive, prod...</td>\n",
              "      <td>[purchase, order, day, shipping, receive, prod...</td>\n",
              "      <td>1705</td>\n",
              "      <td>203</td>\n",
              "    </tr>\n",
              "    <tr>\n",
              "      <th>2</th>\n",
              "      <td>4</td>\n",
              "      <td>forwarded message cc sent friday pdt subject f...</td>\n",
              "      <td>forwarded message cc sent friday pdt subject f...</td>\n",
              "      <td>[forwarded, message, cc, sent, friday, pdt, su...</td>\n",
              "      <td>[forwarded, message, cc, sent, friday, pdt, su...</td>\n",
              "      <td>[forwarded, message, cc, sent, friday, pdt, su...</td>\n",
              "      <td>1230</td>\n",
              "      <td>147</td>\n",
              "    </tr>\n",
              "    <tr>\n",
              "      <th>3</th>\n",
              "      <td>1</td>\n",
              "      <td>payment history missing credit report speciali...</td>\n",
              "      <td>payment history missing credit report speciali...</td>\n",
              "      <td>[payment, history, missing, credit, report, sp...</td>\n",
              "      <td>[payment, history, missing, credit, report, sp...</td>\n",
              "      <td>[payment, history, missing, credit, report, sp...</td>\n",
              "      <td>903</td>\n",
              "      <td>110</td>\n",
              "    </tr>\n",
              "    <tr>\n",
              "      <th>4</th>\n",
              "      <td>1</td>\n",
              "      <td>payment history missing credit report made mis...</td>\n",
              "      <td>payment history missing credit report made mis...</td>\n",
              "      <td>[payment, history, missing, credit, report, ma...</td>\n",
              "      <td>[payment, history, missing, credit, report, mi...</td>\n",
              "      <td>[payment, history, missing, credit, report, mi...</td>\n",
              "      <td>851</td>\n",
              "      <td>102</td>\n",
              "    </tr>\n",
              "    <tr>\n",
              "      <th>5</th>\n",
              "      <td>1</td>\n",
              "      <td>payment history missing credit report made mis...</td>\n",
              "      <td>payment history missing credit report made mis...</td>\n",
              "      <td>[payment, history, missing, credit, report, ma...</td>\n",
              "      <td>[payment, history, missing, credit, report, mi...</td>\n",
              "      <td>[payment, history, missing, credit, report, mi...</td>\n",
              "      <td>849</td>\n",
              "      <td>102</td>\n",
              "    </tr>\n",
              "  </tbody>\n",
              "</table>\n",
              "</div>\n",
              "      <button class=\"colab-df-convert\" onclick=\"convertToInteractive('df-bf1dedb5-2b36-4ffe-b599-5e031cf7ca1f')\"\n",
              "              title=\"Convert this dataframe to an interactive table.\"\n",
              "              style=\"display:none;\">\n",
              "        \n",
              "  <svg xmlns=\"http://www.w3.org/2000/svg\" height=\"24px\"viewBox=\"0 0 24 24\"\n",
              "       width=\"24px\">\n",
              "    <path d=\"M0 0h24v24H0V0z\" fill=\"none\"/>\n",
              "    <path d=\"M18.56 5.44l.94 2.06.94-2.06 2.06-.94-2.06-.94-.94-2.06-.94 2.06-2.06.94zm-11 1L8.5 8.5l.94-2.06 2.06-.94-2.06-.94L8.5 2.5l-.94 2.06-2.06.94zm10 10l.94 2.06.94-2.06 2.06-.94-2.06-.94-.94-2.06-.94 2.06-2.06.94z\"/><path d=\"M17.41 7.96l-1.37-1.37c-.4-.4-.92-.59-1.43-.59-.52 0-1.04.2-1.43.59L10.3 9.45l-7.72 7.72c-.78.78-.78 2.05 0 2.83L4 21.41c.39.39.9.59 1.41.59.51 0 1.02-.2 1.41-.59l7.78-7.78 2.81-2.81c.8-.78.8-2.07 0-2.86zM5.41 20L4 18.59l7.72-7.72 1.47 1.35L5.41 20z\"/>\n",
              "  </svg>\n",
              "      </button>\n",
              "      \n",
              "  <style>\n",
              "    .colab-df-container {\n",
              "      display:flex;\n",
              "      flex-wrap:wrap;\n",
              "      gap: 12px;\n",
              "    }\n",
              "\n",
              "    .colab-df-convert {\n",
              "      background-color: #E8F0FE;\n",
              "      border: none;\n",
              "      border-radius: 50%;\n",
              "      cursor: pointer;\n",
              "      display: none;\n",
              "      fill: #1967D2;\n",
              "      height: 32px;\n",
              "      padding: 0 0 0 0;\n",
              "      width: 32px;\n",
              "    }\n",
              "\n",
              "    .colab-df-convert:hover {\n",
              "      background-color: #E2EBFA;\n",
              "      box-shadow: 0px 1px 2px rgba(60, 64, 67, 0.3), 0px 1px 3px 1px rgba(60, 64, 67, 0.15);\n",
              "      fill: #174EA6;\n",
              "    }\n",
              "\n",
              "    [theme=dark] .colab-df-convert {\n",
              "      background-color: #3B4455;\n",
              "      fill: #D2E3FC;\n",
              "    }\n",
              "\n",
              "    [theme=dark] .colab-df-convert:hover {\n",
              "      background-color: #434B5C;\n",
              "      box-shadow: 0px 1px 3px 1px rgba(0, 0, 0, 0.15);\n",
              "      filter: drop-shadow(0px 1px 2px rgba(0, 0, 0, 0.3));\n",
              "      fill: #FFFFFF;\n",
              "    }\n",
              "  </style>\n",
              "\n",
              "      <script>\n",
              "        const buttonEl =\n",
              "          document.querySelector('#df-bf1dedb5-2b36-4ffe-b599-5e031cf7ca1f button.colab-df-convert');\n",
              "        buttonEl.style.display =\n",
              "          google.colab.kernel.accessAllowed ? 'block' : 'none';\n",
              "\n",
              "        async function convertToInteractive(key) {\n",
              "          const element = document.querySelector('#df-bf1dedb5-2b36-4ffe-b599-5e031cf7ca1f');\n",
              "          const dataTable =\n",
              "            await google.colab.kernel.invokeFunction('convertToInteractive',\n",
              "                                                     [key], {});\n",
              "          if (!dataTable) return;\n",
              "\n",
              "          const docLinkHtml = 'Like what you see? Visit the ' +\n",
              "            '<a target=\"_blank\" href=https://colab.research.google.com/notebooks/data_table.ipynb>data table notebook</a>'\n",
              "            + ' to learn more about interactive tables.';\n",
              "          element.innerHTML = '';\n",
              "          dataTable['output_type'] = 'display_data';\n",
              "          await google.colab.output.renderOutput(dataTable, element);\n",
              "          const docLink = document.createElement('div');\n",
              "          docLink.innerHTML = docLinkHtml;\n",
              "          element.appendChild(docLink);\n",
              "        }\n",
              "      </script>\n",
              "    </div>\n",
              "  </div>\n",
              "  "
            ]
          },
          "metadata": {},
          "execution_count": 21
        }
      ],
      "source": [
        "df['length_before_cleaning'] = df['narrative'].apply(lambda x: len(x))  # length of raw texts\n",
        "df['length_after_cleaning'] = df['lemmatized'].apply(lambda x: len(x))  # length of cleand words\n",
        "df.head()"
      ]
    },
    {
      "cell_type": "markdown",
      "metadata": {
        "id": "nPcgpnf2HGSy"
      },
      "source": [
        "### **VISUALIZATIONS OF MOST FREQUENT USED WORDS FROM ORIGINAL TEXT SENTENCES VS LEMMATIZED WORDS**\n"
      ]
    },
    {
      "cell_type": "markdown",
      "metadata": {
        "id": "fHpHtuRxb5Dg"
      },
      "source": [
        "####TOP 10 MOST FREQUENTS WORDS FROM THE ORIGINAL WORDS"
      ]
    },
    {
      "cell_type": "code",
      "execution_count": 22,
      "metadata": {
        "colab": {
          "base_uri": "https://localhost:8080/"
        },
        "id": "2ei09UHiS8dQ",
        "outputId": "410656e5-dd90-4ab9-c673-af43a6ce9a54"
      },
      "outputs": [
        {
          "output_type": "stream",
          "name": "stdout",
          "text": [
            "[('account', 173252), ('credit', 169709), ('payment', 94453), ('report', 83508), ('information', 65332), ('time', 54238), ('loan', 53798), ('would', 53554), ('card', 50663), ('bank', 49455)]\n"
          ]
        }
      ],
      "source": [
        "# Top 10 Most Used Words from the raw narrative column\n",
        "from collections import Counter\n",
        "count = Counter(\" \".join(df[\"narrative\"]).split()).most_common(10)\n",
        "print(count)"
      ]
    },
    {
      "cell_type": "code",
      "execution_count": 23,
      "metadata": {
        "colab": {
          "base_uri": "https://localhost:8080/",
          "height": 363
        },
        "id": "Ih8wanOIaFP4",
        "outputId": "cef2bc5c-2f07-4c54-858b-3112d2fc4b37"
      },
      "outputs": [
        {
          "output_type": "execute_result",
          "data": {
            "text/plain": [
              "         Words  Frequency\n",
              "0      account     173252\n",
              "1       credit     169709\n",
              "2      payment      94453\n",
              "3       report      83508\n",
              "4  information      65332\n",
              "5         time      54238\n",
              "6         loan      53798\n",
              "7        would      53554\n",
              "8         card      50663\n",
              "9         bank      49455"
            ],
            "text/html": [
              "\n",
              "  <div id=\"df-ee006cb4-4b06-4678-935f-634a36b87a9c\">\n",
              "    <div class=\"colab-df-container\">\n",
              "      <div>\n",
              "<style scoped>\n",
              "    .dataframe tbody tr th:only-of-type {\n",
              "        vertical-align: middle;\n",
              "    }\n",
              "\n",
              "    .dataframe tbody tr th {\n",
              "        vertical-align: top;\n",
              "    }\n",
              "\n",
              "    .dataframe thead th {\n",
              "        text-align: right;\n",
              "    }\n",
              "</style>\n",
              "<table border=\"1\" class=\"dataframe\">\n",
              "  <thead>\n",
              "    <tr style=\"text-align: right;\">\n",
              "      <th></th>\n",
              "      <th>Words</th>\n",
              "      <th>Frequency</th>\n",
              "    </tr>\n",
              "  </thead>\n",
              "  <tbody>\n",
              "    <tr>\n",
              "      <th>0</th>\n",
              "      <td>account</td>\n",
              "      <td>173252</td>\n",
              "    </tr>\n",
              "    <tr>\n",
              "      <th>1</th>\n",
              "      <td>credit</td>\n",
              "      <td>169709</td>\n",
              "    </tr>\n",
              "    <tr>\n",
              "      <th>2</th>\n",
              "      <td>payment</td>\n",
              "      <td>94453</td>\n",
              "    </tr>\n",
              "    <tr>\n",
              "      <th>3</th>\n",
              "      <td>report</td>\n",
              "      <td>83508</td>\n",
              "    </tr>\n",
              "    <tr>\n",
              "      <th>4</th>\n",
              "      <td>information</td>\n",
              "      <td>65332</td>\n",
              "    </tr>\n",
              "    <tr>\n",
              "      <th>5</th>\n",
              "      <td>time</td>\n",
              "      <td>54238</td>\n",
              "    </tr>\n",
              "    <tr>\n",
              "      <th>6</th>\n",
              "      <td>loan</td>\n",
              "      <td>53798</td>\n",
              "    </tr>\n",
              "    <tr>\n",
              "      <th>7</th>\n",
              "      <td>would</td>\n",
              "      <td>53554</td>\n",
              "    </tr>\n",
              "    <tr>\n",
              "      <th>8</th>\n",
              "      <td>card</td>\n",
              "      <td>50663</td>\n",
              "    </tr>\n",
              "    <tr>\n",
              "      <th>9</th>\n",
              "      <td>bank</td>\n",
              "      <td>49455</td>\n",
              "    </tr>\n",
              "  </tbody>\n",
              "</table>\n",
              "</div>\n",
              "      <button class=\"colab-df-convert\" onclick=\"convertToInteractive('df-ee006cb4-4b06-4678-935f-634a36b87a9c')\"\n",
              "              title=\"Convert this dataframe to an interactive table.\"\n",
              "              style=\"display:none;\">\n",
              "        \n",
              "  <svg xmlns=\"http://www.w3.org/2000/svg\" height=\"24px\"viewBox=\"0 0 24 24\"\n",
              "       width=\"24px\">\n",
              "    <path d=\"M0 0h24v24H0V0z\" fill=\"none\"/>\n",
              "    <path d=\"M18.56 5.44l.94 2.06.94-2.06 2.06-.94-2.06-.94-.94-2.06-.94 2.06-2.06.94zm-11 1L8.5 8.5l.94-2.06 2.06-.94-2.06-.94L8.5 2.5l-.94 2.06-2.06.94zm10 10l.94 2.06.94-2.06 2.06-.94-2.06-.94-.94-2.06-.94 2.06-2.06.94z\"/><path d=\"M17.41 7.96l-1.37-1.37c-.4-.4-.92-.59-1.43-.59-.52 0-1.04.2-1.43.59L10.3 9.45l-7.72 7.72c-.78.78-.78 2.05 0 2.83L4 21.41c.39.39.9.59 1.41.59.51 0 1.02-.2 1.41-.59l7.78-7.78 2.81-2.81c.8-.78.8-2.07 0-2.86zM5.41 20L4 18.59l7.72-7.72 1.47 1.35L5.41 20z\"/>\n",
              "  </svg>\n",
              "      </button>\n",
              "      \n",
              "  <style>\n",
              "    .colab-df-container {\n",
              "      display:flex;\n",
              "      flex-wrap:wrap;\n",
              "      gap: 12px;\n",
              "    }\n",
              "\n",
              "    .colab-df-convert {\n",
              "      background-color: #E8F0FE;\n",
              "      border: none;\n",
              "      border-radius: 50%;\n",
              "      cursor: pointer;\n",
              "      display: none;\n",
              "      fill: #1967D2;\n",
              "      height: 32px;\n",
              "      padding: 0 0 0 0;\n",
              "      width: 32px;\n",
              "    }\n",
              "\n",
              "    .colab-df-convert:hover {\n",
              "      background-color: #E2EBFA;\n",
              "      box-shadow: 0px 1px 2px rgba(60, 64, 67, 0.3), 0px 1px 3px 1px rgba(60, 64, 67, 0.15);\n",
              "      fill: #174EA6;\n",
              "    }\n",
              "\n",
              "    [theme=dark] .colab-df-convert {\n",
              "      background-color: #3B4455;\n",
              "      fill: #D2E3FC;\n",
              "    }\n",
              "\n",
              "    [theme=dark] .colab-df-convert:hover {\n",
              "      background-color: #434B5C;\n",
              "      box-shadow: 0px 1px 3px 1px rgba(0, 0, 0, 0.15);\n",
              "      filter: drop-shadow(0px 1px 2px rgba(0, 0, 0, 0.3));\n",
              "      fill: #FFFFFF;\n",
              "    }\n",
              "  </style>\n",
              "\n",
              "      <script>\n",
              "        const buttonEl =\n",
              "          document.querySelector('#df-ee006cb4-4b06-4678-935f-634a36b87a9c button.colab-df-convert');\n",
              "        buttonEl.style.display =\n",
              "          google.colab.kernel.accessAllowed ? 'block' : 'none';\n",
              "\n",
              "        async function convertToInteractive(key) {\n",
              "          const element = document.querySelector('#df-ee006cb4-4b06-4678-935f-634a36b87a9c');\n",
              "          const dataTable =\n",
              "            await google.colab.kernel.invokeFunction('convertToInteractive',\n",
              "                                                     [key], {});\n",
              "          if (!dataTable) return;\n",
              "\n",
              "          const docLinkHtml = 'Like what you see? Visit the ' +\n",
              "            '<a target=\"_blank\" href=https://colab.research.google.com/notebooks/data_table.ipynb>data table notebook</a>'\n",
              "            + ' to learn more about interactive tables.';\n",
              "          element.innerHTML = '';\n",
              "          dataTable['output_type'] = 'display_data';\n",
              "          await google.colab.output.renderOutput(dataTable, element);\n",
              "          const docLink = document.createElement('div');\n",
              "          docLink.innerHTML = docLinkHtml;\n",
              "          element.appendChild(docLink);\n",
              "        }\n",
              "      </script>\n",
              "    </div>\n",
              "  </div>\n",
              "  "
            ]
          },
          "metadata": {},
          "execution_count": 23
        }
      ],
      "source": [
        "raw_top = pd.DataFrame(count, columns = ['Words','Frequency'])\n",
        "raw_top"
      ]
    },
    {
      "cell_type": "markdown",
      "metadata": {
        "id": "7FdpScTdJ3c3"
      },
      "source": [
        "\n",
        "####TOP 10 MOST FREQUENTS WORDS FROM LEMMATIZED WORDS"
      ]
    },
    {
      "cell_type": "code",
      "execution_count": 24,
      "metadata": {
        "colab": {
          "base_uri": "https://localhost:8080/",
          "height": 363
        },
        "id": "eF2XhTY9JSXm",
        "outputId": "333ce21c-7088-4b83-9b2c-b30c7d9eb09e"
      },
      "outputs": [
        {
          "output_type": "execute_result",
          "data": {
            "text/plain": [
              "         Words  Frequency\n",
              "0      account     173252\n",
              "1       credit     169709\n",
              "2      payment      94453\n",
              "3       report      83508\n",
              "4  information      65332\n",
              "5         time      54238\n",
              "6         loan      53798\n",
              "7         card      50664\n",
              "8         bank      49455\n",
              "9      company      47495"
            ],
            "text/html": [
              "\n",
              "  <div id=\"df-9e1ec073-1118-4c3e-84b7-ba29afb77849\">\n",
              "    <div class=\"colab-df-container\">\n",
              "      <div>\n",
              "<style scoped>\n",
              "    .dataframe tbody tr th:only-of-type {\n",
              "        vertical-align: middle;\n",
              "    }\n",
              "\n",
              "    .dataframe tbody tr th {\n",
              "        vertical-align: top;\n",
              "    }\n",
              "\n",
              "    .dataframe thead th {\n",
              "        text-align: right;\n",
              "    }\n",
              "</style>\n",
              "<table border=\"1\" class=\"dataframe\">\n",
              "  <thead>\n",
              "    <tr style=\"text-align: right;\">\n",
              "      <th></th>\n",
              "      <th>Words</th>\n",
              "      <th>Frequency</th>\n",
              "    </tr>\n",
              "  </thead>\n",
              "  <tbody>\n",
              "    <tr>\n",
              "      <th>0</th>\n",
              "      <td>account</td>\n",
              "      <td>173252</td>\n",
              "    </tr>\n",
              "    <tr>\n",
              "      <th>1</th>\n",
              "      <td>credit</td>\n",
              "      <td>169709</td>\n",
              "    </tr>\n",
              "    <tr>\n",
              "      <th>2</th>\n",
              "      <td>payment</td>\n",
              "      <td>94453</td>\n",
              "    </tr>\n",
              "    <tr>\n",
              "      <th>3</th>\n",
              "      <td>report</td>\n",
              "      <td>83508</td>\n",
              "    </tr>\n",
              "    <tr>\n",
              "      <th>4</th>\n",
              "      <td>information</td>\n",
              "      <td>65332</td>\n",
              "    </tr>\n",
              "    <tr>\n",
              "      <th>5</th>\n",
              "      <td>time</td>\n",
              "      <td>54238</td>\n",
              "    </tr>\n",
              "    <tr>\n",
              "      <th>6</th>\n",
              "      <td>loan</td>\n",
              "      <td>53798</td>\n",
              "    </tr>\n",
              "    <tr>\n",
              "      <th>7</th>\n",
              "      <td>card</td>\n",
              "      <td>50664</td>\n",
              "    </tr>\n",
              "    <tr>\n",
              "      <th>8</th>\n",
              "      <td>bank</td>\n",
              "      <td>49455</td>\n",
              "    </tr>\n",
              "    <tr>\n",
              "      <th>9</th>\n",
              "      <td>company</td>\n",
              "      <td>47495</td>\n",
              "    </tr>\n",
              "  </tbody>\n",
              "</table>\n",
              "</div>\n",
              "      <button class=\"colab-df-convert\" onclick=\"convertToInteractive('df-9e1ec073-1118-4c3e-84b7-ba29afb77849')\"\n",
              "              title=\"Convert this dataframe to an interactive table.\"\n",
              "              style=\"display:none;\">\n",
              "        \n",
              "  <svg xmlns=\"http://www.w3.org/2000/svg\" height=\"24px\"viewBox=\"0 0 24 24\"\n",
              "       width=\"24px\">\n",
              "    <path d=\"M0 0h24v24H0V0z\" fill=\"none\"/>\n",
              "    <path d=\"M18.56 5.44l.94 2.06.94-2.06 2.06-.94-2.06-.94-.94-2.06-.94 2.06-2.06.94zm-11 1L8.5 8.5l.94-2.06 2.06-.94-2.06-.94L8.5 2.5l-.94 2.06-2.06.94zm10 10l.94 2.06.94-2.06 2.06-.94-2.06-.94-.94-2.06-.94 2.06-2.06.94z\"/><path d=\"M17.41 7.96l-1.37-1.37c-.4-.4-.92-.59-1.43-.59-.52 0-1.04.2-1.43.59L10.3 9.45l-7.72 7.72c-.78.78-.78 2.05 0 2.83L4 21.41c.39.39.9.59 1.41.59.51 0 1.02-.2 1.41-.59l7.78-7.78 2.81-2.81c.8-.78.8-2.07 0-2.86zM5.41 20L4 18.59l7.72-7.72 1.47 1.35L5.41 20z\"/>\n",
              "  </svg>\n",
              "      </button>\n",
              "      \n",
              "  <style>\n",
              "    .colab-df-container {\n",
              "      display:flex;\n",
              "      flex-wrap:wrap;\n",
              "      gap: 12px;\n",
              "    }\n",
              "\n",
              "    .colab-df-convert {\n",
              "      background-color: #E8F0FE;\n",
              "      border: none;\n",
              "      border-radius: 50%;\n",
              "      cursor: pointer;\n",
              "      display: none;\n",
              "      fill: #1967D2;\n",
              "      height: 32px;\n",
              "      padding: 0 0 0 0;\n",
              "      width: 32px;\n",
              "    }\n",
              "\n",
              "    .colab-df-convert:hover {\n",
              "      background-color: #E2EBFA;\n",
              "      box-shadow: 0px 1px 2px rgba(60, 64, 67, 0.3), 0px 1px 3px 1px rgba(60, 64, 67, 0.15);\n",
              "      fill: #174EA6;\n",
              "    }\n",
              "\n",
              "    [theme=dark] .colab-df-convert {\n",
              "      background-color: #3B4455;\n",
              "      fill: #D2E3FC;\n",
              "    }\n",
              "\n",
              "    [theme=dark] .colab-df-convert:hover {\n",
              "      background-color: #434B5C;\n",
              "      box-shadow: 0px 1px 3px 1px rgba(0, 0, 0, 0.15);\n",
              "      filter: drop-shadow(0px 1px 2px rgba(0, 0, 0, 0.3));\n",
              "      fill: #FFFFFF;\n",
              "    }\n",
              "  </style>\n",
              "\n",
              "      <script>\n",
              "        const buttonEl =\n",
              "          document.querySelector('#df-9e1ec073-1118-4c3e-84b7-ba29afb77849 button.colab-df-convert');\n",
              "        buttonEl.style.display =\n",
              "          google.colab.kernel.accessAllowed ? 'block' : 'none';\n",
              "\n",
              "        async function convertToInteractive(key) {\n",
              "          const element = document.querySelector('#df-9e1ec073-1118-4c3e-84b7-ba29afb77849');\n",
              "          const dataTable =\n",
              "            await google.colab.kernel.invokeFunction('convertToInteractive',\n",
              "                                                     [key], {});\n",
              "          if (!dataTable) return;\n",
              "\n",
              "          const docLinkHtml = 'Like what you see? Visit the ' +\n",
              "            '<a target=\"_blank\" href=https://colab.research.google.com/notebooks/data_table.ipynb>data table notebook</a>'\n",
              "            + ' to learn more about interactive tables.';\n",
              "          element.innerHTML = '';\n",
              "          dataTable['output_type'] = 'display_data';\n",
              "          await google.colab.output.renderOutput(dataTable, element);\n",
              "          const docLink = document.createElement('div');\n",
              "          docLink.innerHTML = docLinkHtml;\n",
              "          element.appendChild(docLink);\n",
              "        }\n",
              "      </script>\n",
              "    </div>\n",
              "  </div>\n",
              "  "
            ]
          },
          "metadata": {},
          "execution_count": 24
        }
      ],
      "source": [
        "reviews = df[\"lemmatized\"].values.tolist()\n",
        "flat_list = [item for elem in reviews for item in elem if str(item) != 'nan']\n",
        "\n",
        "fdist1 = nltk.FreqDist(flat_list)\n",
        "lem_top = pd.DataFrame(fdist1.most_common(10), columns = ['Words','Frequency'])\n",
        "lem_top"
      ]
    },
    {
      "cell_type": "code",
      "execution_count": 25,
      "metadata": {
        "colab": {
          "base_uri": "https://localhost:8080/",
          "height": 469
        },
        "id": "kfAQLxyUckgN",
        "outputId": "38e5ff9e-b42b-4c7d-abb3-ac0774f6e305"
      },
      "outputs": [
        {
          "output_type": "display_data",
          "data": {
            "text/plain": [
              "<Figure size 1008x432 with 2 Axes>"
            ],
            "image/png": "[encoded data removed]"
          },
          "metadata": {
            "needs_background": "light"
          }
        }
      ],
      "source": [
        "fig, ax = plt.subplots(1,2, figsize=(14,6), sharey=True)\n",
        "fig.suptitle('Top 10 Most Frequent Words')\n",
        "\n",
        "sns.barplot(x='Words', y= 'Frequency', data = raw_top , palette = 'Accent_r', ax = ax[0])\n",
        "sns.barplot(x='Words', y= 'Frequency', data = lem_top , palette = 'Accent_r', ax = ax[1])\n",
        "\n",
        "ax[0].set_title('Original Text Sentences')\n",
        "ax[1].set_title('Lemmanatized Words')\n",
        "\n",
        "ax[0].tick_params(axis='x', labelrotation=45)\n",
        "ax[1].tick_params(axis='x', labelrotation=45)\n",
        "fig.show()"
      ]
    },
    {
      "cell_type": "markdown",
      "metadata": {
        "id": "jn49MvZjvZto"
      },
      "source": [
        "### **DATA PARTITIONING** "
      ]
    },
    {
      "cell_type": "code",
      "execution_count": 26,
      "metadata": {
        "colab": {
          "base_uri": "https://localhost:8080/"
        },
        "id": "rQUl9x-9vpmp",
        "outputId": "183be2ce-07a7-4309-af7a-d12dd31eea9c"
      },
      "outputs": [
        {
          "output_type": "stream",
          "name": "stdout",
          "text": [
            "0    [purchase, order, day, shipping, receive, prod...\n",
            "2    [forwarded, message, cc, sent, friday, pdt, su...\n",
            "3    [payment, history, missing, credit, report, sp...\n",
            "4    [payment, history, missing, credit, report, mi...\n",
            "5    [payment, history, missing, credit, report, mi...\n",
            "Name: lemmatized, dtype: object\n",
            "   product\n",
            "0        0\n",
            "2        4\n",
            "3        1\n",
            "4        1\n",
            "5        1\n"
          ]
        }
      ],
      "source": [
        "# Clean Data Frame with only 'product' and 'lemmatized' columns\n",
        "clean_df = df[['product','lemmatized']]\n",
        "\n",
        "# split feature and target column \n",
        "X = clean_df['lemmatized']\n",
        "y = df[['product']]\n",
        "\n",
        "print(X.head())\n",
        "print(y.head())"
      ]
    },
    {
      "cell_type": "markdown",
      "metadata": {
        "id": "9-h0_YcoHAme"
      },
      "source": [
        "###**TF-IDF VECTORIZATION**\n",
        "\n",
        "Vectorization is to convert the text data into numerical data/vector for the NLP machine learning. TF-IDF method will be used for this project. "
      ]
    },
    {
      "cell_type": "code",
      "execution_count": 27,
      "metadata": {
        "id": "04nthn_JpBwh"
      },
      "outputs": [],
      "source": [
        "X_array = X.astype(str)"
      ]
    },
    {
      "cell_type": "code",
      "execution_count": 28,
      "metadata": {
        "colab": {
          "base_uri": "https://localhost:8080/",
          "height": 300
        },
        "id": "x01xWgE2XVTJ",
        "outputId": "29cc78f9-6376-4273-b1f0-87bdc5c32312"
      },
      "outputs": [
        {
          "output_type": "execute_result",
          "data": {
            "text/plain": [
              "    aa  aaa  aaadvantage  aaarrrrgghhhhhh  aab  aac  aaccount  aacount  \\\n",
              "0  0.0  0.0          0.0              0.0  0.0  0.0       0.0      0.0   \n",
              "1  0.0  0.0          0.0              0.0  0.0  0.0       0.0      0.0   \n",
              "2  0.0  0.0          0.0              0.0  0.0  0.0       0.0      0.0   \n",
              "3  0.0  0.0          0.0              0.0  0.0  0.0       0.0      0.0   \n",
              "4  0.0  0.0          0.0              0.0  0.0  0.0       0.0      0.0   \n",
              "\n",
              "   aadvantage  aadvantages  ...  zombie  zone  zoned  zoning  zoo  zoom  \\\n",
              "0         0.0          0.0  ...     0.0   0.0    0.0     0.0  0.0   0.0   \n",
              "1         0.0          0.0  ...     0.0   0.0    0.0     0.0  0.0   0.0   \n",
              "2         0.0          0.0  ...     0.0   0.0    0.0     0.0  0.0   0.0   \n",
              "3         0.0          0.0  ...     0.0   0.0    0.0     0.0  0.0   0.0   \n",
              "4         0.0          0.0  ...     0.0   0.0    0.0     0.0  0.0   0.0   \n",
              "\n",
              "   zoomed  zsaleh  zuntafi  zwicker  \n",
              "0     0.0     0.0      0.0      0.0  \n",
              "1     0.0     0.0      0.0      0.0  \n",
              "2     0.0     0.0      0.0      0.0  \n",
              "3     0.0     0.0      0.0      0.0  \n",
              "4     0.0     0.0      0.0      0.0  \n",
              "\n",
              "[5 rows x 38924 columns]"
            ],
            "text/html": [
              "\n",
              "  <div id=\"df-1e2d85ad-eb59-4bd2-b32a-a8da7cece2c3\">\n",
              "    <div class=\"colab-df-container\">\n",
              "      <div>\n",
              "<style scoped>\n",
              "    .dataframe tbody tr th:only-of-type {\n",
              "        vertical-align: middle;\n",
              "    }\n",
              "\n",
              "    .dataframe tbody tr th {\n",
              "        vertical-align: top;\n",
              "    }\n",
              "\n",
              "    .dataframe thead th {\n",
              "        text-align: right;\n",
              "    }\n",
              "</style>\n",
              "<table border=\"1\" class=\"dataframe\">\n",
              "  <thead>\n",
              "    <tr style=\"text-align: right;\">\n",
              "      <th></th>\n",
              "      <th>aa</th>\n",
              "      <th>aaa</th>\n",
              "      <th>aaadvantage</th>\n",
              "      <th>aaarrrrgghhhhhh</th>\n",
              "      <th>aab</th>\n",
              "      <th>aac</th>\n",
              "      <th>aaccount</th>\n",
              "      <th>aacount</th>\n",
              "      <th>aadvantage</th>\n",
              "      <th>aadvantages</th>\n",
              "      <th>...</th>\n",
              "      <th>zombie</th>\n",
              "      <th>zone</th>\n",
              "      <th>zoned</th>\n",
              "      <th>zoning</th>\n",
              "      <th>zoo</th>\n",
              "      <th>zoom</th>\n",
              "      <th>zoomed</th>\n",
              "      <th>zsaleh</th>\n",
              "      <th>zuntafi</th>\n",
              "      <th>zwicker</th>\n",
              "    </tr>\n",
              "  </thead>\n",
              "  <tbody>\n",
              "    <tr>\n",
              "      <th>0</th>\n",
              "      <td>0.0</td>\n",
              "      <td>0.0</td>\n",
              "      <td>0.0</td>\n",
              "      <td>0.0</td>\n",
              "      <td>0.0</td>\n",
              "      <td>0.0</td>\n",
              "      <td>0.0</td>\n",
              "      <td>0.0</td>\n",
              "      <td>0.0</td>\n",
              "      <td>0.0</td>\n",
              "      <td>...</td>\n",
              "      <td>0.0</td>\n",
              "      <td>0.0</td>\n",
              "      <td>0.0</td>\n",
              "      <td>0.0</td>\n",
              "      <td>0.0</td>\n",
              "      <td>0.0</td>\n",
              "      <td>0.0</td>\n",
              "      <td>0.0</td>\n",
              "      <td>0.0</td>\n",
              "      <td>0.0</td>\n",
              "    </tr>\n",
              "    <tr>\n",
              "      <th>1</th>\n",
              "      <td>0.0</td>\n",
              "      <td>0.0</td>\n",
              "      <td>0.0</td>\n",
              "      <td>0.0</td>\n",
              "      <td>0.0</td>\n",
              "      <td>0.0</td>\n",
              "      <td>0.0</td>\n",
              "      <td>0.0</td>\n",
              "      <td>0.0</td>\n",
              "      <td>0.0</td>\n",
              "      <td>...</td>\n",
              "      <td>0.0</td>\n",
              "      <td>0.0</td>\n",
              "      <td>0.0</td>\n",
              "      <td>0.0</td>\n",
              "      <td>0.0</td>\n",
              "      <td>0.0</td>\n",
              "      <td>0.0</td>\n",
              "      <td>0.0</td>\n",
              "      <td>0.0</td>\n",
              "      <td>0.0</td>\n",
              "    </tr>\n",
              "    <tr>\n",
              "      <th>2</th>\n",
              "      <td>0.0</td>\n",
              "      <td>0.0</td>\n",
              "      <td>0.0</td>\n",
              "      <td>0.0</td>\n",
              "      <td>0.0</td>\n",
              "      <td>0.0</td>\n",
              "      <td>0.0</td>\n",
              "      <td>0.0</td>\n",
              "      <td>0.0</td>\n",
              "      <td>0.0</td>\n",
              "      <td>...</td>\n",
              "      <td>0.0</td>\n",
              "      <td>0.0</td>\n",
              "      <td>0.0</td>\n",
              "      <td>0.0</td>\n",
              "      <td>0.0</td>\n",
              "      <td>0.0</td>\n",
              "      <td>0.0</td>\n",
              "      <td>0.0</td>\n",
              "      <td>0.0</td>\n",
              "      <td>0.0</td>\n",
              "    </tr>\n",
              "    <tr>\n",
              "      <th>3</th>\n",
              "      <td>0.0</td>\n",
              "      <td>0.0</td>\n",
              "      <td>0.0</td>\n",
              "      <td>0.0</td>\n",
              "      <td>0.0</td>\n",
              "      <td>0.0</td>\n",
              "      <td>0.0</td>\n",
              "      <td>0.0</td>\n",
              "      <td>0.0</td>\n",
              "      <td>0.0</td>\n",
              "      <td>...</td>\n",
              "      <td>0.0</td>\n",
              "      <td>0.0</td>\n",
              "      <td>0.0</td>\n",
              "      <td>0.0</td>\n",
              "      <td>0.0</td>\n",
              "      <td>0.0</td>\n",
              "      <td>0.0</td>\n",
              "      <td>0.0</td>\n",
              "      <td>0.0</td>\n",
              "      <td>0.0</td>\n",
              "    </tr>\n",
              "    <tr>\n",
              "      <th>4</th>\n",
              "      <td>0.0</td>\n",
              "      <td>0.0</td>\n",
              "      <td>0.0</td>\n",
              "      <td>0.0</td>\n",
              "      <td>0.0</td>\n",
              "      <td>0.0</td>\n",
              "      <td>0.0</td>\n",
              "      <td>0.0</td>\n",
              "      <td>0.0</td>\n",
              "      <td>0.0</td>\n",
              "      <td>...</td>\n",
              "      <td>0.0</td>\n",
              "      <td>0.0</td>\n",
              "      <td>0.0</td>\n",
              "      <td>0.0</td>\n",
              "      <td>0.0</td>\n",
              "      <td>0.0</td>\n",
              "      <td>0.0</td>\n",
              "      <td>0.0</td>\n",
              "      <td>0.0</td>\n",
              "      <td>0.0</td>\n",
              "    </tr>\n",
              "  </tbody>\n",
              "</table>\n",
              "<p>5 rows × 38924 columns</p>\n",
              "</div>\n",
              "      <button class=\"colab-df-convert\" onclick=\"convertToInteractive('df-1e2d85ad-eb59-4bd2-b32a-a8da7cece2c3')\"\n",
              "              title=\"Convert this dataframe to an interactive table.\"\n",
              "              style=\"display:none;\">\n",
              "        \n",
              "  <svg xmlns=\"http://www.w3.org/2000/svg\" height=\"24px\"viewBox=\"0 0 24 24\"\n",
              "       width=\"24px\">\n",
              "    <path d=\"M0 0h24v24H0V0z\" fill=\"none\"/>\n",
              "    <path d=\"M18.56 5.44l.94 2.06.94-2.06 2.06-.94-2.06-.94-.94-2.06-.94 2.06-2.06.94zm-11 1L8.5 8.5l.94-2.06 2.06-.94-2.06-.94L8.5 2.5l-.94 2.06-2.06.94zm10 10l.94 2.06.94-2.06 2.06-.94-2.06-.94-.94-2.06-.94 2.06-2.06.94z\"/><path d=\"M17.41 7.96l-1.37-1.37c-.4-.4-.92-.59-1.43-.59-.52 0-1.04.2-1.43.59L10.3 9.45l-7.72 7.72c-.78.78-.78 2.05 0 2.83L4 21.41c.39.39.9.59 1.41.59.51 0 1.02-.2 1.41-.59l7.78-7.78 2.81-2.81c.8-.78.8-2.07 0-2.86zM5.41 20L4 18.59l7.72-7.72 1.47 1.35L5.41 20z\"/>\n",
              "  </svg>\n",
              "      </button>\n",
              "      \n",
              "  <style>\n",
              "    .colab-df-container {\n",
              "      display:flex;\n",
              "      flex-wrap:wrap;\n",
              "      gap: 12px;\n",
              "    }\n",
              "\n",
              "    .colab-df-convert {\n",
              "      background-color: #E8F0FE;\n",
              "      border: none;\n",
              "      border-radius: 50%;\n",
              "      cursor: pointer;\n",
              "      display: none;\n",
              "      fill: #1967D2;\n",
              "      height: 32px;\n",
              "      padding: 0 0 0 0;\n",
              "      width: 32px;\n",
              "    }\n",
              "\n",
              "    .colab-df-convert:hover {\n",
              "      background-color: #E2EBFA;\n",
              "      box-shadow: 0px 1px 2px rgba(60, 64, 67, 0.3), 0px 1px 3px 1px rgba(60, 64, 67, 0.15);\n",
              "      fill: #174EA6;\n",
              "    }\n",
              "\n",
              "    [theme=dark] .colab-df-convert {\n",
              "      background-color: #3B4455;\n",
              "      fill: #D2E3FC;\n",
              "    }\n",
              "\n",
              "    [theme=dark] .colab-df-convert:hover {\n",
              "      background-color: #434B5C;\n",
              "      box-shadow: 0px 1px 3px 1px rgba(0, 0, 0, 0.15);\n",
              "      filter: drop-shadow(0px 1px 2px rgba(0, 0, 0, 0.3));\n",
              "      fill: #FFFFFF;\n",
              "    }\n",
              "  </style>\n",
              "\n",
              "      <script>\n",
              "        const buttonEl =\n",
              "          document.querySelector('#df-1e2d85ad-eb59-4bd2-b32a-a8da7cece2c3 button.colab-df-convert');\n",
              "        buttonEl.style.display =\n",
              "          google.colab.kernel.accessAllowed ? 'block' : 'none';\n",
              "\n",
              "        async function convertToInteractive(key) {\n",
              "          const element = document.querySelector('#df-1e2d85ad-eb59-4bd2-b32a-a8da7cece2c3');\n",
              "          const dataTable =\n",
              "            await google.colab.kernel.invokeFunction('convertToInteractive',\n",
              "                                                     [key], {});\n",
              "          if (!dataTable) return;\n",
              "\n",
              "          const docLinkHtml = 'Like what you see? Visit the ' +\n",
              "            '<a target=\"_blank\" href=https://colab.research.google.com/notebooks/data_table.ipynb>data table notebook</a>'\n",
              "            + ' to learn more about interactive tables.';\n",
              "          element.innerHTML = '';\n",
              "          dataTable['output_type'] = 'display_data';\n",
              "          await google.colab.output.renderOutput(dataTable, element);\n",
              "          const docLink = document.createElement('div');\n",
              "          docLink.innerHTML = docLinkHtml;\n",
              "          element.appendChild(docLink);\n",
              "        }\n",
              "      </script>\n",
              "    </div>\n",
              "  </div>\n",
              "  "
            ]
          },
          "metadata": {},
          "execution_count": 28
        }
      ],
      "source": [
        "# Vectorization\n",
        "# for train data set\n",
        "vectorizer = TfidfVectorizer()\n",
        "X_vec = vectorizer.fit_transform(X_array)\n",
        "\n",
        "# get feature names\n",
        "feat_names = vectorizer.get_feature_names()\n",
        "feat_names\n",
        "\n",
        "# create da data frame called X from bag of words features\n",
        "X_tf = pd.DataFrame.sparse.from_spmatrix(X_vec, columns = feat_names)\n",
        "X_tf.head()"
      ]
    },
    {
      "cell_type": "code",
      "execution_count": 29,
      "metadata": {
        "colab": {
          "base_uri": "https://localhost:8080/"
        },
        "id": "6sJLq7Aevecp",
        "outputId": "b9d0c53a-de1a-4650-a1c4-329530b100be"
      },
      "outputs": [
        {
          "output_type": "execute_result",
          "data": {
            "text/plain": [
              "((66499, 38924), (66499, 1), (28500, 38924), (28500, 1))"
            ]
          },
          "metadata": {},
          "execution_count": 29
        }
      ],
      "source": [
        "# train(70%) and test (30%) splitting with stratified samples\n",
        "X_train, X_test, y_train, y_test = train_test_split(X_tf,y, test_size = 0.3, random_state = 42, stratify = y)\n",
        "\n",
        "X_train.shape, y_train.shape, X_test.shape, y_test.shape"
      ]
    },
    {
      "cell_type": "markdown",
      "metadata": {
        "id": "aAFoUXXtSmH_"
      },
      "source": [
        "###**FEATURE SELECTION USING SELECTKBest**\n",
        "\n",
        "We are going to do four separate data sets named small(k=50), medium (k=500), large(1000), and extra large(k=3000) using the train data set and the feature selection SelectKBest to see the effects of the feature columns' sizes for our trained models.   "
      ]
    },
    {
      "cell_type": "markdown",
      "metadata": {
        "id": "iJaXdjYsSWzb"
      },
      "source": [
        "####Small Vocab List (k=50)"
      ]
    },
    {
      "cell_type": "code",
      "execution_count": 30,
      "metadata": {
        "id": "OcQntCuFSadC"
      },
      "outputs": [],
      "source": [
        "from sklearn.feature_selection import SelectKBest, chi2\n",
        "kbest = SelectKBest(chi2,k=50)\n",
        "kbest = kbest.fit(X_train, y_train)\n",
        "X_train_small = kbest.transform(X_train)\n",
        "X_test_small = kbest.transform(X_test)"
      ]
    },
    {
      "cell_type": "code",
      "execution_count": 31,
      "metadata": {
        "id": "cWwiEIy_Tnh_"
      },
      "outputs": [],
      "source": [
        "import scipy.sparse\n",
        "X_train_small = pd.DataFrame(X_train_small.todense(), columns = X_train.columns[kbest.get_support()].tolist())\n",
        "X_test_small = pd.DataFrame(X_test_small.todense(), columns = X_test.columns[kbest.get_support()].tolist())"
      ]
    },
    {
      "cell_type": "markdown",
      "metadata": {
        "id": "I5YxBdccSi8Q"
      },
      "source": [
        "#### Medium Vocab List (k = 500)"
      ]
    },
    {
      "cell_type": "code",
      "execution_count": 32,
      "metadata": {
        "id": "KthcJFx0SwR_"
      },
      "outputs": [],
      "source": [
        "from sklearn.feature_selection import SelectKBest, chi2\n",
        "kbest = SelectKBest(chi2,k=500)\n",
        "kbest = kbest.fit(X_train, y_train)\n",
        "X_train_medium = kbest.transform(X_train)\n",
        "X_test_medium = kbest.transform(X_test)"
      ]
    },
    {
      "cell_type": "code",
      "execution_count": 33,
      "metadata": {
        "id": "4f1TQ3tDTnHB"
      },
      "outputs": [],
      "source": [
        "import scipy.sparse\n",
        "X_train_medium = pd.DataFrame(X_train_medium.todense(), columns = X_train.columns[kbest.get_support()].tolist())\n",
        "X_test_medium = pd.DataFrame(X_test_medium.todense(), columns = X_test.columns[kbest.get_support()].tolist())"
      ]
    },
    {
      "cell_type": "markdown",
      "metadata": {
        "id": "rN_8qUVtS7re"
      },
      "source": [
        "#### Large Vocab List (k = 1000)"
      ]
    },
    {
      "cell_type": "code",
      "execution_count": 34,
      "metadata": {
        "id": "p5TGXl80TkRy"
      },
      "outputs": [],
      "source": [
        "from sklearn.feature_selection import SelectKBest, chi2\n",
        "kbest = SelectKBest(chi2,k=1000)\n",
        "kbest = kbest.fit(X_train, y_train)\n",
        "X_train_large = kbest.transform(X_train)\n",
        "X_test_large = kbest.transform(X_test)"
      ]
    },
    {
      "cell_type": "code",
      "execution_count": 35,
      "metadata": {
        "id": "JJOwRmDdTleS"
      },
      "outputs": [],
      "source": [
        "import scipy.sparse\n",
        "X_train_large = pd.DataFrame(X_train_large.todense(), columns = X_train.columns[kbest.get_support()].tolist())\n",
        "X_test_large = pd.DataFrame(X_test_large.todense(), columns = X_test.columns[kbest.get_support()].tolist())"
      ]
    },
    {
      "cell_type": "markdown",
      "metadata": {
        "id": "1HRNv2DETBDv"
      },
      "source": [
        "#### Extra Large Vocab List (k = 3000)"
      ]
    },
    {
      "cell_type": "code",
      "execution_count": 36,
      "metadata": {
        "id": "KclkaNE4S5xe"
      },
      "outputs": [],
      "source": [
        "from sklearn.feature_selection import SelectKBest, chi2\n",
        "kbest = SelectKBest(chi2,k=3000)\n",
        "kbest = kbest.fit(X_train, y_train)\n",
        "X_train_xlarge = kbest.transform(X_train)\n",
        "X_test_xlarge = kbest.transform(X_test)"
      ]
    },
    {
      "cell_type": "code",
      "execution_count": 37,
      "metadata": {
        "id": "yE9TZBAOUy9G"
      },
      "outputs": [],
      "source": [
        "import scipy.sparse\n",
        "X_train_xlarge = pd.DataFrame(X_train_xlarge.todense(), columns = X_train.columns[kbest.get_support()].tolist())\n",
        "X_test_xlarge = pd.DataFrame(X_test_xlarge.todense(), columns = X_test.columns[kbest.get_support()].tolist())"
      ]
    },
    {
      "cell_type": "markdown",
      "metadata": {
        "id": "ot0Ndm-g-0Tr"
      },
      "source": [
        "### Pickle Fitted Kbest Model"
      ]
    },
    {
      "cell_type": "code",
      "execution_count": 38,
      "metadata": {
        "id": "29v0AtFc-6Ut"
      },
      "outputs": [],
      "source": [
        "# Uncomment to update kbest fitted model\n",
        "#import pickle\n",
        "#filename = 'kbest.sav'\n",
        "#pickle.dump(kbest, open(filename, 'wb'))"
      ]
    },
    {
      "cell_type": "markdown",
      "metadata": {
        "id": "OADG6Tsh4eS8"
      },
      "source": [
        "### Storing Dataset"
      ]
    },
    {
      "cell_type": "code",
      "execution_count": 39,
      "metadata": {
        "id": "mURVT4fL4dig"
      },
      "outputs": [],
      "source": [
        "# Uncomment to update data csv files\n",
        "#X_train_small.to_csv('/content/drive/MyDrive/ADS504_MachineLearning_GroupProject/Colab Notebooks/Data/X_train_small.csv', header=True)\n",
        "#X_train_medium.to_csv('/content/drive/MyDrive/ADS504_MachineLearning_GroupProject/Colab Notebooks/Data/X_train_medium.csv', header=True)\n",
        "#X_train_large.to_csv('/content/drive/MyDrive/ADS504_MachineLearning_GroupProject/Colab Notebooks/Data/X_train_large.csv', header=True)\n",
        "#X_train_xlarge.to_csv('/content/drive/MyDrive/ADS504_MachineLearning_GroupProject/Colab Notebooks/Data/X_train_xlarge.csv', header=True)\n",
        "\n",
        "#X_test_small.to_csv('/content/drive/MyDrive/ADS504_MachineLearning_GroupProject/Colab Notebooks/Data/X_test_small.csv', header=True)\n",
        "#X_test_medium.to_csv('/content/drive/MyDrive/ADS504_MachineLearning_GroupProject/Colab Notebooks/Data/X_test_medium.csv', header=True)\n",
        "#X_test_large.to_csv('/content/drive/MyDrive/ADS504_MachineLearning_GroupProject/Colab Notebooks/Data/X_test_large.csv', header=True)\n",
        "#X_test_xlarge.to_csv('/content/drive/MyDrive/ADS504_MachineLearning_GroupProject/Colab Notebooks/Data/X_test_xlarge.csv', header=True)\n",
        "\n",
        "#y_train.to_csv('/content/drive/MyDrive/ADS504_MachineLearning_GroupProject/Colab Notebooks/Data/y_train.csv', header=True)\n",
        "#y_test.to_csv('/content/drive/MyDrive/ADS504_MachineLearning_GroupProject/Colab Notebooks/Data/y_test.csv', header=True)"
      ]
    },
    {
      "cell_type": "markdown",
      "metadata": {
        "id": "XpogxWRUSQlJ"
      },
      "source": [
        "###**MODELS**"
      ]
    },
    {
      "cell_type": "markdown",
      "metadata": {
        "id": "e5NXkA36hUP7"
      },
      "source": [
        "For this project, we will be training the following models with different types of hyparameter tunings. \n",
        "\n",
        "1) Baseline Model with Dummmy Classifier\n",
        "\n",
        "2) Random Forest\n",
        "\n",
        "3) Perceptron\n",
        "\n",
        "4) Support Vecotr Machine (SVM) \n",
        "\n",
        "5) Stochastic Gradient Descent (SGD) \n"
      ]
    },
    {
      "cell_type": "markdown",
      "metadata": {
        "id": "NAhwDbyKhisO"
      },
      "source": [
        "####**BASE LINE MODEL**\n",
        "\n",
        "First, we are going to implement the base line model using the Scikit-Learn Dummy Classifier to compare against other more complex classifiers. "
      ]
    },
    {
      "cell_type": "code",
      "execution_count": 40,
      "metadata": {
        "colab": {
          "base_uri": "https://localhost:8080/"
        },
        "id": "WpXujD1ehm7s",
        "outputId": "b23c3376-7c61-4cca-91c3-dd6ead255dfe"
      },
      "outputs": [
        {
          "output_type": "execute_result",
          "data": {
            "text/plain": [
              "DummyClassifier(random_state=42, strategy='most_frequent')"
            ]
          },
          "metadata": {},
          "execution_count": 40
        }
      ],
      "source": [
        "from sklearn.dummy import DummyClassifier\n",
        "\n",
        "dummy_clf = DummyClassifier(strategy=\"most_frequent\", random_state=42)\n",
        "dummy_clf.fit(X_train_xlarge, y_train)"
      ]
    },
    {
      "cell_type": "code",
      "execution_count": 41,
      "metadata": {
        "id": "jOPeQiX-i-SE"
      },
      "outputs": [],
      "source": [
        "# make predictions using fitted model\n",
        "dummy_train_pred = dummy_clf.predict(X_train_xlarge)\n",
        "dummy_test_pred = dummy_clf.predict(X_test_xlarge)"
      ]
    },
    {
      "cell_type": "code",
      "execution_count": 42,
      "metadata": {
        "colab": {
          "base_uri": "https://localhost:8080/"
        },
        "id": "xZXEqqFyjHfD",
        "outputId": "65e4d5f3-d838-44ef-93a9-a0ee2421b5d2"
      },
      "outputs": [
        {
          "output_type": "stream",
          "name": "stdout",
          "text": [
            "                   precision    recall  f1-score   support\n",
            "\n",
            "      Credit Card       0.00      0.00      0.00      3908\n",
            " Credit Reporting       0.39      1.00      0.56     11179\n",
            "  Debt Collection       0.00      0.00      0.00      5010\n",
            "Mortgages & Loans       0.00      0.00      0.00      4997\n",
            "   Retail Banking       0.00      0.00      0.00      3406\n",
            "\n",
            "         accuracy                           0.39     28500\n",
            "        macro avg       0.08      0.20      0.11     28500\n",
            "     weighted avg       0.15      0.39      0.22     28500\n",
            "\n"
          ]
        }
      ],
      "source": [
        "target_names = ['Credit Card', 'Credit Reporting', 'Debt Collection','Mortgages & Loans', 'Retail Banking']\n",
        "dummy_cr = (classification_report(y_test, dummy_test_pred, target_names=target_names))\n",
        "print(dummy_cr)"
      ]
    },
    {
      "cell_type": "markdown",
      "metadata": {
        "id": "-8HNzG4Nka9q"
      },
      "source": [
        "###**RANDOM FOREST**\n",
        "\n",
        "We will train Random Forest Model with small, medium, large, and extra large data sets after finding the optimal max_depth. "
      ]
    },
    {
      "cell_type": "markdown",
      "metadata": {
        "id": "PppO_bNQkxi0"
      },
      "source": [
        "####RANDOM FOREST HYERPARAMETER TUNING TO FIND THE OPTIMAL MAX-DEPTH "
      ]
    },
    {
      "cell_type": "code",
      "execution_count": 43,
      "metadata": {
        "id": "DWHYbhtV8Uhr"
      },
      "outputs": [],
      "source": [
        "from sklearn.ensemble import RandomForestClassifier\n",
        "\n",
        "train_errors = list()\n",
        "test_errors = list()\n",
        "\n",
        "for i in range(1,40):\n",
        "  rf_model = RandomForestClassifier(max_depth=i)    #Create multiple models here each based on the i variable above\n",
        "  rf_model.fit(X_train_small,y_train)\n",
        "  train_pred = rf_model.predict(X_train_small)\n",
        "  test_pred = rf_model.predict(X_test_small)\n",
        "  train_errors.append(accuracy_score(y_train,train_pred))    # Store the result of modes in t_train_erors and t_test_errors variables\n",
        "  test_errors.append(accuracy_score(y_test, test_pred))\n"
      ]
    },
    {
      "cell_type": "code",
      "execution_count": 44,
      "metadata": {
        "colab": {
          "base_uri": "https://localhost:8080/",
          "height": 409
        },
        "id": "5OqpneTW803h",
        "outputId": "29aceaa7-dfa8-4c1f-9d13-dad728b02530"
      },
      "outputs": [
        {
          "output_type": "display_data",
          "data": {
            "text/plain": [
              "<Figure size 720x432 with 1 Axes>"
            ],
            "image/png": "[encoded data removed]"
          },
          "metadata": {
            "needs_background": "light"
          }
        }
      ],
      "source": [
        "# Plot of test and training errors\n",
        "fig,ax = plt.subplots(figsize=(10,6))\n",
        "plt.plot(range(1,40),train_errors, label='Train')\n",
        "plt.plot(range(1,40),test_errors, label='Test')\n",
        "plt.title('Optimal Max_Depth Comparison For Train and Test Data')\n",
        "plt.legend(loc='upper left')\n",
        "plt.xlabel('Depth parameter')\n",
        "plt.ylabel('Performance')\n",
        "plt.xticks(ticks =np.arange(1,40,1), rotation = 90, size= 12);"
      ]
    },
    {
      "cell_type": "markdown",
      "metadata": {
        "id": "YoCdd-45sGyv"
      },
      "source": [
        "**From the graph, the maximum performance is observed around 35 and after for the training data set. We will use max_depth of 35 for all the Random Forest models.**"
      ]
    },
    {
      "cell_type": "markdown",
      "metadata": {
        "id": "b5PQObvyUGKB"
      },
      "source": [
        "### Random Forest For Small Features"
      ]
    },
    {
      "cell_type": "code",
      "execution_count": 45,
      "metadata": {
        "colab": {
          "base_uri": "https://localhost:8080/"
        },
        "id": "Irl07jxw3r_y",
        "outputId": "e2aa7690-6fce-44e7-d4b3-766591d5874c"
      },
      "outputs": [
        {
          "output_type": "stream",
          "name": "stdout",
          "text": [
            "                   precision    recall  f1-score   support\n",
            "\n",
            "      Credit Card       0.77      0.77      0.77      3908\n",
            " Credit Reporting       0.88      0.85      0.87     11179\n",
            "  Debt Collection       0.80      0.75      0.77      5010\n",
            "Mortgages & Loans       0.83      0.86      0.84      4997\n",
            "   Retail Banking       0.78      0.90      0.83      3406\n",
            "\n",
            "         accuracy                           0.83     28500\n",
            "        macro avg       0.81      0.83      0.82     28500\n",
            "     weighted avg       0.83      0.83      0.83     28500\n",
            "\n"
          ]
        }
      ],
      "source": [
        "# Small data set\n",
        "rf = RandomForestClassifier(max_depth = 35, class_weight='balanced')\n",
        "\n",
        "small_rf = rf.fit(X_train,y_train)\n",
        "\n",
        "small_rf_pred= small_rf.predict(X_test)\n",
        "\n",
        "small_rf_accuracy = accuracy_score(y_test, small_rf_pred)\n",
        "\n",
        "# classification report\n",
        "target_names = ['Credit Card', 'Credit Reporting', 'Debt Collection','Mortgages & Loans', 'Retail Banking']\n",
        "print(classification_report(y_test, small_rf_pred, target_names=target_names))"
      ]
    },
    {
      "cell_type": "markdown",
      "metadata": {
        "id": "TaP1ke1dUM2S"
      },
      "source": [
        "### Random Forest For Medium Features"
      ]
    },
    {
      "cell_type": "code",
      "execution_count": 46,
      "metadata": {
        "colab": {
          "base_uri": "https://localhost:8080/"
        },
        "id": "HruognJ6UMRE",
        "outputId": "f27cce5a-8ee9-45b0-ca23-fd8693343189"
      },
      "outputs": [
        {
          "output_type": "stream",
          "name": "stdout",
          "text": [
            "                   precision    recall  f1-score   support\n",
            "\n",
            "      Credit Card       0.78      0.78      0.78      3908\n",
            " Credit Reporting       0.87      0.87      0.87     11179\n",
            "  Debt Collection       0.78      0.76      0.77      5010\n",
            "Mortgages & Loans       0.85      0.83      0.84      4997\n",
            "   Retail Banking       0.81      0.87      0.84      3406\n",
            "\n",
            "         accuracy                           0.83     28500\n",
            "        macro avg       0.82      0.82      0.82     28500\n",
            "     weighted avg       0.83      0.83      0.83     28500\n",
            "\n"
          ]
        }
      ],
      "source": [
        "# Medium data st\n",
        "med_rf = rf.fit(X_train_medium,y_train)\n",
        "\n",
        "med_rf_pred= med_rf.predict(X_test_medium)\n",
        "\n",
        "med_rf_accuracy = accuracy_score(y_test, med_rf_pred)\n",
        "\n",
        "# classification report\n",
        "target_names = ['Credit Card', 'Credit Reporting', 'Debt Collection','Mortgages & Loans', 'Retail Banking']\n",
        "print(classification_report(y_test, med_rf_pred,target_names=target_names))"
      ]
    },
    {
      "cell_type": "markdown",
      "metadata": {
        "id": "aocsAe3mVeg8"
      },
      "source": [
        "### Random Forest For Large Features\n",
        "\n"
      ]
    },
    {
      "cell_type": "code",
      "execution_count": 47,
      "metadata": {
        "colab": {
          "base_uri": "https://localhost:8080/"
        },
        "id": "GEa_LuNfVg_c",
        "outputId": "3143e8c1-95e2-489c-872b-c0406d3556f2"
      },
      "outputs": [
        {
          "output_type": "stream",
          "name": "stdout",
          "text": [
            "                   precision    recall  f1-score   support\n",
            "\n",
            "      Credit Card       0.78      0.78      0.78      3908\n",
            " Credit Reporting       0.87      0.87      0.87     11179\n",
            "  Debt Collection       0.79      0.77      0.78      5010\n",
            "Mortgages & Loans       0.85      0.84      0.85      4997\n",
            "   Retail Banking       0.80      0.87      0.84      3406\n",
            "\n",
            "         accuracy                           0.83     28500\n",
            "        macro avg       0.82      0.82      0.82     28500\n",
            "     weighted avg       0.83      0.83      0.83     28500\n",
            "\n"
          ]
        }
      ],
      "source": [
        "# Large data set\n",
        "large_rf = rf.fit(X_train_large,y_train)\n",
        "\n",
        "large_rf_pred= large_rf.predict(X_test_large)\n",
        "\n",
        "large_rf_accuracy = accuracy_score(y_test, large_rf_pred)\n",
        "\n",
        "# classification report\n",
        "target_names = ['Credit Card', 'Credit Reporting', 'Debt Collection','Mortgages & Loans', 'Retail Banking']\n",
        "print(classification_report(y_test, large_rf_pred, target_names=target_names))"
      ]
    },
    {
      "cell_type": "markdown",
      "metadata": {
        "id": "GJmGDH4pyBof"
      },
      "source": [
        "### Random Forest For Extra Large Features"
      ]
    },
    {
      "cell_type": "code",
      "execution_count": 48,
      "metadata": {
        "colab": {
          "base_uri": "https://localhost:8080/"
        },
        "id": "AZD1pHtDx6wZ",
        "outputId": "20cc8212-8ca3-4c41-e052-8c7e1e6bda8f"
      },
      "outputs": [
        {
          "output_type": "stream",
          "name": "stdout",
          "text": [
            "                   precision    recall  f1-score   support\n",
            "\n",
            "      Credit Card       0.77      0.78      0.78      3908\n",
            " Credit Reporting       0.88      0.86      0.87     11179\n",
            "  Debt Collection       0.79      0.77      0.78      5010\n",
            "Mortgages & Loans       0.84      0.85      0.84      4997\n",
            "   Retail Banking       0.80      0.88      0.84      3406\n",
            "\n",
            "         accuracy                           0.83     28500\n",
            "        macro avg       0.82      0.83      0.82     28500\n",
            "     weighted avg       0.83      0.83      0.83     28500\n",
            "\n"
          ]
        }
      ],
      "source": [
        "# Large data set\n",
        "xlarge_rf = rf.fit(X_train_xlarge,y_train)\n",
        "\n",
        "xlarge_rf_pred= large_rf.predict(X_test_xlarge)\n",
        "\n",
        "xlarge_rf_accuracy = accuracy_score(y_test, xlarge_rf_pred)\n",
        "\n",
        "# classification report\n",
        "target_names = ['Credit Card', 'Credit Reporting', 'Debt Collection','Mortgages & Loans', 'Retail Banking']\n",
        "print(classification_report(y_test, xlarge_rf_pred, target_names=target_names))"
      ]
    },
    {
      "cell_type": "markdown",
      "metadata": {
        "id": "kpxZAZ3Ty3z9"
      },
      "source": [
        "**For Random Forest models, the accuracy and F1 scores are almost identical for all different set of features. Thus, feature selections don't have much effect on the Random forest models.**"
      ]
    },
    {
      "cell_type": "markdown",
      "metadata": {
        "id": "G2eOidXY0DT3"
      },
      "source": [
        "###**PERCEPTRON**"
      ]
    },
    {
      "cell_type": "markdown",
      "metadata": {
        "id": "FoiOy85Y6HgJ"
      },
      "source": [
        "### Perceptron with Max_Iter = 1"
      ]
    },
    {
      "cell_type": "markdown",
      "metadata": {
        "id": "5A8Rfzgk0JKz"
      },
      "source": [
        "###Perceptron For Small Features"
      ]
    },
    {
      "cell_type": "markdown",
      "metadata": {
        "id": "lMExgETJ1UFR"
      },
      "source": [
        ""
      ]
    },
    {
      "cell_type": "code",
      "execution_count": 49,
      "metadata": {
        "colab": {
          "base_uri": "https://localhost:8080/"
        },
        "id": "uP8P2LwD0FHI",
        "outputId": "3f86cd7d-786d-4d4b-9667-06b467eec71d"
      },
      "outputs": [
        {
          "output_type": "stream",
          "name": "stdout",
          "text": [
            "                   precision    recall  f1-score   support\n",
            "\n",
            "      Credit Card       0.76      0.60      0.67      3908\n",
            " Credit Reporting       0.81      0.75      0.78     11179\n",
            "  Debt Collection       0.83      0.38      0.52      5010\n",
            "Mortgages & Loans       0.52      0.93      0.67      4997\n",
            "   Retail Banking       0.74      0.84      0.79      3406\n",
            "\n",
            "         accuracy                           0.71     28500\n",
            "        macro avg       0.73      0.70      0.69     28500\n",
            "     weighted avg       0.75      0.71      0.70     28500\n",
            "\n"
          ]
        }
      ],
      "source": [
        "from sklearn.linear_model import Perceptron\n",
        "\n",
        "perceptron_clf = Perceptron(max_iter=1, class_weight='balanced', random_state=42).fit(X_train_small, y_train.values.ravel())\n",
        "\n",
        "y_train_pred = perceptron_clf.predict(X_train_small)\n",
        "y_test_pred = perceptron_clf.predict(X_test_small)\n",
        "\n",
        "target_names = ['Credit Card', 'Credit Reporting', 'Debt Collection','Mortgages & Loans', 'Retail Banking']\n",
        "print(classification_report(y_test, y_test_pred, target_names=target_names))"
      ]
    },
    {
      "cell_type": "markdown",
      "metadata": {
        "id": "2JTs-O7u5Hqc"
      },
      "source": [
        "###Perceptron For Medium Features"
      ]
    },
    {
      "cell_type": "code",
      "execution_count": 50,
      "metadata": {
        "colab": {
          "base_uri": "https://localhost:8080/"
        },
        "id": "mMYPVIJ25J5K",
        "outputId": "2acd04d0-162d-400d-bf48-d53782e16dfe"
      },
      "outputs": [
        {
          "output_type": "stream",
          "name": "stdout",
          "text": [
            "                   precision    recall  f1-score   support\n",
            "\n",
            "      Credit Card       0.80      0.69      0.74      3908\n",
            " Credit Reporting       0.85      0.78      0.81     11179\n",
            "  Debt Collection       0.85      0.50      0.63      5010\n",
            "Mortgages & Loans       0.59      0.94      0.72      4997\n",
            "   Retail Banking       0.78      0.90      0.83      3406\n",
            "\n",
            "         accuracy                           0.76     28500\n",
            "        macro avg       0.77      0.76      0.75     28500\n",
            "     weighted avg       0.79      0.76      0.76     28500\n",
            "\n"
          ]
        }
      ],
      "source": [
        "perceptron_clf = Perceptron(max_iter=1, class_weight='balanced', random_state=42).fit(X_train_medium, y_train.values.ravel())\n",
        "\n",
        "y_train_pred = perceptron_clf.predict(X_train_medium)\n",
        "y_test_pred = perceptron_clf.predict(X_test_medium)\n",
        "\n",
        "print(classification_report(y_test, y_test_pred, target_names=target_names))"
      ]
    },
    {
      "cell_type": "markdown",
      "metadata": {
        "id": "0kqToUQq5U8U"
      },
      "source": [
        "###Perceptron For Large Features"
      ]
    },
    {
      "cell_type": "code",
      "execution_count": 51,
      "metadata": {
        "colab": {
          "base_uri": "https://localhost:8080/"
        },
        "id": "ns7i4yZc5VVj",
        "outputId": "03c4f63b-d657-46e6-9df6-2e791d81c8e2"
      },
      "outputs": [
        {
          "output_type": "stream",
          "name": "stdout",
          "text": [
            "                   precision    recall  f1-score   support\n",
            "\n",
            "      Credit Card       0.59      0.89      0.71      3908\n",
            " Credit Reporting       0.89      0.75      0.81     11179\n",
            "  Debt Collection       0.83      0.60      0.70      5010\n",
            "Mortgages & Loans       0.71      0.90      0.80      4997\n",
            "   Retail Banking       0.87      0.82      0.84      3406\n",
            "\n",
            "         accuracy                           0.78     28500\n",
            "        macro avg       0.78      0.79      0.77     28500\n",
            "     weighted avg       0.80      0.78      0.78     28500\n",
            "\n"
          ]
        }
      ],
      "source": [
        "perceptron_clf = Perceptron(max_iter=1, class_weight='balanced', random_state=42).fit(X_train_large, y_train.values.ravel())\n",
        "\n",
        "y_train_pred = perceptron_clf.predict(X_train_large)\n",
        "y_test_pred = perceptron_clf.predict(X_test_large)\n",
        "\n",
        "print(classification_report(y_test, y_test_pred, target_names=target_names))"
      ]
    },
    {
      "cell_type": "markdown",
      "metadata": {
        "id": "N26gS7GK5kAQ"
      },
      "source": [
        "###Perceptron for Xlarge Features"
      ]
    },
    {
      "cell_type": "code",
      "execution_count": 52,
      "metadata": {
        "colab": {
          "base_uri": "https://localhost:8080/"
        },
        "id": "zDKFoLFA5fef",
        "outputId": "e1dc491c-4a63-4568-d52b-b4696cf024bd"
      },
      "outputs": [
        {
          "output_type": "stream",
          "name": "stdout",
          "text": [
            "                   precision    recall  f1-score   support\n",
            "\n",
            "      Credit Card       0.71      0.82      0.76      3908\n",
            " Credit Reporting       0.86      0.82      0.84     11179\n",
            "  Debt Collection       0.82      0.68      0.74      5010\n",
            "Mortgages & Loans       0.80      0.85      0.82      4997\n",
            "   Retail Banking       0.80      0.89      0.84      3406\n",
            "\n",
            "         accuracy                           0.81     28500\n",
            "        macro avg       0.80      0.81      0.80     28500\n",
            "     weighted avg       0.81      0.81      0.81     28500\n",
            "\n"
          ]
        }
      ],
      "source": [
        "perceptron_clf = Perceptron(max_iter=1, class_weight='balanced', random_state=42).fit(X_train_xlarge, y_train.values.ravel())\n",
        "\n",
        "per_train_pred = perceptron_clf.predict(X_train_xlarge)\n",
        "per_test_pred = perceptron_clf.predict(X_test_xlarge)\n",
        "\n",
        "print(classification_report(y_test, per_test_pred, target_names=target_names))"
      ]
    },
    {
      "cell_type": "markdown",
      "metadata": {
        "id": "rk7eOF0L5yit"
      },
      "source": [
        "### Perceptron (max_iter = 10) & Xtra Large Words\n"
      ]
    },
    {
      "cell_type": "code",
      "execution_count": 53,
      "metadata": {
        "colab": {
          "base_uri": "https://localhost:8080/"
        },
        "id": "8jHblgHS6EpV",
        "outputId": "fce9bbe4-63b6-40f5-9b0e-eef1e709dcf6"
      },
      "outputs": [
        {
          "output_type": "stream",
          "name": "stdout",
          "text": [
            "                   precision    recall  f1-score   support\n",
            "\n",
            "      Credit Card       0.54      0.91      0.68      3908\n",
            " Credit Reporting       0.87      0.80      0.83     11179\n",
            "  Debt Collection       0.79      0.71      0.75      5010\n",
            "Mortgages & Loans       0.90      0.70      0.79      4997\n",
            "   Retail Banking       0.85      0.80      0.82      3406\n",
            "\n",
            "         accuracy                           0.78     28500\n",
            "        macro avg       0.79      0.78      0.77     28500\n",
            "     weighted avg       0.81      0.78      0.79     28500\n",
            "\n"
          ]
        }
      ],
      "source": [
        "perceptron_clf = Perceptron(max_iter=10,class_weight='balanced', random_state=42).fit(X_train_xlarge, y_train.values.ravel())\n",
        "\n",
        "xperc_train_pred = perceptron_clf.predict(X_train_xlarge)\n",
        "xperc_test_pred = perceptron_clf.predict(X_test_xlarge)\n",
        "\n",
        "print(classification_report(y_test, xperc_test_pred, target_names=target_names))"
      ]
    },
    {
      "cell_type": "markdown",
      "metadata": {
        "id": "bafCL9kPrN6v"
      },
      "source": [
        "**For Perceptron models, the extra large features data set with max_iter=1 yield the highest scores for both F1 and accuracy.**"
      ]
    },
    {
      "cell_type": "markdown",
      "metadata": {
        "id": "Vd6Ho_tvnTNr"
      },
      "source": [
        "###**SGD WITH LASSO REGRESSION**\n",
        "\n",
        "X_train, X_test, y_train, y_test will be used for this model since LASSO will regularize the insignificant features automatically. "
      ]
    },
    {
      "cell_type": "markdown",
      "metadata": {
        "id": "Pv94kaSBn0p2"
      },
      "source": [
        "####FIND AN OPTIMAL ALPHA VALUE FOR LASSO MODEL"
      ]
    },
    {
      "cell_type": "code",
      "execution_count": 54,
      "metadata": {
        "id": "pq0TIyrFtaxY"
      },
      "outputs": [],
      "source": [
        "from sklearn.pipeline import make_pipeline, Pipeline\n",
        "\n",
        "from sklearn.linear_model import SGDClassifier\n",
        "\n",
        "alphas = [0.00001, 0.0001, 0.001, 0.01, 0.1, 1]\n",
        "results = []\n",
        "\n",
        "for a in alphas:\n",
        "  pipe = make_pipeline(SGDClassifier(loss = 'log', penalty = 'l1', alpha = a, class_weight = 'balanced'))\n",
        "  pipe.fit(X_train, y_train)\n",
        "\n",
        "\n",
        "  train = pipe.predict(X_train)\n",
        "  test = pipe.predict(X_test)\n",
        "\n",
        "  train_acc = accuracy_score(y_train, train)\n",
        "  test_acc = accuracy_score(y_test, test)\n",
        "  \n",
        "  results.append({'Alpha': a, 'Training Accuracy': train_acc, 'Test Accuracy':test_acc})\n"
      ]
    },
    {
      "cell_type": "code",
      "execution_count": 55,
      "metadata": {
        "colab": {
          "base_uri": "https://localhost:8080/",
          "height": 238
        },
        "id": "6uGR_XGiwWEP",
        "outputId": "eab7e79b-e379-4520-bc57-1b30b477a31e"
      },
      "outputs": [
        {
          "output_type": "execute_result",
          "data": {
            "text/plain": [
              "     Alpha  Training Accuracy  Test Accuracy\n",
              "0  0.00001           0.858990       0.831298\n",
              "1  0.00010           0.815020       0.810596\n",
              "2  0.00100           0.752974       0.752947\n",
              "3  0.01000           0.444338       0.444667\n",
              "4  0.10000           0.392262       0.392246\n",
              "5  1.00000           0.392262       0.392246"
            ],
            "text/html": [
              "\n",
              "  <div id=\"df-19a5dc0c-e504-4a13-b01d-5707bb3076ba\">\n",
              "    <div class=\"colab-df-container\">\n",
              "      <div>\n",
              "<style scoped>\n",
              "    .dataframe tbody tr th:only-of-type {\n",
              "        vertical-align: middle;\n",
              "    }\n",
              "\n",
              "    .dataframe tbody tr th {\n",
              "        vertical-align: top;\n",
              "    }\n",
              "\n",
              "    .dataframe thead th {\n",
              "        text-align: right;\n",
              "    }\n",
              "</style>\n",
              "<table border=\"1\" class=\"dataframe\">\n",
              "  <thead>\n",
              "    <tr style=\"text-align: right;\">\n",
              "      <th></th>\n",
              "      <th>Alpha</th>\n",
              "      <th>Training Accuracy</th>\n",
              "      <th>Test Accuracy</th>\n",
              "    </tr>\n",
              "  </thead>\n",
              "  <tbody>\n",
              "    <tr>\n",
              "      <th>0</th>\n",
              "      <td>0.00001</td>\n",
              "      <td>0.858990</td>\n",
              "      <td>0.831298</td>\n",
              "    </tr>\n",
              "    <tr>\n",
              "      <th>1</th>\n",
              "      <td>0.00010</td>\n",
              "      <td>0.815020</td>\n",
              "      <td>0.810596</td>\n",
              "    </tr>\n",
              "    <tr>\n",
              "      <th>2</th>\n",
              "      <td>0.00100</td>\n",
              "      <td>0.752974</td>\n",
              "      <td>0.752947</td>\n",
              "    </tr>\n",
              "    <tr>\n",
              "      <th>3</th>\n",
              "      <td>0.01000</td>\n",
              "      <td>0.444338</td>\n",
              "      <td>0.444667</td>\n",
              "    </tr>\n",
              "    <tr>\n",
              "      <th>4</th>\n",
              "      <td>0.10000</td>\n",
              "      <td>0.392262</td>\n",
              "      <td>0.392246</td>\n",
              "    </tr>\n",
              "    <tr>\n",
              "      <th>5</th>\n",
              "      <td>1.00000</td>\n",
              "      <td>0.392262</td>\n",
              "      <td>0.392246</td>\n",
              "    </tr>\n",
              "  </tbody>\n",
              "</table>\n",
              "</div>\n",
              "      <button class=\"colab-df-convert\" onclick=\"convertToInteractive('df-19a5dc0c-e504-4a13-b01d-5707bb3076ba')\"\n",
              "              title=\"Convert this dataframe to an interactive table.\"\n",
              "              style=\"display:none;\">\n",
              "        \n",
              "  <svg xmlns=\"http://www.w3.org/2000/svg\" height=\"24px\"viewBox=\"0 0 24 24\"\n",
              "       width=\"24px\">\n",
              "    <path d=\"M0 0h24v24H0V0z\" fill=\"none\"/>\n",
              "    <path d=\"M18.56 5.44l.94 2.06.94-2.06 2.06-.94-2.06-.94-.94-2.06-.94 2.06-2.06.94zm-11 1L8.5 8.5l.94-2.06 2.06-.94-2.06-.94L8.5 2.5l-.94 2.06-2.06.94zm10 10l.94 2.06.94-2.06 2.06-.94-2.06-.94-.94-2.06-.94 2.06-2.06.94z\"/><path d=\"M17.41 7.96l-1.37-1.37c-.4-.4-.92-.59-1.43-.59-.52 0-1.04.2-1.43.59L10.3 9.45l-7.72 7.72c-.78.78-.78 2.05 0 2.83L4 21.41c.39.39.9.59 1.41.59.51 0 1.02-.2 1.41-.59l7.78-7.78 2.81-2.81c.8-.78.8-2.07 0-2.86zM5.41 20L4 18.59l7.72-7.72 1.47 1.35L5.41 20z\"/>\n",
              "  </svg>\n",
              "      </button>\n",
              "      \n",
              "  <style>\n",
              "    .colab-df-container {\n",
              "      display:flex;\n",
              "      flex-wrap:wrap;\n",
              "      gap: 12px;\n",
              "    }\n",
              "\n",
              "    .colab-df-convert {\n",
              "      background-color: #E8F0FE;\n",
              "      border: none;\n",
              "      border-radius: 50%;\n",
              "      cursor: pointer;\n",
              "      display: none;\n",
              "      fill: #1967D2;\n",
              "      height: 32px;\n",
              "      padding: 0 0 0 0;\n",
              "      width: 32px;\n",
              "    }\n",
              "\n",
              "    .colab-df-convert:hover {\n",
              "      background-color: #E2EBFA;\n",
              "      box-shadow: 0px 1px 2px rgba(60, 64, 67, 0.3), 0px 1px 3px 1px rgba(60, 64, 67, 0.15);\n",
              "      fill: #174EA6;\n",
              "    }\n",
              "\n",
              "    [theme=dark] .colab-df-convert {\n",
              "      background-color: #3B4455;\n",
              "      fill: #D2E3FC;\n",
              "    }\n",
              "\n",
              "    [theme=dark] .colab-df-convert:hover {\n",
              "      background-color: #434B5C;\n",
              "      box-shadow: 0px 1px 3px 1px rgba(0, 0, 0, 0.15);\n",
              "      filter: drop-shadow(0px 1px 2px rgba(0, 0, 0, 0.3));\n",
              "      fill: #FFFFFF;\n",
              "    }\n",
              "  </style>\n",
              "\n",
              "      <script>\n",
              "        const buttonEl =\n",
              "          document.querySelector('#df-19a5dc0c-e504-4a13-b01d-5707bb3076ba button.colab-df-convert');\n",
              "        buttonEl.style.display =\n",
              "          google.colab.kernel.accessAllowed ? 'block' : 'none';\n",
              "\n",
              "        async function convertToInteractive(key) {\n",
              "          const element = document.querySelector('#df-19a5dc0c-e504-4a13-b01d-5707bb3076ba');\n",
              "          const dataTable =\n",
              "            await google.colab.kernel.invokeFunction('convertToInteractive',\n",
              "                                                     [key], {});\n",
              "          if (!dataTable) return;\n",
              "\n",
              "          const docLinkHtml = 'Like what you see? Visit the ' +\n",
              "            '<a target=\"_blank\" href=https://colab.research.google.com/notebooks/data_table.ipynb>data table notebook</a>'\n",
              "            + ' to learn more about interactive tables.';\n",
              "          element.innerHTML = '';\n",
              "          dataTable['output_type'] = 'display_data';\n",
              "          await google.colab.output.renderOutput(dataTable, element);\n",
              "          const docLink = document.createElement('div');\n",
              "          docLink.innerHTML = docLinkHtml;\n",
              "          element.appendChild(docLink);\n",
              "        }\n",
              "      </script>\n",
              "    </div>\n",
              "  </div>\n",
              "  "
            ]
          },
          "metadata": {},
          "execution_count": 55
        }
      ],
      "source": [
        "results_df = pd.DataFrame(results)\n",
        "results_df"
      ]
    },
    {
      "cell_type": "markdown",
      "metadata": {
        "id": "_cg_KjouyLWt"
      },
      "source": [
        "### Visualization of Training and Test Accuracy Per Alpha Values"
      ]
    },
    {
      "cell_type": "code",
      "execution_count": 56,
      "metadata": {
        "colab": {
          "base_uri": "https://localhost:8080/",
          "height": 297
        },
        "id": "ddEUKycjwdv3",
        "outputId": "7446b096-d7da-4b95-94c2-121fe3612be9"
      },
      "outputs": [
        {
          "output_type": "display_data",
          "data": {
            "text/plain": [
              "<Figure size 432x288 with 1 Axes>"
            ],
            "image/png": "[encoded data removed]"
          },
          "metadata": {
            "needs_background": "light"
          }
        }
      ],
      "source": [
        "sns.lineplot(data = results_df['Training Accuracy'])\n",
        "sns.lineplot(data = results_df['Test Accuracy'])\n",
        "\n",
        "plt.title('Accuracy Per Alpha', size=16)\n",
        "plt.legend(['Training','Test'])\n",
        "plt.xlabel('Alpha Value')\n",
        "plt.ylabel('Accuracy')\n",
        "x_ticks = range(len(results_df['Alpha']))\n",
        "plt.xticks(x_ticks, results_df['Alpha'])\n",
        "plt.show()\n"
      ]
    },
    {
      "cell_type": "markdown",
      "metadata": {
        "id": "2zmF8ja6yPvH"
      },
      "source": [
        "**From the plot, the highest accuracy for both training and test datasets was obtained with alpha value of 0.00001**."
      ]
    },
    {
      "cell_type": "markdown",
      "metadata": {
        "id": "cOB4B66WyaR8"
      },
      "source": [
        "### TUNED LASSO REGRESSION WITH ALPHA VALUE 0.00001"
      ]
    },
    {
      "cell_type": "code",
      "execution_count": 57,
      "metadata": {
        "colab": {
          "base_uri": "https://localhost:8080/"
        },
        "id": "jdkM44vUyuTb",
        "outputId": "50e905ed-2d6f-4441-e72c-2643dabe4507"
      },
      "outputs": [
        {
          "output_type": "stream",
          "name": "stdout",
          "text": [
            "              precision    recall  f1-score   support\n",
            "\n",
            "           0       0.77      0.82      0.79      3908\n",
            "           1       0.89      0.83      0.86     11179\n",
            "           2       0.78      0.79      0.79      5010\n",
            "           3       0.82      0.87      0.84      4997\n",
            "           4       0.83      0.89      0.86      3406\n",
            "\n",
            "    accuracy                           0.83     28500\n",
            "   macro avg       0.82      0.84      0.83     28500\n",
            "weighted avg       0.84      0.83      0.83     28500\n",
            "\n"
          ]
        }
      ],
      "source": [
        "lasso_model  = SGDClassifier(loss = 'log', penalty = 'l1', alpha = 0.00001, class_weight = 'balanced')\n",
        "lasso = lasso_model.fit(X_train, y_train)\n",
        "\n",
        "# predict the model\n",
        "lasso_pred = lasso.predict(X_test)\n",
        "\n",
        "# Accuracy\n",
        "lasso_accuracy = accuracy_score(y_test, lasso_pred)\n",
        "\n",
        "#classification report\n",
        "print(classification_report(y_test, lasso_pred))"
      ]
    },
    {
      "cell_type": "markdown",
      "metadata": {
        "id": "awveQf1KeKGM"
      },
      "source": [
        "##**SUPPORT VECTOR MACHINE(SVM)**"
      ]
    },
    {
      "cell_type": "markdown",
      "metadata": {
        "id": "CxtuIqpNpBZj"
      },
      "source": [
        "\n",
        "\n",
        "SVM will be trained with small, medium, large, and extra large data sets using \"linear\" for kernel, \"auto\" for gamma, and a C-parameter value of 2. "
      ]
    },
    {
      "cell_type": "markdown",
      "metadata": {
        "id": "8kLRXxlppc-2"
      },
      "source": [
        "####SVM FOR SMALL FEATURES"
      ]
    },
    {
      "cell_type": "code",
      "execution_count": 58,
      "metadata": {
        "id": "PNr8R_rKPkDl"
      },
      "outputs": [],
      "source": [
        "from sklearn import svm\n",
        "from sklearn.svm import SVC\n",
        "\n",
        "cls = svm.SVC(kernel=\"linear\", gamma=\"auto\", C=2)"
      ]
    },
    {
      "cell_type": "code",
      "execution_count": 59,
      "metadata": {
        "colab": {
          "base_uri": "https://localhost:8080/"
        },
        "id": "aPpK2NIIO3xt",
        "outputId": "aab3f5f1-2159-4b5f-a888-f2e99167c03a"
      },
      "outputs": [
        {
          "output_type": "stream",
          "name": "stdout",
          "text": [
            "                   precision    recall  f1-score   support\n",
            "\n",
            "      Credit Card       0.73      0.69      0.71      3908\n",
            " Credit Reporting       0.76      0.84      0.80     11179\n",
            "  Debt Collection       0.77      0.62      0.69      5010\n",
            "Mortgages & Loans       0.79      0.79      0.79      4997\n",
            "   Retail Banking       0.81      0.81      0.81      3406\n",
            "\n",
            "         accuracy                           0.77     28500\n",
            "        macro avg       0.77      0.75      0.76     28500\n",
            "     weighted avg       0.77      0.77      0.77     28500\n",
            "\n"
          ]
        }
      ],
      "source": [
        "cls.fit(X_train_small, y_train)\n",
        "y_predict = cls.predict(X_test_small)\n",
        "\n",
        "target_names = ['Credit Card', 'Credit Reporting', 'Debt Collection', 'Mortgages & Loans', 'Retail Banking']\n",
        "print(classification_report(y_test, y_predict, target_names=target_names))"
      ]
    },
    {
      "cell_type": "markdown",
      "metadata": {
        "id": "JlZXmU9fZ2zV"
      },
      "source": [
        "####SVM FOR MEDIUM FEATURES"
      ]
    },
    {
      "cell_type": "code",
      "execution_count": 60,
      "metadata": {
        "colab": {
          "base_uri": "https://localhost:8080/"
        },
        "id": "x-fiAMfWg31_",
        "outputId": "21f34b0c-ec28-447c-8956-b45f74c2db19"
      },
      "outputs": [
        {
          "output_type": "stream",
          "name": "stdout",
          "text": [
            "                   precision    recall  f1-score   support\n",
            "\n",
            "      Credit Card       0.79      0.80      0.79      3908\n",
            " Credit Reporting       0.84      0.87      0.85     11179\n",
            "  Debt Collection       0.79      0.72      0.76      5010\n",
            "Mortgages & Loans       0.86      0.84      0.85      4997\n",
            "   Retail Banking       0.85      0.88      0.86      3406\n",
            "\n",
            "         accuracy                           0.83     28500\n",
            "        macro avg       0.82      0.82      0.82     28500\n",
            "     weighted avg       0.83      0.83      0.83     28500\n",
            "\n"
          ]
        }
      ],
      "source": [
        "cls.fit(X_train_medium, y_train)\n",
        "y_predict = cls.predict(X_test_medium)\n",
        "\n",
        "print(classification_report(y_test, y_predict, target_names=target_names))"
      ]
    },
    {
      "cell_type": "markdown",
      "metadata": {
        "id": "W0IvZ0EOpzTF"
      },
      "source": [
        "####SVM FOR LARGE FEATURES"
      ]
    },
    {
      "cell_type": "code",
      "execution_count": 61,
      "metadata": {
        "colab": {
          "base_uri": "https://localhost:8080/"
        },
        "id": "TMYcb2pUltIf",
        "outputId": "d12d7458-3107-43d0-ebf4-829f6fe6c084"
      },
      "outputs": [
        {
          "output_type": "stream",
          "name": "stdout",
          "text": [
            "                   precision    recall  f1-score   support\n",
            "\n",
            "      Credit Card       0.79      0.80      0.79      3908\n",
            " Credit Reporting       0.84      0.87      0.86     11179\n",
            "  Debt Collection       0.80      0.74      0.77      5010\n",
            "Mortgages & Loans       0.86      0.84      0.85      4997\n",
            "   Retail Banking       0.85      0.88      0.86      3406\n",
            "\n",
            "         accuracy                           0.83     28500\n",
            "        macro avg       0.83      0.82      0.83     28500\n",
            "     weighted avg       0.83      0.83      0.83     28500\n",
            "\n"
          ]
        }
      ],
      "source": [
        "cls.fit(X_train_large, y_train)\n",
        "y_predict = cls.predict(X_test_large)\n",
        "\n",
        "print(classification_report(y_test, y_predict, target_names=target_names))"
      ]
    },
    {
      "cell_type": "markdown",
      "metadata": {
        "id": "vyHIEqWZqEX6"
      },
      "source": [
        "####SVM FOR EXTRA LARGE FEATURES"
      ]
    },
    {
      "cell_type": "code",
      "execution_count": 62,
      "metadata": {
        "colab": {
          "base_uri": "https://localhost:8080/"
        },
        "id": "-rtmEuiwmAyw",
        "outputId": "6d2317ab-b2a0-41c4-9c6b-4a7fc3bcf2ec"
      },
      "outputs": [
        {
          "output_type": "stream",
          "name": "stdout",
          "text": [
            "                   precision    recall  f1-score   support\n",
            "\n",
            "      Credit Card       0.78      0.80      0.79      3908\n",
            " Credit Reporting       0.85      0.87      0.86     11179\n",
            "  Debt Collection       0.81      0.75      0.78      5010\n",
            "Mortgages & Loans       0.86      0.84      0.85      4997\n",
            "   Retail Banking       0.86      0.87      0.87      3406\n",
            "\n",
            "         accuracy                           0.84     28500\n",
            "        macro avg       0.83      0.83      0.83     28500\n",
            "     weighted avg       0.84      0.84      0.84     28500\n",
            "\n"
          ]
        }
      ],
      "source": [
        "cls.fit(X_train_xlarge, y_train)\n",
        "y_predict = cls.predict(X_test_xlarge)\n",
        "\n",
        "print(classification_report(y_test, y_predict, target_names=target_names))"
      ]
    },
    {
      "cell_type": "markdown",
      "metadata": {
        "id": "dhetXE6kBq5Z"
      },
      "source": [
        "###**COMPARISON SCORES OF DIFFERENT MODELS**\n",
        "\n"
      ]
    },
    {
      "cell_type": "code",
      "execution_count": 73,
      "metadata": {
        "id": "df7k8eRpQZvO"
      },
      "outputs": [],
      "source": [
        "from sklearn.metrics import f1_score\n",
        "labels = [0, 1, 2,3,4]\n",
        "\n",
        "\n",
        "models = [dummy_test_pred, xlarge_rf_pred, per_test_pred, lasso_pred, y_predict]\n",
        "scores_table = []\n",
        "accuracy = []\n",
        "\n",
        "for i in models: \n",
        "  accuracy_scores = accuracy_score(i, y_test)\n",
        "  f1_scores = f1_score(i, y_test, average = None)\n",
        "  f1_scores_with_labels = {label:score for label,score in zip(target_names, f1_scores)}\n",
        "  scores_table.append(f1_scores_with_labels)\n",
        "  accuracy.append(accuracy_scores)\n"
      ]
    },
    {
      "cell_type": "markdown",
      "metadata": {
        "id": "EAZcy7TVktOS"
      },
      "source": [
        "###**F1 SCORES**"
      ]
    },
    {
      "cell_type": "code",
      "execution_count": 79,
      "metadata": {
        "colab": {
          "base_uri": "https://localhost:8080/",
          "height": 206
        },
        "id": "PnoTPUxyVHcM",
        "outputId": "2beae742-e7a3-4832-9f17-e4b035f2759f"
      },
      "outputs": [
        {
          "output_type": "execute_result",
          "data": {
            "text/plain": [
              "   Credit Card  Credit Reporting  Debt Collection  Mortgages & Loans  \\\n",
              "0         0.00              0.56             0.00               0.00   \n",
              "1         0.78              0.87             0.78               0.84   \n",
              "2         0.76              0.84             0.74               0.82   \n",
              "3         0.79              0.86             0.79               0.84   \n",
              "4         0.79              0.86             0.78               0.85   \n",
              "\n",
              "   Retail Banking  \n",
              "0            0.00  \n",
              "1            0.84  \n",
              "2            0.84  \n",
              "3            0.86  \n",
              "4            0.87  "
            ],
            "text/html": [
              "\n",
              "  <div id=\"df-d94f0a75-7d7a-48ca-bdbb-b9d069d81437\">\n",
              "    <div class=\"colab-df-container\">\n",
              "      <div>\n",
              "<style scoped>\n",
              "    .dataframe tbody tr th:only-of-type {\n",
              "        vertical-align: middle;\n",
              "    }\n",
              "\n",
              "    .dataframe tbody tr th {\n",
              "        vertical-align: top;\n",
              "    }\n",
              "\n",
              "    .dataframe thead th {\n",
              "        text-align: right;\n",
              "    }\n",
              "</style>\n",
              "<table border=\"1\" class=\"dataframe\">\n",
              "  <thead>\n",
              "    <tr style=\"text-align: right;\">\n",
              "      <th></th>\n",
              "      <th>Credit Card</th>\n",
              "      <th>Credit Reporting</th>\n",
              "      <th>Debt Collection</th>\n",
              "      <th>Mortgages &amp; Loans</th>\n",
              "      <th>Retail Banking</th>\n",
              "    </tr>\n",
              "  </thead>\n",
              "  <tbody>\n",
              "    <tr>\n",
              "      <th>0</th>\n",
              "      <td>0.00</td>\n",
              "      <td>0.56</td>\n",
              "      <td>0.00</td>\n",
              "      <td>0.00</td>\n",
              "      <td>0.00</td>\n",
              "    </tr>\n",
              "    <tr>\n",
              "      <th>1</th>\n",
              "      <td>0.78</td>\n",
              "      <td>0.87</td>\n",
              "      <td>0.78</td>\n",
              "      <td>0.84</td>\n",
              "      <td>0.84</td>\n",
              "    </tr>\n",
              "    <tr>\n",
              "      <th>2</th>\n",
              "      <td>0.76</td>\n",
              "      <td>0.84</td>\n",
              "      <td>0.74</td>\n",
              "      <td>0.82</td>\n",
              "      <td>0.84</td>\n",
              "    </tr>\n",
              "    <tr>\n",
              "      <th>3</th>\n",
              "      <td>0.79</td>\n",
              "      <td>0.86</td>\n",
              "      <td>0.79</td>\n",
              "      <td>0.84</td>\n",
              "      <td>0.86</td>\n",
              "    </tr>\n",
              "    <tr>\n",
              "      <th>4</th>\n",
              "      <td>0.79</td>\n",
              "      <td>0.86</td>\n",
              "      <td>0.78</td>\n",
              "      <td>0.85</td>\n",
              "      <td>0.87</td>\n",
              "    </tr>\n",
              "  </tbody>\n",
              "</table>\n",
              "</div>\n",
              "      <button class=\"colab-df-convert\" onclick=\"convertToInteractive('df-d94f0a75-7d7a-48ca-bdbb-b9d069d81437')\"\n",
              "              title=\"Convert this dataframe to an interactive table.\"\n",
              "              style=\"display:none;\">\n",
              "        \n",
              "  <svg xmlns=\"http://www.w3.org/2000/svg\" height=\"24px\"viewBox=\"0 0 24 24\"\n",
              "       width=\"24px\">\n",
              "    <path d=\"M0 0h24v24H0V0z\" fill=\"none\"/>\n",
              "    <path d=\"M18.56 5.44l.94 2.06.94-2.06 2.06-.94-2.06-.94-.94-2.06-.94 2.06-2.06.94zm-11 1L8.5 8.5l.94-2.06 2.06-.94-2.06-.94L8.5 2.5l-.94 2.06-2.06.94zm10 10l.94 2.06.94-2.06 2.06-.94-2.06-.94-.94-2.06-.94 2.06-2.06.94z\"/><path d=\"M17.41 7.96l-1.37-1.37c-.4-.4-.92-.59-1.43-.59-.52 0-1.04.2-1.43.59L10.3 9.45l-7.72 7.72c-.78.78-.78 2.05 0 2.83L4 21.41c.39.39.9.59 1.41.59.51 0 1.02-.2 1.41-.59l7.78-7.78 2.81-2.81c.8-.78.8-2.07 0-2.86zM5.41 20L4 18.59l7.72-7.72 1.47 1.35L5.41 20z\"/>\n",
              "  </svg>\n",
              "      </button>\n",
              "      \n",
              "  <style>\n",
              "    .colab-df-container {\n",
              "      display:flex;\n",
              "      flex-wrap:wrap;\n",
              "      gap: 12px;\n",
              "    }\n",
              "\n",
              "    .colab-df-convert {\n",
              "      background-color: #E8F0FE;\n",
              "      border: none;\n",
              "      border-radius: 50%;\n",
              "      cursor: pointer;\n",
              "      display: none;\n",
              "      fill: #1967D2;\n",
              "      height: 32px;\n",
              "      padding: 0 0 0 0;\n",
              "      width: 32px;\n",
              "    }\n",
              "\n",
              "    .colab-df-convert:hover {\n",
              "      background-color: #E2EBFA;\n",
              "      box-shadow: 0px 1px 2px rgba(60, 64, 67, 0.3), 0px 1px 3px 1px rgba(60, 64, 67, 0.15);\n",
              "      fill: #174EA6;\n",
              "    }\n",
              "\n",
              "    [theme=dark] .colab-df-convert {\n",
              "      background-color: #3B4455;\n",
              "      fill: #D2E3FC;\n",
              "    }\n",
              "\n",
              "    [theme=dark] .colab-df-convert:hover {\n",
              "      background-color: #434B5C;\n",
              "      box-shadow: 0px 1px 3px 1px rgba(0, 0, 0, 0.15);\n",
              "      filter: drop-shadow(0px 1px 2px rgba(0, 0, 0, 0.3));\n",
              "      fill: #FFFFFF;\n",
              "    }\n",
              "  </style>\n",
              "\n",
              "      <script>\n",
              "        const buttonEl =\n",
              "          document.querySelector('#df-d94f0a75-7d7a-48ca-bdbb-b9d069d81437 button.colab-df-convert');\n",
              "        buttonEl.style.display =\n",
              "          google.colab.kernel.accessAllowed ? 'block' : 'none';\n",
              "\n",
              "        async function convertToInteractive(key) {\n",
              "          const element = document.querySelector('#df-d94f0a75-7d7a-48ca-bdbb-b9d069d81437');\n",
              "          const dataTable =\n",
              "            await google.colab.kernel.invokeFunction('convertToInteractive',\n",
              "                                                     [key], {});\n",
              "          if (!dataTable) return;\n",
              "\n",
              "          const docLinkHtml = 'Like what you see? Visit the ' +\n",
              "            '<a target=\"_blank\" href=https://colab.research.google.com/notebooks/data_table.ipynb>data table notebook</a>'\n",
              "            + ' to learn more about interactive tables.';\n",
              "          element.innerHTML = '';\n",
              "          dataTable['output_type'] = 'display_data';\n",
              "          await google.colab.output.renderOutput(dataTable, element);\n",
              "          const docLink = document.createElement('div');\n",
              "          docLink.innerHTML = docLinkHtml;\n",
              "          element.appendChild(docLink);\n",
              "        }\n",
              "      </script>\n",
              "    </div>\n",
              "  </div>\n",
              "  "
            ]
          },
          "metadata": {},
          "execution_count": 79
        }
      ],
      "source": [
        "f1_scores = pd.DataFrame(scores_table)\n",
        "f1_table = f1_scores.round(decimals = 2)\n",
        "\n",
        "f1_table"
      ]
    },
    {
      "cell_type": "code",
      "execution_count": 81,
      "metadata": {
        "colab": {
          "base_uri": "https://localhost:8080/",
          "height": 206
        },
        "id": "bLWwNnl6cUP5",
        "outputId": "56a281c2-3dcd-4e62-930a-d647d7f900a3"
      },
      "outputs": [
        {
          "output_type": "execute_result",
          "data": {
            "text/plain": [
              "          Models  Credit Card  Credit Reporting  Debt Collection  \\\n",
              "0       Baseline         0.00              0.56             0.00   \n",
              "1  Random Forest         0.78              0.87             0.78   \n",
              "2     Perceptron         0.76              0.84             0.74   \n",
              "3      SGD Lasso         0.79              0.86             0.79   \n",
              "4            SVM         0.79              0.86             0.78   \n",
              "\n",
              "   Mortgages & Loans  Retail Banking  \n",
              "0               0.00            0.00  \n",
              "1               0.84            0.84  \n",
              "2               0.82            0.84  \n",
              "3               0.84            0.86  \n",
              "4               0.85            0.87  "
            ],
            "text/html": [
              "\n",
              "  <div id=\"df-930f6ae4-ffed-4851-9994-30112173946e\">\n",
              "    <div class=\"colab-df-container\">\n",
              "      <div>\n",
              "<style scoped>\n",
              "    .dataframe tbody tr th:only-of-type {\n",
              "        vertical-align: middle;\n",
              "    }\n",
              "\n",
              "    .dataframe tbody tr th {\n",
              "        vertical-align: top;\n",
              "    }\n",
              "\n",
              "    .dataframe thead th {\n",
              "        text-align: right;\n",
              "    }\n",
              "</style>\n",
              "<table border=\"1\" class=\"dataframe\">\n",
              "  <thead>\n",
              "    <tr style=\"text-align: right;\">\n",
              "      <th></th>\n",
              "      <th>Models</th>\n",
              "      <th>Credit Card</th>\n",
              "      <th>Credit Reporting</th>\n",
              "      <th>Debt Collection</th>\n",
              "      <th>Mortgages &amp; Loans</th>\n",
              "      <th>Retail Banking</th>\n",
              "    </tr>\n",
              "  </thead>\n",
              "  <tbody>\n",
              "    <tr>\n",
              "      <th>0</th>\n",
              "      <td>Baseline</td>\n",
              "      <td>0.00</td>\n",
              "      <td>0.56</td>\n",
              "      <td>0.00</td>\n",
              "      <td>0.00</td>\n",
              "      <td>0.00</td>\n",
              "    </tr>\n",
              "    <tr>\n",
              "      <th>1</th>\n",
              "      <td>Random Forest</td>\n",
              "      <td>0.78</td>\n",
              "      <td>0.87</td>\n",
              "      <td>0.78</td>\n",
              "      <td>0.84</td>\n",
              "      <td>0.84</td>\n",
              "    </tr>\n",
              "    <tr>\n",
              "      <th>2</th>\n",
              "      <td>Perceptron</td>\n",
              "      <td>0.76</td>\n",
              "      <td>0.84</td>\n",
              "      <td>0.74</td>\n",
              "      <td>0.82</td>\n",
              "      <td>0.84</td>\n",
              "    </tr>\n",
              "    <tr>\n",
              "      <th>3</th>\n",
              "      <td>SGD Lasso</td>\n",
              "      <td>0.79</td>\n",
              "      <td>0.86</td>\n",
              "      <td>0.79</td>\n",
              "      <td>0.84</td>\n",
              "      <td>0.86</td>\n",
              "    </tr>\n",
              "    <tr>\n",
              "      <th>4</th>\n",
              "      <td>SVM</td>\n",
              "      <td>0.79</td>\n",
              "      <td>0.86</td>\n",
              "      <td>0.78</td>\n",
              "      <td>0.85</td>\n",
              "      <td>0.87</td>\n",
              "    </tr>\n",
              "  </tbody>\n",
              "</table>\n",
              "</div>\n",
              "      <button class=\"colab-df-convert\" onclick=\"convertToInteractive('df-930f6ae4-ffed-4851-9994-30112173946e')\"\n",
              "              title=\"Convert this dataframe to an interactive table.\"\n",
              "              style=\"display:none;\">\n",
              "        \n",
              "  <svg xmlns=\"http://www.w3.org/2000/svg\" height=\"24px\"viewBox=\"0 0 24 24\"\n",
              "       width=\"24px\">\n",
              "    <path d=\"M0 0h24v24H0V0z\" fill=\"none\"/>\n",
              "    <path d=\"M18.56 5.44l.94 2.06.94-2.06 2.06-.94-2.06-.94-.94-2.06-.94 2.06-2.06.94zm-11 1L8.5 8.5l.94-2.06 2.06-.94-2.06-.94L8.5 2.5l-.94 2.06-2.06.94zm10 10l.94 2.06.94-2.06 2.06-.94-2.06-.94-.94-2.06-.94 2.06-2.06.94z\"/><path d=\"M17.41 7.96l-1.37-1.37c-.4-.4-.92-.59-1.43-.59-.52 0-1.04.2-1.43.59L10.3 9.45l-7.72 7.72c-.78.78-.78 2.05 0 2.83L4 21.41c.39.39.9.59 1.41.59.51 0 1.02-.2 1.41-.59l7.78-7.78 2.81-2.81c.8-.78.8-2.07 0-2.86zM5.41 20L4 18.59l7.72-7.72 1.47 1.35L5.41 20z\"/>\n",
              "  </svg>\n",
              "      </button>\n",
              "      \n",
              "  <style>\n",
              "    .colab-df-container {\n",
              "      display:flex;\n",
              "      flex-wrap:wrap;\n",
              "      gap: 12px;\n",
              "    }\n",
              "\n",
              "    .colab-df-convert {\n",
              "      background-color: #E8F0FE;\n",
              "      border: none;\n",
              "      border-radius: 50%;\n",
              "      cursor: pointer;\n",
              "      display: none;\n",
              "      fill: #1967D2;\n",
              "      height: 32px;\n",
              "      padding: 0 0 0 0;\n",
              "      width: 32px;\n",
              "    }\n",
              "\n",
              "    .colab-df-convert:hover {\n",
              "      background-color: #E2EBFA;\n",
              "      box-shadow: 0px 1px 2px rgba(60, 64, 67, 0.3), 0px 1px 3px 1px rgba(60, 64, 67, 0.15);\n",
              "      fill: #174EA6;\n",
              "    }\n",
              "\n",
              "    [theme=dark] .colab-df-convert {\n",
              "      background-color: #3B4455;\n",
              "      fill: #D2E3FC;\n",
              "    }\n",
              "\n",
              "    [theme=dark] .colab-df-convert:hover {\n",
              "      background-color: #434B5C;\n",
              "      box-shadow: 0px 1px 3px 1px rgba(0, 0, 0, 0.15);\n",
              "      filter: drop-shadow(0px 1px 2px rgba(0, 0, 0, 0.3));\n",
              "      fill: #FFFFFF;\n",
              "    }\n",
              "  </style>\n",
              "\n",
              "      <script>\n",
              "        const buttonEl =\n",
              "          document.querySelector('#df-930f6ae4-ffed-4851-9994-30112173946e button.colab-df-convert');\n",
              "        buttonEl.style.display =\n",
              "          google.colab.kernel.accessAllowed ? 'block' : 'none';\n",
              "\n",
              "        async function convertToInteractive(key) {\n",
              "          const element = document.querySelector('#df-930f6ae4-ffed-4851-9994-30112173946e');\n",
              "          const dataTable =\n",
              "            await google.colab.kernel.invokeFunction('convertToInteractive',\n",
              "                                                     [key], {});\n",
              "          if (!dataTable) return;\n",
              "\n",
              "          const docLinkHtml = 'Like what you see? Visit the ' +\n",
              "            '<a target=\"_blank\" href=https://colab.research.google.com/notebooks/data_table.ipynb>data table notebook</a>'\n",
              "            + ' to learn more about interactive tables.';\n",
              "          element.innerHTML = '';\n",
              "          dataTable['output_type'] = 'display_data';\n",
              "          await google.colab.output.renderOutput(dataTable, element);\n",
              "          const docLink = document.createElement('div');\n",
              "          docLink.innerHTML = docLinkHtml;\n",
              "          element.appendChild(docLink);\n",
              "        }\n",
              "      </script>\n",
              "    </div>\n",
              "  </div>\n",
              "  "
            ]
          },
          "metadata": {},
          "execution_count": 81
        }
      ],
      "source": [
        "f1_table.insert(0, 'Models', ['Baseline','Random Forest','Perceptron', 'SGD Lasso', 'SVM'])\n",
        "pd.DataFrame(f1_table)"
      ]
    },
    {
      "cell_type": "code",
      "execution_count": 82,
      "metadata": {
        "colab": {
          "base_uri": "https://localhost:8080/",
          "height": 525
        },
        "id": "aeZ86ITohQVk",
        "outputId": "2069052e-987a-4cb4-cfa7-7f67241d93f7"
      },
      "outputs": [
        {
          "output_type": "display_data",
          "data": {
            "text/plain": [
              "<Figure size 720x504 with 1 Axes>"
            ],
            "image/png": "[encoded data removed]"
          },
          "metadata": {
            "needs_background": "light"
          }
        }
      ],
      "source": [
        "#Bargraph for Comparison of Metrics for Each Model\n",
        "\n",
        "f1_scores.plot(x=\"Models\", y= ['Credit Card','Credit Reporting','Debt Collection','Mortgages & Loans','Retail Banking'], kind = 'bar',\n",
        "               figsize = (10,7), colormap = 'coolwarm', alpha = 0.7)\n",
        "plt.title('F1 SCORES OF TARGET CLASSES PER MODEL', size = 16)\n",
        "plt.show()"
      ]
    },
    {
      "cell_type": "markdown",
      "source": [
        "###**ACCURACY**"
      ],
      "metadata": {
        "id": "YEcB7BjxYY-r"
      }
    },
    {
      "cell_type": "code",
      "execution_count": 83,
      "metadata": {
        "colab": {
          "base_uri": "https://localhost:8080/",
          "height": 206
        },
        "id": "nywMTUKxUoiD",
        "outputId": "1bc20f6f-3dee-4ce5-bf20-d76fc1924362"
      },
      "outputs": [
        {
          "output_type": "execute_result",
          "data": {
            "text/plain": [
              "          Models  Accuracy_score\n",
              "0       Baseline            0.39\n",
              "1  Random Forest            0.83\n",
              "2     Perceptron            0.81\n",
              "3      SGD Lasso            0.83\n",
              "4            SVM            0.84"
            ],
            "text/html": [
              "\n",
              "  <div id=\"df-d5ba0c44-d464-4167-8745-8aa3421c7750\">\n",
              "    <div class=\"colab-df-container\">\n",
              "      <div>\n",
              "<style scoped>\n",
              "    .dataframe tbody tr th:only-of-type {\n",
              "        vertical-align: middle;\n",
              "    }\n",
              "\n",
              "    .dataframe tbody tr th {\n",
              "        vertical-align: top;\n",
              "    }\n",
              "\n",
              "    .dataframe thead th {\n",
              "        text-align: right;\n",
              "    }\n",
              "</style>\n",
              "<table border=\"1\" class=\"dataframe\">\n",
              "  <thead>\n",
              "    <tr style=\"text-align: right;\">\n",
              "      <th></th>\n",
              "      <th>Models</th>\n",
              "      <th>Accuracy_score</th>\n",
              "    </tr>\n",
              "  </thead>\n",
              "  <tbody>\n",
              "    <tr>\n",
              "      <th>0</th>\n",
              "      <td>Baseline</td>\n",
              "      <td>0.39</td>\n",
              "    </tr>\n",
              "    <tr>\n",
              "      <th>1</th>\n",
              "      <td>Random Forest</td>\n",
              "      <td>0.83</td>\n",
              "    </tr>\n",
              "    <tr>\n",
              "      <th>2</th>\n",
              "      <td>Perceptron</td>\n",
              "      <td>0.81</td>\n",
              "    </tr>\n",
              "    <tr>\n",
              "      <th>3</th>\n",
              "      <td>SGD Lasso</td>\n",
              "      <td>0.83</td>\n",
              "    </tr>\n",
              "    <tr>\n",
              "      <th>4</th>\n",
              "      <td>SVM</td>\n",
              "      <td>0.84</td>\n",
              "    </tr>\n",
              "  </tbody>\n",
              "</table>\n",
              "</div>\n",
              "      <button class=\"colab-df-convert\" onclick=\"convertToInteractive('df-d5ba0c44-d464-4167-8745-8aa3421c7750')\"\n",
              "              title=\"Convert this dataframe to an interactive table.\"\n",
              "              style=\"display:none;\">\n",
              "        \n",
              "  <svg xmlns=\"http://www.w3.org/2000/svg\" height=\"24px\"viewBox=\"0 0 24 24\"\n",
              "       width=\"24px\">\n",
              "    <path d=\"M0 0h24v24H0V0z\" fill=\"none\"/>\n",
              "    <path d=\"M18.56 5.44l.94 2.06.94-2.06 2.06-.94-2.06-.94-.94-2.06-.94 2.06-2.06.94zm-11 1L8.5 8.5l.94-2.06 2.06-.94-2.06-.94L8.5 2.5l-.94 2.06-2.06.94zm10 10l.94 2.06.94-2.06 2.06-.94-2.06-.94-.94-2.06-.94 2.06-2.06.94z\"/><path d=\"M17.41 7.96l-1.37-1.37c-.4-.4-.92-.59-1.43-.59-.52 0-1.04.2-1.43.59L10.3 9.45l-7.72 7.72c-.78.78-.78 2.05 0 2.83L4 21.41c.39.39.9.59 1.41.59.51 0 1.02-.2 1.41-.59l7.78-7.78 2.81-2.81c.8-.78.8-2.07 0-2.86zM5.41 20L4 18.59l7.72-7.72 1.47 1.35L5.41 20z\"/>\n",
              "  </svg>\n",
              "      </button>\n",
              "      \n",
              "  <style>\n",
              "    .colab-df-container {\n",
              "      display:flex;\n",
              "      flex-wrap:wrap;\n",
              "      gap: 12px;\n",
              "    }\n",
              "\n",
              "    .colab-df-convert {\n",
              "      background-color: #E8F0FE;\n",
              "      border: none;\n",
              "      border-radius: 50%;\n",
              "      cursor: pointer;\n",
              "      display: none;\n",
              "      fill: #1967D2;\n",
              "      height: 32px;\n",
              "      padding: 0 0 0 0;\n",
              "      width: 32px;\n",
              "    }\n",
              "\n",
              "    .colab-df-convert:hover {\n",
              "      background-color: #E2EBFA;\n",
              "      box-shadow: 0px 1px 2px rgba(60, 64, 67, 0.3), 0px 1px 3px 1px rgba(60, 64, 67, 0.15);\n",
              "      fill: #174EA6;\n",
              "    }\n",
              "\n",
              "    [theme=dark] .colab-df-convert {\n",
              "      background-color: #3B4455;\n",
              "      fill: #D2E3FC;\n",
              "    }\n",
              "\n",
              "    [theme=dark] .colab-df-convert:hover {\n",
              "      background-color: #434B5C;\n",
              "      box-shadow: 0px 1px 3px 1px rgba(0, 0, 0, 0.15);\n",
              "      filter: drop-shadow(0px 1px 2px rgba(0, 0, 0, 0.3));\n",
              "      fill: #FFFFFF;\n",
              "    }\n",
              "  </style>\n",
              "\n",
              "      <script>\n",
              "        const buttonEl =\n",
              "          document.querySelector('#df-d5ba0c44-d464-4167-8745-8aa3421c7750 button.colab-df-convert');\n",
              "        buttonEl.style.display =\n",
              "          google.colab.kernel.accessAllowed ? 'block' : 'none';\n",
              "\n",
              "        async function convertToInteractive(key) {\n",
              "          const element = document.querySelector('#df-d5ba0c44-d464-4167-8745-8aa3421c7750');\n",
              "          const dataTable =\n",
              "            await google.colab.kernel.invokeFunction('convertToInteractive',\n",
              "                                                     [key], {});\n",
              "          if (!dataTable) return;\n",
              "\n",
              "          const docLinkHtml = 'Like what you see? Visit the ' +\n",
              "            '<a target=\"_blank\" href=https://colab.research.google.com/notebooks/data_table.ipynb>data table notebook</a>'\n",
              "            + ' to learn more about interactive tables.';\n",
              "          element.innerHTML = '';\n",
              "          dataTable['output_type'] = 'display_data';\n",
              "          await google.colab.output.renderOutput(dataTable, element);\n",
              "          const docLink = document.createElement('div');\n",
              "          docLink.innerHTML = docLinkHtml;\n",
              "          element.appendChild(docLink);\n",
              "        }\n",
              "      </script>\n",
              "    </div>\n",
              "  </div>\n",
              "  "
            ]
          },
          "metadata": {},
          "execution_count": 83
        }
      ],
      "source": [
        "# merge accuracy and f1_scores dataframe\n",
        "accuracy = pd.DataFrame(accuracy, columns = ['Accuracy_score'])\n",
        "accuracy_table = accuracy.round(decimals = 2)\n",
        "\n",
        "accuracy_table.insert(0, 'Models', ['Baseline','Random Forest','Perceptron', 'SGD Lasso','SVM'])\n",
        "accuracy_table"
      ]
    },
    {
      "cell_type": "code",
      "execution_count": 85,
      "metadata": {
        "colab": {
          "base_uri": "https://localhost:8080/",
          "height": 525
        },
        "id": "73TqQ8gVmPk-",
        "outputId": "5df4392a-14e0-452a-b4a7-d0b3df8580c7"
      },
      "outputs": [
        {
          "output_type": "display_data",
          "data": {
            "text/plain": [
              "<Figure size 720x504 with 1 Axes>"
            ],
            "image/png": "[encoded data removed]"
          },
          "metadata": {
            "needs_background": "light"
          }
        }
      ],
      "source": [
        "#Bargraph for Comparison of Accuracy for Each Model\n",
        "\n",
        "accuracy_table.plot(x=\"Models\", y= ['Accuracy_score'], kind = 'bar',figsize = (10,7), colormap = 'winter', alpha = 0.3)\n",
        "plt.title('ACCURACY SCORES OF TARGET CLASSES PER MODEL', size = 16)\n",
        "plt.show()"
      ]
    },
    {
      "cell_type": "markdown",
      "source": [
        "**Overall,  SVM outperfom other models with highest accuracy scores and higher F1 scores for target classes.**"
      ],
      "metadata": {
        "id": "2YPAZHP9YlmE"
      }
    }
  ],
  "metadata": {
    "colab": {
      "collapsed_sections": [],
      "name": "Final_Project.ipynb",
      "provenance": [],
      "include_colab_link": true
    },
    "kernelspec": {
      "display_name": "Python 3",
      "name": "python3"
    },
    "language_info": {
      "name": "python"
    }
  },
  "nbformat": 4,
  "nbformat_minor": 0
}