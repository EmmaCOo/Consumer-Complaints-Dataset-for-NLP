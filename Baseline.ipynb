{
  "nbformat": 4,
  "nbformat_minor": 0,
  "metadata": {
    "colab": {
      "name": "Baseline.ipynb",
      "provenance": [],
      "collapsed_sections": [],
      "authorship_tag": "ABX9TyM6Q1OUFiJ2WHcee9wE0IqI",
      "include_colab_link": true
    },
    "kernelspec": {
      "name": "python3",
      "display_name": "Python 3"
    },
    "language_info": {
      "name": "python"
    }
  },
  "cells": [
    {
      "cell_type": "markdown",
      "metadata": {
        "id": "view-in-github",
        "colab_type": "text"
      },
      "source": [
        "<a href=\"https://colab.research.google.com/github/EmmaCOo/Consumer-Complaints-Dataset-for-NLP/blob/main/Baseline.ipynb\" target=\"_parent\"><img src=\"https://colab.research.google.com/assets/colab-badge.svg\" alt=\"Open In Colab\"/></a>"
      ]
    },
    {
      "cell_type": "code",
      "source": [
        "# Mount to shared drive\n",
        "from google.colab import drive\n",
        "drive.mount('/content/drive')"
      ],
      "metadata": {
        "colab": {
          "base_uri": "https://localhost:8080/"
        },
        "id": "FI5nMbvG5hJX",
        "outputId": "86196f11-e49e-46f1-ba0f-51e7a4613ae8"
      },
      "execution_count": null,
      "outputs": [
        {
          "output_type": "stream",
          "name": "stdout",
          "text": [
            "Mounted at /content/drive\n"
          ]
        }
      ]
    },
    {
      "cell_type": "markdown",
      "source": [
        "# Baseline Model:"
      ],
      "metadata": {
        "id": "W-igXCsK5D1G"
      }
    },
    {
      "cell_type": "code",
      "execution_count": null,
      "metadata": {
        "id": "c9d7T_Ga4rfP"
      },
      "outputs": [],
      "source": [
        "import numpy as np\n",
        "from sklearn.dummy import DummyClassifier\n",
        "import pandas as pd\n",
        "from sklearn.feature_extraction.text import TfidfVectorizer, CountVectorizer\n",
        "from sklearn.model_selection import train_test_split\n",
        "from sklearn.metrics import classification_report"
      ]
    },
    {
      "cell_type": "code",
      "source": [
        "X_train_xlarge = pd.read_csv('/content/drive/MyDrive/ADS504_MachineLearning_GroupProject/Colab Notebooks/Data/X_train_xlarge.csv', index_col=0)\n",
        "y_train = pd.read_csv('/content/drive/MyDrive/ADS504_MachineLearning_GroupProject/Colab Notebooks/Data/y_train.csv', index_col=0)\n",
        "X_test_xlarge = pd.read_csv('/content/drive/MyDrive/ADS504_MachineLearning_GroupProject/Colab Notebooks/Data/X_test_xlarge.csv', index_col=0)\n",
        "y_test = pd.read_csv('/content/drive/MyDrive/ADS504_MachineLearning_GroupProject/Colab Notebooks/Data/y_test.csv', index_col=0)"
      ],
      "metadata": {
        "id": "lolmFgAN5bBL"
      },
      "execution_count": null,
      "outputs": []
    },
    {
      "cell_type": "code",
      "source": [
        "dummy_clf = DummyClassifier(strategy=\"most_frequent\", random_state=42)\n",
        "dummy_clf.fit(X_train_xlarge, y_train)"
      ],
      "metadata": {
        "colab": {
          "base_uri": "https://localhost:8080/"
        },
        "id": "74JHq9H768Pe",
        "outputId": "f4f2014f-7bdb-443f-cce2-81cdfc980977"
      },
      "execution_count": null,
      "outputs": [
        {
          "output_type": "execute_result",
          "data": {
            "text/plain": [
              "DummyClassifier(random_state=42, strategy='most_frequent')"
            ]
          },
          "metadata": {},
          "execution_count": 4
        }
      ]
    },
    {
      "cell_type": "code",
      "source": [
        "# make predictions using fitted model\n",
        "y_train_pred = dummy_clf.predict(X_train_xlarge)\n",
        "y_test_pred = dummy_clf.predict(X_test_xlarge)"
      ],
      "metadata": {
        "id": "4FDWGBIi6_eX"
      },
      "execution_count": null,
      "outputs": []
    },
    {
      "cell_type": "code",
      "source": [
        "target_names = ['Credit Card', 'Credit Reporting', 'Debt Collection','Mortgages & Loans', 'Retail Banking']\n",
        "print(classification_report(y_train, y_train_pred, target_names=target_names))"
      ],
      "metadata": {
        "colab": {
          "base_uri": "https://localhost:8080/"
        },
        "id": "hv4bTq3T7DB8",
        "outputId": "5917a7fe-4802-44af-d8e8-3cd2cb415a5a"
      },
      "execution_count": null,
      "outputs": [
        {
          "output_type": "stream",
          "name": "stdout",
          "text": [
            "                   precision    recall  f1-score   support\n",
            "\n",
            "      Credit Card       0.00      0.00      0.00      9117\n",
            " Credit Reporting       0.39      1.00      0.56     26085\n",
            "  Debt Collection       0.00      0.00      0.00     11691\n",
            "Mortgages & Loans       0.00      0.00      0.00     11659\n",
            "   Retail Banking       0.00      0.00      0.00      7947\n",
            "\n",
            "         accuracy                           0.39     66499\n",
            "        macro avg       0.08      0.20      0.11     66499\n",
            "     weighted avg       0.15      0.39      0.22     66499\n",
            "\n"
          ]
        },
        {
          "output_type": "stream",
          "name": "stderr",
          "text": [
            "/usr/local/lib/python3.7/dist-packages/sklearn/metrics/_classification.py:1318: UndefinedMetricWarning: Precision and F-score are ill-defined and being set to 0.0 in labels with no predicted samples. Use `zero_division` parameter to control this behavior.\n",
            "  _warn_prf(average, modifier, msg_start, len(result))\n",
            "/usr/local/lib/python3.7/dist-packages/sklearn/metrics/_classification.py:1318: UndefinedMetricWarning: Precision and F-score are ill-defined and being set to 0.0 in labels with no predicted samples. Use `zero_division` parameter to control this behavior.\n",
            "  _warn_prf(average, modifier, msg_start, len(result))\n",
            "/usr/local/lib/python3.7/dist-packages/sklearn/metrics/_classification.py:1318: UndefinedMetricWarning: Precision and F-score are ill-defined and being set to 0.0 in labels with no predicted samples. Use `zero_division` parameter to control this behavior.\n",
            "  _warn_prf(average, modifier, msg_start, len(result))\n"
          ]
        }
      ]
    }
  ]
}