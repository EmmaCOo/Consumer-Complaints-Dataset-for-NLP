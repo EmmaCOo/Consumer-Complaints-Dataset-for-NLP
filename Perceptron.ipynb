{
  "nbformat": 4,
  "nbformat_minor": 0,
  "metadata": {
    "colab": {
      "name": "Perceptron.ipynb",
      "provenance": [],
      "collapsed_sections": [],
      "authorship_tag": "ABX9TyOTPVj+bFhqFb9a0gKLnXod",
      "include_colab_link": true
    },
    "kernelspec": {
      "name": "python3",
      "display_name": "Python 3"
    },
    "language_info": {
      "name": "python"
    }
  },
  "cells": [
    {
      "cell_type": "markdown",
      "metadata": {
        "id": "view-in-github",
        "colab_type": "text"
      },
      "source": [
        "<a href=\"https://colab.research.google.com/github/EmmaCOo/Consumer-Complaints-Dataset-for-NLP/blob/main/Perceptron.ipynb\" target=\"_parent\"><img src=\"https://colab.research.google.com/assets/colab-badge.svg\" alt=\"Open In Colab\"/></a>"
      ]
    },
    {
      "cell_type": "code",
      "execution_count": null,
      "metadata": {
        "colab": {
          "base_uri": "https://localhost:8080/"
        },
        "id": "Sl5gQA_4764_",
        "outputId": "726261c4-0c58-4d59-eeb8-4339210d49f9"
      },
      "outputs": [
        {
          "output_type": "stream",
          "name": "stdout",
          "text": [
            "Mounted at /content/drive\n"
          ]
        }
      ],
      "source": [
        "# Mount to shared drive\n",
        "from google.colab import drive\n",
        "drive.mount('/content/drive')"
      ]
    },
    {
      "cell_type": "markdown",
      "source": [
        "### Perceptron:"
      ],
      "metadata": {
        "id": "NxCsUk_DA0jM"
      }
    },
    {
      "cell_type": "code",
      "source": [
        "import numpy as np\n",
        "from sklearn.linear_model import Perceptron\n",
        "import pandas as pd\n",
        "from sklearn.feature_extraction.text import TfidfVectorizer, CountVectorizer\n",
        "from sklearn.model_selection import train_test_split, cross_val_score\n",
        "from sklearn.metrics import classification_report\n",
        "import matplotlib.pyplot as plt\n",
        "import matplotlib\n",
        "import seaborn as sns"
      ],
      "metadata": {
        "id": "DmImgKd-A3bC"
      },
      "execution_count": null,
      "outputs": []
    },
    {
      "cell_type": "code",
      "source": [
        "X_train_small = pd.read_csv('/content/drive/MyDrive/ADS504_MachineLearning_GroupProject/Colab Notebooks/Data/X_train_small.csv', index_col=0)\n",
        "X_train_medium = pd.read_csv('/content/drive/MyDrive/ADS504_MachineLearning_GroupProject/Colab Notebooks/Data/X_train_medium.csv', index_col=0)\n",
        "X_train_large = pd.read_csv('/content/drive/MyDrive/ADS504_MachineLearning_GroupProject/Colab Notebooks/Data/X_train_large.csv', index_col=0)\n",
        "X_train_xlarge = pd.read_csv('/content/drive/MyDrive/ADS504_MachineLearning_GroupProject/Colab Notebooks/Data/X_train_xlarge.csv', index_col=0)\n",
        "\n",
        "X_test_small = pd.read_csv('/content/drive/MyDrive/ADS504_MachineLearning_GroupProject/Colab Notebooks/Data/X_test_small.csv', index_col=0)\n",
        "X_test_medium = pd.read_csv('/content/drive/MyDrive/ADS504_MachineLearning_GroupProject/Colab Notebooks/Data/X_test_medium.csv', index_col=0)\n",
        "X_test_large = pd.read_csv('/content/drive/MyDrive/ADS504_MachineLearning_GroupProject/Colab Notebooks/Data/X_test_large.csv', index_col=0)\n",
        "X_test_xlarge = pd.read_csv('/content/drive/MyDrive/ADS504_MachineLearning_GroupProject/Colab Notebooks/Data/X_test_xlarge.csv', index_col=0)\n",
        "\n",
        "y_train = pd.read_csv('/content/drive/MyDrive/ADS504_MachineLearning_GroupProject/Colab Notebooks/Data/y_train.csv', index_col=0)\n",
        "y_test = pd.read_csv('/content/drive/MyDrive/ADS504_MachineLearning_GroupProject/Colab Notebooks/Data/y_test.csv', index_col=0)\n"
      ],
      "metadata": {
        "id": "lolmFgAN5bBL"
      },
      "execution_count": null,
      "outputs": []
    },
    {
      "cell_type": "markdown",
      "source": [
        "## Perceptron (max_iter = 1)\n"
      ],
      "metadata": {
        "id": "bDheaIv-EaIW"
      }
    },
    {
      "cell_type": "markdown",
      "source": [
        "### Small Words"
      ],
      "metadata": {
        "id": "uLbxNLEzePtV"
      }
    },
    {
      "cell_type": "code",
      "source": [
        "perceptron_clf = Perceptron(max_iter=1, class_weight='balanced', random_state=42).fit(X_train_small, y_train.values.ravel())\n",
        "\n",
        "y_train_pred = perceptron_clf.predict(X_train_small)\n",
        "y_test_pred = perceptron_clf.predict(X_test_small)"
      ],
      "metadata": {
        "colab": {
          "base_uri": "https://localhost:8080/"
        },
        "id": "uTH9BkqRBGyF",
        "outputId": "87a97f39-3adf-4a89-bfa4-ccef24f1aa58"
      },
      "execution_count": null,
      "outputs": [
        {
          "output_type": "stream",
          "name": "stderr",
          "text": [
            "/usr/local/lib/python3.7/dist-packages/sklearn/linear_model/_stochastic_gradient.py:688: ConvergenceWarning: Maximum number of iteration reached before convergence. Consider increasing max_iter to improve the fit.\n",
            "  intercept_init,\n"
          ]
        }
      ]
    },
    {
      "cell_type": "code",
      "source": [
        "target_names = ['Credit Card', 'Credit Reporting', 'Debt Collection','Mortgages & Loans', 'Retail Banking']\n",
        "print(classification_report(y_train, y_train_pred, target_names=target_names))"
      ],
      "metadata": {
        "colab": {
          "base_uri": "https://localhost:8080/"
        },
        "id": "zZ3pkzrND2nM",
        "outputId": "35cddcbb-da32-4bc1-9a53-fb5b74e06201"
      },
      "execution_count": null,
      "outputs": [
        {
          "output_type": "stream",
          "name": "stdout",
          "text": [
            "                   precision    recall  f1-score   support\n",
            "\n",
            "      Credit Card       0.76      0.61      0.67      9117\n",
            " Credit Reporting       0.81      0.75      0.78     26085\n",
            "  Debt Collection       0.84      0.38      0.52     11691\n",
            "Mortgages & Loans       0.52      0.93      0.67     11659\n",
            "   Retail Banking       0.75      0.84      0.79      7947\n",
            "\n",
            "         accuracy                           0.71     66499\n",
            "        macro avg       0.74      0.70      0.69     66499\n",
            "     weighted avg       0.75      0.71      0.70     66499\n",
            "\n"
          ]
        }
      ]
    },
    {
      "cell_type": "markdown",
      "source": [
        "### Medium Words"
      ],
      "metadata": {
        "id": "cQ1-e0WSefdR"
      }
    },
    {
      "cell_type": "code",
      "source": [
        "perceptron_clf = Perceptron(max_iter=1, class_weight='balanced', random_state=42).fit(X_train_medium, y_train.values.ravel())\n",
        "\n",
        "y_train_pred = perceptron_clf.predict(X_train_medium)\n",
        "y_test_pred = perceptron_clf.predict(X_test_medium)"
      ],
      "metadata": {
        "colab": {
          "base_uri": "https://localhost:8080/"
        },
        "outputId": "289b4d8c-8f3b-4427-f6d0-1d4860b35133",
        "id": "p5e07BdKemnx"
      },
      "execution_count": null,
      "outputs": [
        {
          "output_type": "stream",
          "name": "stderr",
          "text": [
            "/usr/local/lib/python3.7/dist-packages/sklearn/linear_model/_stochastic_gradient.py:700: ConvergenceWarning: Maximum number of iteration reached before convergence. Consider increasing max_iter to improve the fit.\n",
            "  ConvergenceWarning,\n"
          ]
        }
      ]
    },
    {
      "cell_type": "code",
      "source": [
        "print(classification_report(y_train, y_train_pred, target_names=target_names))"
      ],
      "metadata": {
        "colab": {
          "base_uri": "https://localhost:8080/"
        },
        "outputId": "165be166-cd62-469d-af7a-e5b9e435c259",
        "id": "pyOdKKnLeo4w"
      },
      "execution_count": null,
      "outputs": [
        {
          "output_type": "stream",
          "name": "stdout",
          "text": [
            "                   precision    recall  f1-score   support\n",
            "\n",
            "      Credit Card       0.81      0.70      0.75      9117\n",
            " Credit Reporting       0.86      0.79      0.82     26085\n",
            "  Debt Collection       0.86      0.51      0.64     11691\n",
            "Mortgages & Loans       0.59      0.95      0.73     11659\n",
            "   Retail Banking       0.79      0.90      0.84      7947\n",
            "\n",
            "         accuracy                           0.77     66499\n",
            "        macro avg       0.78      0.77      0.76     66499\n",
            "     weighted avg       0.80      0.77      0.77     66499\n",
            "\n"
          ]
        }
      ]
    },
    {
      "cell_type": "markdown",
      "source": [
        "### Large Words"
      ],
      "metadata": {
        "id": "KY64n006fHnW"
      }
    },
    {
      "cell_type": "code",
      "source": [
        "perceptron_clf = Perceptron(max_iter=1, class_weight='balanced', random_state=42).fit(X_train_large, y_train.values.ravel())\n",
        "\n",
        "y_train_pred = perceptron_clf.predict(X_train_large)\n",
        "y_test_pred = perceptron_clf.predict(X_test_large)"
      ],
      "metadata": {
        "colab": {
          "base_uri": "https://localhost:8080/"
        },
        "outputId": "9f9c978b-bb4e-4089-cc61-20864090389e",
        "id": "5fj0BaQCfKSW"
      },
      "execution_count": null,
      "outputs": [
        {
          "output_type": "stream",
          "name": "stderr",
          "text": [
            "/usr/local/lib/python3.7/dist-packages/sklearn/linear_model/_stochastic_gradient.py:688: ConvergenceWarning: Maximum number of iteration reached before convergence. Consider increasing max_iter to improve the fit.\n",
            "  intercept_init,\n"
          ]
        }
      ]
    },
    {
      "cell_type": "code",
      "source": [
        "print(classification_report(y_train, y_train_pred, target_names=target_names))"
      ],
      "metadata": {
        "colab": {
          "base_uri": "https://localhost:8080/"
        },
        "outputId": "58b8b59d-2bbe-4ce9-d9db-ed6e51a7e194",
        "id": "ePXoQ9BDfMjy"
      },
      "execution_count": null,
      "outputs": [
        {
          "output_type": "stream",
          "name": "stdout",
          "text": [
            "                   precision    recall  f1-score   support\n",
            "\n",
            "      Credit Card       0.60      0.90      0.72      9117\n",
            " Credit Reporting       0.89      0.75      0.82     26085\n",
            "  Debt Collection       0.84      0.62      0.71     11691\n",
            "Mortgages & Loans       0.72      0.91      0.81     11659\n",
            "   Retail Banking       0.88      0.82      0.85      7947\n",
            "\n",
            "         accuracy                           0.79     66499\n",
            "        macro avg       0.79      0.80      0.78     66499\n",
            "     weighted avg       0.81      0.79      0.79     66499\n",
            "\n"
          ]
        }
      ]
    },
    {
      "cell_type": "markdown",
      "source": [
        "### Xtra Large Words"
      ],
      "metadata": {
        "id": "TvbkdFuRfWfR"
      }
    },
    {
      "cell_type": "code",
      "source": [
        "perceptron_clf = Perceptron(max_iter=1, class_weight='balanced', random_state=42).fit(X_train_xlarge, y_train.values.ravel())\n",
        "\n",
        "y_train_pred = perceptron_clf.predict(X_train_xlarge)\n",
        "y_test_pred = perceptron_clf.predict(X_test_xlarge)"
      ],
      "metadata": {
        "colab": {
          "base_uri": "https://localhost:8080/"
        },
        "outputId": "24232fc3-a76c-4782-db2c-e6949a4c8520",
        "id": "xi2YSwFIfagu"
      },
      "execution_count": null,
      "outputs": [
        {
          "output_type": "stream",
          "name": "stderr",
          "text": [
            "/usr/local/lib/python3.7/dist-packages/sklearn/linear_model/_stochastic_gradient.py:688: ConvergenceWarning: Maximum number of iteration reached before convergence. Consider increasing max_iter to improve the fit.\n",
            "  intercept_init,\n"
          ]
        }
      ]
    },
    {
      "cell_type": "code",
      "source": [
        "print(classification_report(y_train, y_train_pred, target_names=target_names))"
      ],
      "metadata": {
        "colab": {
          "base_uri": "https://localhost:8080/"
        },
        "outputId": "aef2b81b-6cf5-4d51-bce6-5fd5c8a00cf1",
        "id": "cwwUTkK1fcBn"
      },
      "execution_count": null,
      "outputs": [
        {
          "output_type": "stream",
          "name": "stdout",
          "text": [
            "                   precision    recall  f1-score   support\n",
            "\n",
            "      Credit Card       0.74      0.84      0.79      9117\n",
            " Credit Reporting       0.88      0.83      0.85     26085\n",
            "  Debt Collection       0.83      0.71      0.77     11691\n",
            "Mortgages & Loans       0.82      0.88      0.85     11659\n",
            "   Retail Banking       0.82      0.91      0.86      7947\n",
            "\n",
            "         accuracy                           0.83     66499\n",
            "        macro avg       0.82      0.84      0.82     66499\n",
            "     weighted avg       0.83      0.83      0.83     66499\n",
            "\n"
          ]
        }
      ]
    },
    {
      "cell_type": "markdown",
      "source": [
        "## Perceptron (max_iter = 10) & Xtra Large Words"
      ],
      "metadata": {
        "id": "In-gDVfJEjTr"
      }
    },
    {
      "cell_type": "code",
      "source": [
        "perceptron_clf = Perceptron(max_iter=10,class_weight='balanced', random_state=42).fit(X_train_xlarge, y_train.values.ravel())\n",
        "\n",
        "y_train_pred = perceptron_clf.predict(X_train_xlarge)\n",
        "y_test_pred = perceptron_clf.predict(X_test_xlarge)"
      ],
      "metadata": {
        "colab": {
          "base_uri": "https://localhost:8080/"
        },
        "id": "h0Wlqf_LEoF9",
        "outputId": "11b15ed3-d270-4423-89f3-88ad261220c5"
      },
      "execution_count": null,
      "outputs": [
        {
          "output_type": "stream",
          "name": "stderr",
          "text": [
            "/usr/local/lib/python3.7/dist-packages/sklearn/linear_model/_stochastic_gradient.py:688: ConvergenceWarning: Maximum number of iteration reached before convergence. Consider increasing max_iter to improve the fit.\n",
            "  intercept_init,\n"
          ]
        }
      ]
    },
    {
      "cell_type": "code",
      "source": [
        "print(classification_report(y_train, y_train_pred, target_names=target_names))"
      ],
      "metadata": {
        "colab": {
          "base_uri": "https://localhost:8080/"
        },
        "id": "wXJgF4ffEsDM",
        "outputId": "4b0795ff-bf72-40a7-abcc-a9f2806c5dd3"
      },
      "execution_count": null,
      "outputs": [
        {
          "output_type": "stream",
          "name": "stdout",
          "text": [
            "                   precision    recall  f1-score   support\n",
            "\n",
            "      Credit Card       0.57      0.94      0.71      9117\n",
            " Credit Reporting       0.89      0.82      0.85     26085\n",
            "  Debt Collection       0.82      0.76      0.79     11691\n",
            "Mortgages & Loans       0.93      0.74      0.82     11659\n",
            "   Retail Banking       0.90      0.83      0.86      7947\n",
            "\n",
            "         accuracy                           0.81     66499\n",
            "        macro avg       0.82      0.82      0.81     66499\n",
            "     weighted avg       0.84      0.81      0.82     66499\n",
            "\n"
          ]
        }
      ]
    },
    {
      "cell_type": "markdown",
      "source": [
        "## Alpha/Penalty Tuning & Xtra Large Words"
      ],
      "metadata": {
        "id": "IV4MTm3hGKSJ"
      }
    },
    {
      "cell_type": "markdown",
      "source": [
        "### L1 Penalty CV"
      ],
      "metadata": {
        "id": "O0fbnrSGhuBV"
      }
    },
    {
      "cell_type": "code",
      "source": [
        "alphas = [0.00001, 0.0001, 0.001, 0.01, 0.1, 1, 10, 100, 1000]\n",
        "results = []\n",
        "for a in alphas:\n",
        "  l1clf = Perceptron(max_iter=1,penalty = 'l1', alpha= a, class_weight='balanced', random_state=42).fit(X_train_xlarge, y_train.values.ravel())\n",
        "  print('Finished training, alpha=%f' % a)\n",
        "  l1cv = cross_val_score(l1clf, X_train_xlarge, y_train, cv=5,scoring='accuracy',n_jobs=-1)\n",
        "  print('Finished 5-fold CV, alpha=%f' % a)\n",
        "  results.append({'alpha': a, 'L1': l1cv.mean()})\n",
        "l1_acc = pd.DataFrame(results)"
      ],
      "metadata": {
        "colab": {
          "base_uri": "https://localhost:8080/"
        },
        "id": "3wqzgxuwFybM",
        "outputId": "4ee04423-a662-4c83-d4b0-febfb8166952"
      },
      "execution_count": null,
      "outputs": [
        {
          "output_type": "stream",
          "name": "stdout",
          "text": [
            "Finished training, alpha=0.000010\n"
          ]
        },
        {
          "output_type": "stream",
          "name": "stderr",
          "text": [
            "/usr/local/lib/python3.7/dist-packages/sklearn/linear_model/_stochastic_gradient.py:688: ConvergenceWarning: Maximum number of iteration reached before convergence. Consider increasing max_iter to improve the fit.\n",
            "  intercept_init,\n"
          ]
        },
        {
          "output_type": "stream",
          "name": "stdout",
          "text": [
            "Finished 5-fold CV, alpha=0.000010\n"
          ]
        },
        {
          "output_type": "stream",
          "name": "stderr",
          "text": [
            "/usr/local/lib/python3.7/dist-packages/sklearn/linear_model/_stochastic_gradient.py:657: ConvergenceWarning: Maximum number of iteration reached before convergence. Consider increasing max_iter to improve the fit.\n",
            "  classes = np.unique(y)\n"
          ]
        },
        {
          "output_type": "stream",
          "name": "stdout",
          "text": [
            "Finished training, alpha=0.000100\n",
            "Finished 5-fold CV, alpha=0.000100\n"
          ]
        },
        {
          "output_type": "stream",
          "name": "stderr",
          "text": [
            "/usr/local/lib/python3.7/dist-packages/sklearn/linear_model/_stochastic_gradient.py:688: ConvergenceWarning: Maximum number of iteration reached before convergence. Consider increasing max_iter to improve the fit.\n",
            "  intercept_init,\n"
          ]
        },
        {
          "output_type": "stream",
          "name": "stdout",
          "text": [
            "Finished training, alpha=0.001000\n",
            "Finished 5-fold CV, alpha=0.001000\n"
          ]
        },
        {
          "output_type": "stream",
          "name": "stderr",
          "text": [
            "/usr/local/lib/python3.7/dist-packages/sklearn/linear_model/_stochastic_gradient.py:688: ConvergenceWarning: Maximum number of iteration reached before convergence. Consider increasing max_iter to improve the fit.\n",
            "  intercept_init,\n"
          ]
        },
        {
          "output_type": "stream",
          "name": "stdout",
          "text": [
            "Finished training, alpha=0.010000\n",
            "Finished 5-fold CV, alpha=0.010000\n"
          ]
        },
        {
          "output_type": "stream",
          "name": "stderr",
          "text": [
            "/usr/local/lib/python3.7/dist-packages/sklearn/linear_model/_stochastic_gradient.py:688: ConvergenceWarning: Maximum number of iteration reached before convergence. Consider increasing max_iter to improve the fit.\n",
            "  intercept_init,\n"
          ]
        },
        {
          "output_type": "stream",
          "name": "stdout",
          "text": [
            "Finished training, alpha=0.100000\n",
            "Finished 5-fold CV, alpha=0.100000\n"
          ]
        },
        {
          "output_type": "stream",
          "name": "stderr",
          "text": [
            "/usr/local/lib/python3.7/dist-packages/sklearn/linear_model/_stochastic_gradient.py:688: ConvergenceWarning: Maximum number of iteration reached before convergence. Consider increasing max_iter to improve the fit.\n",
            "  intercept_init,\n"
          ]
        },
        {
          "output_type": "stream",
          "name": "stdout",
          "text": [
            "Finished training, alpha=1.000000\n",
            "Finished 5-fold CV, alpha=1.000000\n"
          ]
        },
        {
          "output_type": "stream",
          "name": "stderr",
          "text": [
            "/usr/local/lib/python3.7/dist-packages/sklearn/linear_model/_stochastic_gradient.py:688: ConvergenceWarning: Maximum number of iteration reached before convergence. Consider increasing max_iter to improve the fit.\n",
            "  intercept_init,\n"
          ]
        },
        {
          "output_type": "stream",
          "name": "stdout",
          "text": [
            "Finished training, alpha=10.000000\n",
            "Finished 5-fold CV, alpha=10.000000\n"
          ]
        },
        {
          "output_type": "stream",
          "name": "stderr",
          "text": [
            "/usr/local/lib/python3.7/dist-packages/sklearn/linear_model/_stochastic_gradient.py:688: ConvergenceWarning: Maximum number of iteration reached before convergence. Consider increasing max_iter to improve the fit.\n",
            "  intercept_init,\n"
          ]
        },
        {
          "output_type": "stream",
          "name": "stdout",
          "text": [
            "Finished training, alpha=100.000000\n",
            "Finished 5-fold CV, alpha=100.000000\n"
          ]
        },
        {
          "output_type": "stream",
          "name": "stderr",
          "text": [
            "/usr/local/lib/python3.7/dist-packages/sklearn/linear_model/_stochastic_gradient.py:688: ConvergenceWarning: Maximum number of iteration reached before convergence. Consider increasing max_iter to improve the fit.\n",
            "  intercept_init,\n"
          ]
        },
        {
          "output_type": "stream",
          "name": "stdout",
          "text": [
            "Finished training, alpha=1000.000000\n",
            "Finished 5-fold CV, alpha=1000.000000\n"
          ]
        }
      ]
    },
    {
      "cell_type": "markdown",
      "source": [
        "### L2 Penalty CV"
      ],
      "metadata": {
        "id": "RqSxEzWxhxe8"
      }
    },
    {
      "cell_type": "code",
      "source": [
        "alphas = [0.00001, 0.0001, 0.001, 0.01, 0.1, 1, 10, 100, 1000]\n",
        "results = []\n",
        "for a in alphas:\n",
        " l2clf = Perceptron(max_iter=1,penalty = 'l2', alpha= a, class_weight='balanced', random_state=42).fit(X_train_xlarge, y_train.values.ravel())\n",
        " print('Finished training, alpha=%f' % a)\n",
        " l2cv = cross_val_score(l2clf, X_train_xlarge, y_train, cv=5,scoring='accuracy',n_jobs=-1)\n",
        " print('Finished 5-fold CV, alpha=%f' % a)\n",
        " results.append({'alpha': a, 'L2': l2cv.mean()})\n",
        "l2_acc = pd.DataFrame(results)"
      ],
      "metadata": {
        "colab": {
          "base_uri": "https://localhost:8080/"
        },
        "id": "5cTEBAsHH5NS",
        "outputId": "f7bd0ecb-e18e-422c-99bb-66733bfa525a"
      },
      "execution_count": null,
      "outputs": [
        {
          "output_type": "stream",
          "name": "stderr",
          "text": [
            "/usr/local/lib/python3.7/dist-packages/sklearn/linear_model/_stochastic_gradient.py:688: ConvergenceWarning: Maximum number of iteration reached before convergence. Consider increasing max_iter to improve the fit.\n",
            "  intercept_init,\n"
          ]
        },
        {
          "output_type": "stream",
          "name": "stdout",
          "text": [
            "Finished training, alpha=0.000010\n",
            "Finished 5-fold CV, alpha=0.000010\n"
          ]
        },
        {
          "output_type": "stream",
          "name": "stderr",
          "text": [
            "/usr/local/lib/python3.7/dist-packages/sklearn/linear_model/_stochastic_gradient.py:688: ConvergenceWarning: Maximum number of iteration reached before convergence. Consider increasing max_iter to improve the fit.\n",
            "  intercept_init,\n"
          ]
        },
        {
          "output_type": "stream",
          "name": "stdout",
          "text": [
            "Finished training, alpha=0.000100\n",
            "Finished 5-fold CV, alpha=0.000100\n"
          ]
        },
        {
          "output_type": "stream",
          "name": "stderr",
          "text": [
            "/usr/local/lib/python3.7/dist-packages/sklearn/linear_model/_stochastic_gradient.py:688: ConvergenceWarning: Maximum number of iteration reached before convergence. Consider increasing max_iter to improve the fit.\n",
            "  intercept_init,\n"
          ]
        },
        {
          "output_type": "stream",
          "name": "stdout",
          "text": [
            "Finished training, alpha=0.001000\n",
            "Finished 5-fold CV, alpha=0.001000\n"
          ]
        },
        {
          "output_type": "stream",
          "name": "stderr",
          "text": [
            "/usr/local/lib/python3.7/dist-packages/sklearn/linear_model/_stochastic_gradient.py:688: ConvergenceWarning: Maximum number of iteration reached before convergence. Consider increasing max_iter to improve the fit.\n",
            "  intercept_init,\n"
          ]
        },
        {
          "output_type": "stream",
          "name": "stdout",
          "text": [
            "Finished training, alpha=0.010000\n",
            "Finished 5-fold CV, alpha=0.010000\n"
          ]
        },
        {
          "output_type": "stream",
          "name": "stderr",
          "text": [
            "/usr/local/lib/python3.7/dist-packages/sklearn/linear_model/_stochastic_gradient.py:688: ConvergenceWarning: Maximum number of iteration reached before convergence. Consider increasing max_iter to improve the fit.\n",
            "  intercept_init,\n"
          ]
        },
        {
          "output_type": "stream",
          "name": "stdout",
          "text": [
            "Finished training, alpha=0.100000\n",
            "Finished 5-fold CV, alpha=0.100000\n"
          ]
        },
        {
          "output_type": "stream",
          "name": "stderr",
          "text": [
            "/usr/local/lib/python3.7/dist-packages/sklearn/linear_model/_stochastic_gradient.py:688: ConvergenceWarning: Maximum number of iteration reached before convergence. Consider increasing max_iter to improve the fit.\n",
            "  intercept_init,\n"
          ]
        },
        {
          "output_type": "stream",
          "name": "stdout",
          "text": [
            "Finished training, alpha=1.000000\n",
            "Finished 5-fold CV, alpha=1.000000\n"
          ]
        },
        {
          "output_type": "stream",
          "name": "stderr",
          "text": [
            "/usr/local/lib/python3.7/dist-packages/sklearn/linear_model/_stochastic_gradient.py:688: ConvergenceWarning: Maximum number of iteration reached before convergence. Consider increasing max_iter to improve the fit.\n",
            "  intercept_init,\n"
          ]
        },
        {
          "output_type": "stream",
          "name": "stdout",
          "text": [
            "Finished training, alpha=10.000000\n",
            "Finished 5-fold CV, alpha=10.000000\n"
          ]
        },
        {
          "output_type": "stream",
          "name": "stderr",
          "text": [
            "/usr/local/lib/python3.7/dist-packages/sklearn/linear_model/_stochastic_gradient.py:688: ConvergenceWarning: Maximum number of iteration reached before convergence. Consider increasing max_iter to improve the fit.\n",
            "  intercept_init,\n"
          ]
        },
        {
          "output_type": "stream",
          "name": "stdout",
          "text": [
            "Finished training, alpha=100.000000\n",
            "Finished 5-fold CV, alpha=100.000000\n"
          ]
        },
        {
          "output_type": "stream",
          "name": "stderr",
          "text": [
            "/usr/local/lib/python3.7/dist-packages/sklearn/linear_model/_stochastic_gradient.py:688: ConvergenceWarning: Maximum number of iteration reached before convergence. Consider increasing max_iter to improve the fit.\n",
            "  intercept_init,\n"
          ]
        },
        {
          "output_type": "stream",
          "name": "stdout",
          "text": [
            "Finished training, alpha=1000.000000\n",
            "Finished 5-fold CV, alpha=1000.000000\n"
          ]
        }
      ]
    },
    {
      "cell_type": "markdown",
      "source": [
        "### Enet Penalty CV"
      ],
      "metadata": {
        "id": "-Ng5lLvRhz6r"
      }
    },
    {
      "cell_type": "code",
      "source": [
        "alphas = [0.00001, 0.0001, 0.001, 0.01, 0.1, 1, 10, 100, 1000]\n",
        "results = []\n",
        "for a in alphas:\n",
        "  enetclf = Perceptron(max_iter=1,penalty = 'elasticnet', alpha= a, class_weight='balanced', random_state=42).fit(X_train_xlarge, y_train.values.ravel())\n",
        "  print('Finished training, alpha=%f' % a)\n",
        "  enetcv = cross_val_score(enetclf, X_train_xlarge, y_train, cv=5,scoring='accuracy',n_jobs=-1)\n",
        "  print('Finished 5-fold CV, alpha=%f' % a)\n",
        "  results.append({'alpha': a, 'Enet': enetcv.mean()})\n",
        "enet_acc = pd.DataFrame(results)"
      ],
      "metadata": {
        "colab": {
          "base_uri": "https://localhost:8080/"
        },
        "id": "zFwVgoasIJuU",
        "outputId": "e55d9c10-19d0-4dd0-9d95-d8a55facc0fa"
      },
      "execution_count": null,
      "outputs": [
        {
          "output_type": "stream",
          "name": "stderr",
          "text": [
            "/usr/local/lib/python3.7/dist-packages/sklearn/linear_model/_stochastic_gradient.py:688: ConvergenceWarning: Maximum number of iteration reached before convergence. Consider increasing max_iter to improve the fit.\n",
            "  intercept_init,\n"
          ]
        },
        {
          "output_type": "stream",
          "name": "stdout",
          "text": [
            "Finished training, alpha=0.000010\n",
            "Finished 5-fold CV, alpha=0.000010\n"
          ]
        },
        {
          "output_type": "stream",
          "name": "stderr",
          "text": [
            "/usr/local/lib/python3.7/dist-packages/sklearn/linear_model/_stochastic_gradient.py:688: ConvergenceWarning: Maximum number of iteration reached before convergence. Consider increasing max_iter to improve the fit.\n",
            "  intercept_init,\n"
          ]
        },
        {
          "output_type": "stream",
          "name": "stdout",
          "text": [
            "Finished training, alpha=0.000100\n",
            "Finished 5-fold CV, alpha=0.000100\n"
          ]
        },
        {
          "output_type": "stream",
          "name": "stderr",
          "text": [
            "/usr/local/lib/python3.7/dist-packages/sklearn/linear_model/_stochastic_gradient.py:688: ConvergenceWarning: Maximum number of iteration reached before convergence. Consider increasing max_iter to improve the fit.\n",
            "  intercept_init,\n"
          ]
        },
        {
          "output_type": "stream",
          "name": "stdout",
          "text": [
            "Finished training, alpha=0.001000\n",
            "Finished 5-fold CV, alpha=0.001000\n"
          ]
        },
        {
          "output_type": "stream",
          "name": "stderr",
          "text": [
            "/usr/local/lib/python3.7/dist-packages/sklearn/linear_model/_stochastic_gradient.py:688: ConvergenceWarning: Maximum number of iteration reached before convergence. Consider increasing max_iter to improve the fit.\n",
            "  intercept_init,\n"
          ]
        },
        {
          "output_type": "stream",
          "name": "stdout",
          "text": [
            "Finished training, alpha=0.010000\n",
            "Finished 5-fold CV, alpha=0.010000\n"
          ]
        },
        {
          "output_type": "stream",
          "name": "stderr",
          "text": [
            "/usr/local/lib/python3.7/dist-packages/sklearn/linear_model/_stochastic_gradient.py:688: ConvergenceWarning: Maximum number of iteration reached before convergence. Consider increasing max_iter to improve the fit.\n",
            "  intercept_init,\n"
          ]
        },
        {
          "output_type": "stream",
          "name": "stdout",
          "text": [
            "Finished training, alpha=0.100000\n",
            "Finished 5-fold CV, alpha=0.100000\n"
          ]
        },
        {
          "output_type": "stream",
          "name": "stderr",
          "text": [
            "/usr/local/lib/python3.7/dist-packages/sklearn/linear_model/_stochastic_gradient.py:688: ConvergenceWarning: Maximum number of iteration reached before convergence. Consider increasing max_iter to improve the fit.\n",
            "  intercept_init,\n"
          ]
        },
        {
          "output_type": "stream",
          "name": "stdout",
          "text": [
            "Finished training, alpha=1.000000\n",
            "Finished 5-fold CV, alpha=1.000000\n"
          ]
        },
        {
          "output_type": "stream",
          "name": "stderr",
          "text": [
            "/usr/local/lib/python3.7/dist-packages/sklearn/linear_model/_stochastic_gradient.py:688: ConvergenceWarning: Maximum number of iteration reached before convergence. Consider increasing max_iter to improve the fit.\n",
            "  intercept_init,\n"
          ]
        },
        {
          "output_type": "stream",
          "name": "stdout",
          "text": [
            "Finished training, alpha=10.000000\n",
            "Finished 5-fold CV, alpha=10.000000\n"
          ]
        },
        {
          "output_type": "stream",
          "name": "stderr",
          "text": [
            "/usr/local/lib/python3.7/dist-packages/sklearn/linear_model/_stochastic_gradient.py:688: ConvergenceWarning: Maximum number of iteration reached before convergence. Consider increasing max_iter to improve the fit.\n",
            "  intercept_init,\n"
          ]
        },
        {
          "output_type": "stream",
          "name": "stdout",
          "text": [
            "Finished training, alpha=100.000000\n",
            "Finished 5-fold CV, alpha=100.000000\n"
          ]
        },
        {
          "output_type": "stream",
          "name": "stderr",
          "text": [
            "/usr/local/lib/python3.7/dist-packages/sklearn/linear_model/_stochastic_gradient.py:688: ConvergenceWarning: Maximum number of iteration reached before convergence. Consider increasing max_iter to improve the fit.\n",
            "  intercept_init,\n"
          ]
        },
        {
          "output_type": "stream",
          "name": "stdout",
          "text": [
            "Finished training, alpha=1000.000000\n",
            "Finished 5-fold CV, alpha=1000.000000\n"
          ]
        }
      ]
    },
    {
      "cell_type": "markdown",
      "source": [
        "### Graphing results"
      ],
      "metadata": {
        "id": "jIALH-Nkh3wP"
      }
    },
    {
      "cell_type": "code",
      "source": [
        "sns.lineplot(data=l1_acc, x=\"alpha\", y=\"L1\", label= 'L1')\n",
        "sns.lineplot(data=l2_acc, x=\"alpha\", y=\"L2\", label= 'L2')\n",
        "sns.lineplot(data=enet_acc, x=\"alpha\", y=\"Enet\", label='Enet')\n",
        "\n",
        "plt.title('Regularization Accuracy', size=16)\n",
        "plt.xlabel('Alpha Value')\n",
        "plt.xscale('log')\n",
        "plt.ylabel('Accuracy')\n",
        "plt.legend()\n",
        "plt.show()"
      ],
      "metadata": {
        "colab": {
          "base_uri": "https://localhost:8080/",
          "height": 301
        },
        "id": "kSbJDQQ9God1",
        "outputId": "1c958059-cef8-4365-af5a-ce77d8b318e6"
      },
      "execution_count": null,
      "outputs": [
        {
          "output_type": "display_data",
          "data": {
            "text/plain": [
              "<Figure size 432x288 with 1 Axes>"
            ],
            "image/png": "[encoded data removed]"
          },
          "metadata": {
            "needs_background": "light"
          }
        }
      ]
    }
  ]
}